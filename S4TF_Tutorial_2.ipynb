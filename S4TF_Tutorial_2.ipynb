{
  "nbformat": 4,
  "nbformat_minor": 0,
  "metadata": {
    "colab": {
      "name": "S4TF Tutorial 2",
      "version": "0.3.2",
      "provenance": [],
      "collapsed_sections": []
    },
    "language_info": {
      "file_extension": ".swift",
      "mimetype": "text/x-swift",
      "name": "swift",
      "version": ""
    },
    "kernelspec": {
      "display_name": "Swift",
      "language": "swift",
      "name": "swift"
    },
    "accelerator": "GPU"
  },
  "cells": [
    {
      "cell_type": "markdown",
      "metadata": {
        "colab_type": "text",
        "id": "QyCcF45zBQ3E"
      },
      "source": [
        "##### Copyright 2019 The TensorFlow Authors. [Licensed under the Apache License, Version 2.0](#scrollTo=y_UVSRtBBsJk)."
      ]
    },
    {
      "cell_type": "code",
      "metadata": {
        "colab_type": "code",
        "id": "CPII1rGR2rF9",
        "scrolled": true,
        "colab": {}
      },
      "source": [
        "#@title Licensed under the Apache License, Version 2.0 (the \"License\"); { display-mode: \"form\" }\n",
        "// Licensed under the Apache License, Version 2.0 (the \"License\");\n",
        "// you may not use this file except in compliance with the License.\n",
        "// You may obtain a copy of the License at\n",
        "//\n",
        "// https://www.apache.org/licenses/LICENSE-2.0\n",
        "//\n",
        "// Unless required by applicable law or agreed to in writing, software\n",
        "// distributed under the License is distributed on an \"AS IS\" BASIS,\n",
        "// WITHOUT WARRANTIES OR CONDITIONS OF ANY KIND, either express or implied.\n",
        "// See the License for the specific language governing permissions and\n",
        "// limitations under the License."
      ],
      "execution_count": 0,
      "outputs": []
    },
    {
      "cell_type": "markdown",
      "metadata": {
        "colab_type": "text",
        "id": "YHI3vyhv5p85"
      },
      "source": [
        "## **The Basics: Training Your First Model**"
      ]
    },
    {
      "cell_type": "markdown",
      "metadata": {
        "colab_type": "text",
        "id": "OVi775ZJ2bsy"
      },
      "source": [
        "<table class=\"tfo-notebook-buttons\" align=\"left\">\n",
        "  <td>\n",
        "    <a target=\"_blank\" href=\"https://colab.research.google.com/drive/1Gp5ypYsDZ3QPzgNBCUbW3h6fMj3asz9y\"><img src=\"https://www.tensorflow.org/images/colab_logo_32px.png\" />Run in Google Colab</a>\n",
        "  </td>\n",
        "  <td>\n",
        "    <a target=\"_blank\" href=\"Link to be updated\"><img src=\"https://www.tensorflow.org/images/GitHub-Mark-32px.png\" />GitHub link to be updated accordingly</a>\n",
        "  </td>\n",
        "</table>"
      ]
    },
    {
      "cell_type": "markdown",
      "metadata": {
        "colab_type": "text",
        "id": "F8YVA_634OFk"
      },
      "source": [
        "Welcome to this Colab where you will train your first Machine Learning model!\n",
        "\n",
        "We'll try to keep things simple here, and only introduce basic concepts. Later Colabs will cover more advanced problems.\n",
        "\n",
        "The problem we will solve is to convert from Celsius to Fahrenheit, where the approximate formula is:\n",
        "\n",
        "$$ f = c \\times 1.8 + 32 $$\n",
        "\n",
        "\n",
        "Of course, it would be simple enough to create a conventional Python function that directly performs this calculation, but that wouldn't be machine learning.\n",
        "\n",
        "\n",
        "Instead, we will give TensorFlow some sample Celsius values (0, 8, 15, 22, 38) and their corresponding Fahrenheit values (32, 46, 59, 72, 100).\n",
        "Then, we will train a model that figures out the above formula through the training process."
      ]
    },
    {
      "cell_type": "code",
      "metadata": {
        "id": "KaGgOzPQbGj3",
        "colab_type": "code",
        "colab": {}
      },
      "source": [
        "import TensorFlow\n",
        "\n",
        "import Python\n",
        "%include \"EnableIPythonDisplay.swift\"\n",
        "IPythonDisplay.shell.enable_matplotlib(\"inline\")\n",
        "let plt = Python.import(\"matplotlib.pyplot\")\n",
        "\n",
        "let np = Python.import(\"numpy\")  // Make numpy available using np."
      ],
      "execution_count": 0,
      "outputs": []
    },
    {
      "cell_type": "markdown",
      "metadata": {
        "colab_type": "text",
        "id": "wwJGmDrQ0EoB"
      },
      "source": [
        "## Set up Training Data\n",
        "\n",
        "As we saw before, supervised Machine Learning is all about figuring out an algorithm given a set of inputs and outputs. Since the task in this Codelab is to create a model that can give the temperature in Fahrenheit when given the degrees in Celsius, we create two lists `celsiusTemperatures` and `fahrenheitTemperatures` that we can use to train our model."
      ]
    },
    {
      "cell_type": "code",
      "metadata": {
        "id": "Q_XrcNGNbejX",
        "colab_type": "code",
        "outputId": "d3fcd632-03ff-443e-9eef-aae4c04dfd90",
        "colab": {
          "base_uri": "https://localhost:8080/",
          "height": 136
        }
      },
      "source": [
        "let celsiusTemperatures:[Float] = [-40, -10,  0,  8, 15, 22,  38]\n",
        "let input = Tensor<Float>(shape: TensorShape(7, 1), scalars: celsiusTemperatures)\n",
        "let fahrenheitTemperatures:[Float] = [-40,  14, 32, 46, 59, 72, 100]\n",
        "let output = Tensor<Float>(shape: TensorShape(7, 1), scalars: fahrenheitTemperatures)\n",
        "\n",
        "for (index, celsiusTemperature) in celsiusTemperatures.enumerated() {\n",
        "    print(\"\\(celsiusTemperature) degrees Celsius = \\(fahrenheitTemperatures[index]) degrees Fahrenheit\")\n",
        "}"
      ],
      "execution_count": 3,
      "outputs": [
        {
          "output_type": "stream",
          "text": [
            "-40.0 degrees Celsius = -40.0 degrees Fahrenheit\r\n",
            "-10.0 degrees Celsius = 14.0 degrees Fahrenheit\r\n",
            "0.0 degrees Celsius = 32.0 degrees Fahrenheit\r\n",
            "8.0 degrees Celsius = 46.0 degrees Fahrenheit\r\n",
            "15.0 degrees Celsius = 59.0 degrees Fahrenheit\r\n",
            "22.0 degrees Celsius = 72.0 degrees Fahrenheit\r\n",
            "38.0 degrees Celsius = 100.0 degrees Fahrenheit\r\n"
          ],
          "name": "stdout"
        }
      ]
    },
    {
      "cell_type": "markdown",
      "metadata": {
        "id": "I1XJ5nk3tZHJ",
        "colab_type": "text"
      },
      "source": [
        "### Some Machine Learning terminology\n",
        "\n",
        " - **Feature** — The input(s) to our model. In this case, a single value — the degrees in Celsius.\n",
        "\n",
        " - **Labels** — The output our model predicts. In this case, a single value — the degrees in Fahrenheit.\n",
        " \n",
        " - **Example** — A pair of inputs/outputs used during training. In our case a pair of values from `celsiusTemperatures` and `fahrenheitTemperatures` at a specific index, such as `(22,72)`.\n",
        "\n",
        "\n"
      ]
    },
    {
      "cell_type": "markdown",
      "metadata": {
        "id": "3BEsYpvYtkwy",
        "colab_type": "text"
      },
      "source": [
        "### Why model?\n",
        "\n",
        "A *[model](https://developers.google.com/machine-learning/crash-course/glossary#model)* is a relationship between features and the label.  For the Celsius to Fahrenheit Conersion problem, the model defines the relationship between the Celsius Temperature and Fahrenheit Temperatures. Some simple models can be described with a few lines of algebra, but complex machine learning models have a large number of parameters that are difficult to summarize.\n",
        "\n",
        "Could you determine the relationship between the two *without* using machine learning?  That is, could you use traditional programming techniques (for example, a lot of conditional statements) to create a model?  Perhaps—if you analyzed the dataset long enough to determine the relationships between temperatures. And this becomes difficult—maybe impossible—on more complicated datasets. A good machine learning approach *determines the model for you*. If you feed enough representative examples into the right machine learning model type, the program will figure out the relationships for you.\n",
        "\n",
        "### Select the model\n",
        "\n",
        "We need to select the kind of model to train. We will use simplest possible model we can, a Dense network. Since the problem is straightforward, this network will require only a single layer, with a single neuron. \n",
        "\n"
      ]
    },
    {
      "cell_type": "markdown",
      "metadata": {
        "id": "EycLbiRvt7wE",
        "colab_type": "text"
      },
      "source": [
        "### Create a model using the Swift for TensorFlow Deep Learning Library\n",
        "\n",
        "The [Swift for TensorFlow Deep Learning Library](https://github.com/tensorflow/swift-apis) defines primitive layers and conventions for wiring them together, which makes it easy to build models and experiment.\n",
        "\n",
        "A model is a `struct` that conforms to [`Layer`](https://www.tensorflow.org/swift/api_docs/Protocols/Layer), which means that it defines a [`call(_:)`](https://www.tensorflow.org/swift/api_docs/Protocols/Layer#call_:) method that maps input `Tensor`s to output `Tensor`s. The `call(_:)` method often simply sequences the input through sublayers. Let's define an `c2fConv` that sequences the input through a single [`Dense`](https://www.tensorflow.org/swift/api_docs/Structs/Dense) layer.\n",
        "\n",
        "*   `inputSize:1` — This specifies that the input to this layer is a single value. Since this is the first (and only) layer, that input shape is the input shape of the entire model. The single value is a Tensor matrix of floating point numbers, representing degrees Celsius.\n",
        "\n",
        "* `outputSize:1` — This specifies that the output of this layer is a single value. The single value is a tensor matrix of floating point numbers, representing degrees Fahrenheit."
      ]
    },
    {
      "cell_type": "code",
      "metadata": {
        "id": "VNF9rry4biBh",
        "colab_type": "code",
        "colab": {}
      },
      "source": [
        "struct c2fConv: Layer {\n",
        "    \n",
        "    var l0 = Dense<Float>(inputSize:1, outputSize:1)\n",
        "  \n",
        "    @differentiable\n",
        "    func call(_ input: Tensor<Float>) -> Tensor<Float> {\n",
        "        return l0(input)\n",
        "    }\n",
        "  \n",
        "}\n",
        "\n",
        "var model = c2fConv()"
      ],
      "execution_count": 0,
      "outputs": []
    },
    {
      "cell_type": "markdown",
      "metadata": {
        "id": "zqqNLzNcwr0m",
        "colab_type": "text"
      },
      "source": [
        "### Create an optimizer\n",
        "\n",
        "An *[optimizer](https://developers.google.com/machine-learning/crash-course/glossary#optimizer)* applies the computed gradients to the model's variables to minimize the `loss` function. You can think of the loss function as a curved surface (see Figure 3) and we want to find its lowest point by walking around. The gradients point in the direction of steepest ascent—so we'll travel the opposite way and move down the hill. By iteratively calculating the loss and gradient for each batch, we'll adjust the model during training. Gradually, the model will find the best combination of weights and bias to minimize loss. And the lower the loss, the better the model's predictions.\n",
        "\n",
        "<table>\n",
        "  <tr><td>\n",
        "    <img src=\"https://cs231n.github.io/assets/nn3/opt1.gif\" width=\"70%\"\n",
        "         alt=\"Optimization algorithms visualized over time in 3D space.\">\n",
        "  </td></tr>\n",
        "  <tr><td align=\"center\">\n",
        "    <b>Figure 3.</b> Optimization algorithms visualized over time in 3D space.<br/>(Source: <a href=\"http://cs231n.github.io/neural-networks-3/\">Stanford class CS231n</a>, MIT License, Image credit: <a href=\"https://twitter.com/alecrad\">Alec Radford</a>)\n",
        "  </td></tr>\n",
        "</table>\n",
        "\n",
        "Swift for TensorFlow has many [optimization algorithms](https://github.com/rxwei/DeepLearning/blob/master/Sources/DeepLearning/Optimizer.swift) available for training. This model uses the Adam optimizer that implements the *[Adam Algorithm](http://arxiv.org/abs/1412.6980). \n",
        "\n",
        "During training, the optimizer function is used to calculate adjustments to the model's internal variables. The goal is to adjust the internal variables until the model (which is really a math function) mirrors the actual equation for converting Celsius to Fahrenheit.\n",
        "\n",
        "TensorFlow uses numerical analysis to perform this tuning, and all this complexity is hidden from you so we will not go into the details here. What is useful to know about these parameters are:\n",
        "\n",
        "The loss function ([mean squared error](https://en.wikipedia.org/wiki/Mean_squared_error)) and the optimizer ([Adam](https://machinelearningmastery.com/adam-optimization-algorithm-for-deep-learning/)) used here are standard for simple models like this one, but many others are available. It is not important to know how these specific functions work at this point.\n",
        "\n",
        "One part of the Optimizer you may need to think about when building your own models is the learning rate (`0.1` in the code above). This is the step size taken when adjusting values in the model. If the value is too small, it will take too many iterations to train the model. Too large, and accuracy goes down. Finding a good value often involves some trial and error, but the range is usually within 0.001 (default), and 0.1"
      ]
    },
    {
      "cell_type": "code",
      "metadata": {
        "id": "wcQ0ZisSvpQL",
        "colab_type": "code",
        "colab": {}
      },
      "source": [
        "let optimizer = Adam(for: model, learningRate: 0.1)"
      ],
      "execution_count": 0,
      "outputs": []
    },
    {
      "cell_type": "code",
      "metadata": {
        "id": "-LDM-Xh5vqbz",
        "colab_type": "code",
        "colab": {}
      },
      "source": [
        "Context.local.learningPhase = .training"
      ],
      "execution_count": 0,
      "outputs": []
    },
    {
      "cell_type": "code",
      "metadata": {
        "id": "01cGnbrRvqlM",
        "colab_type": "code",
        "colab": {}
      },
      "source": [
        "let epochCount = 500\n",
        "var trainLossResults: [Float] = []"
      ],
      "execution_count": 0,
      "outputs": []
    },
    {
      "cell_type": "markdown",
      "metadata": {
        "id": "8jR2xg5oxbGm",
        "colab_type": "text"
      },
      "source": [
        "### Training loop\n",
        "\n",
        "With all the pieces in place, the model is ready for training! A training loop feeds the dataset examples into the model to help it make better predictions. The following code block sets up these training steps:\n",
        "\n",
        "1. Iterate each *epoch*. An epoch is one pass through the dataset.\n",
        "2. Within an epoch, iterate over each example in the training `Dataset` grabbing its *features* (`x`) and *label* (`y`).\n",
        "3. Using the example's features, make a prediction and compare it with the label. Measure the inaccuracy of the prediction and use that to calculate the model's loss and gradients.\n",
        "4. Use Adam Algorithm to update the model's variables.\n",
        "5. Keep track of some stats for visualization.\n",
        "6. Repeat for each epoch.\n",
        "\n",
        "The `epochCount` variable is the number of times to loop over the dataset collection. Counter-intuitively, training a model longer does not guarantee a better model. `epochCount` is a *[hyperparameter](https://developers.google.com/machine-learning/glossary/#hyperparameter)* that you can tune. Choosing the right number usually requires both experience and experimentation."
      ]
    },
    {
      "cell_type": "markdown",
      "metadata": {
        "id": "iyhGF0Q_v8LU",
        "colab_type": "text"
      },
      "source": [
        "### Choose a loss function\n",
        "\n",
        "Both training and evaluation stages need to calculate the model's *[loss](https://developers.google.com/machine-learning/crash-course/glossary#loss)*. This measures how off a model's predictions are from the desired label, in other words, how bad the model is performing. We want to minimize, or optimize, this value.\n",
        "\n",
        "Our model will calculate its loss using the [`meanSquaredError(predicted:expected:)`](https://www.tensorflow.org/swift/api_docs/Functions#meansquarederrorpredicted:expected:) function which takes the model's class ouput predictions and the desired label, and returns the mean squared error across the examples."
      ]
    },
    {
      "cell_type": "code",
      "metadata": {
        "id": "C32YpsAevqtR",
        "colab_type": "code",
        "outputId": "32784f62-db51-4620-84c4-7be384b34e0c",
        "colab": {
          "base_uri": "https://localhost:8080/",
          "height": 442
        }
      },
      "source": [
        "func accuracy(predictions: Tensor<Float>, truths: Tensor<Float>) -> Float {\n",
        "    return Tensor<Float>(predictions .== truths).mean().scalarized()\n",
        "}\n",
        "\n",
        "for epoch in 1...epochCount {\n",
        "    var epochLoss: Float = 0\n",
        "    let (loss, grad) = model.valueWithGradient { (model: c2fConv) -> Tensor<Float> in\n",
        "        let pred = model(input)\n",
        "        return meanSquaredError(predicted: pred, expected: output)\n",
        "    }\n",
        "        optimizer.update(&model.allDifferentiableVariables, along: grad)\n",
        "    epochLoss=loss.scalarized()\n",
        "    trainLossResults.append(epochLoss)\n",
        "    if epoch % 20 == 0 {\n",
        "        print(\"Epoch \\(epoch): Loss: \\(loss)\")\n",
        "    }\n",
        "}"
      ],
      "execution_count": 8,
      "outputs": [
        {
          "output_type": "stream",
          "text": [
            "Epoch 20: Loss: 2057.7285\n",
            "Epoch 40: Loss: 783.44727\n",
            "Epoch 60: Loss: 696.77545\n",
            "Epoch 80: Loss: 605.42816\n",
            "Epoch 100: Loss: 530.93463\n",
            "Epoch 120: Loss: 463.2233\n",
            "Epoch 140: Loss: 401.93466\n",
            "Epoch 160: Loss: 346.7896\n",
            "Epoch 180: Loss: 297.55258\n",
            "Epoch 200: Loss: 253.89125\n",
            "Epoch 220: Loss: 215.42958\n",
            "Epoch 240: Loss: 181.76598\n",
            "Epoch 260: Loss: 152.48943\n",
            "Epoch 280: Loss: 127.190346\n",
            "Epoch 300: Loss: 105.46819\n",
            "Epoch 320: Loss: 86.93768\n",
            "Epoch 340: Loss: 71.232925\n",
            "Epoch 360: Loss: 58.01095\n",
            "Epoch 380: Loss: 46.95355\n",
            "Epoch 400: Loss: 37.768646\n",
            "Epoch 420: Loss: 30.1913\n",
            "Epoch 440: Loss: 23.983059\n",
            "Epoch 460: Loss: 18.931866\n",
            "Epoch 480: Loss: 14.850795\n",
            "Epoch 500: Loss: 11.576724\n"
          ],
          "name": "stdout"
        }
      ]
    },
    {
      "cell_type": "markdown",
      "metadata": {
        "id": "q187ZniLxwc6",
        "colab_type": "text"
      },
      "source": [
        "### Visualize the loss function over time\n",
        "\n",
        "While it's helpful to print out the model's training progress, it's often *more* helpful to see this progress. We can create basic charts using Python's `matplotlib` module.\n",
        "\n",
        "Interpreting these charts takes some experience, but you really want to see the *loss* go down and the *accuracy* go up."
      ]
    },
    {
      "cell_type": "code",
      "metadata": {
        "id": "LNUOZb-qxptI",
        "colab_type": "code",
        "outputId": "60aa7e9f-82c2-40bd-8b7e-6fb8bd64b53f",
        "colab": {
          "base_uri": "https://localhost:8080/",
          "height": 517
        }
      },
      "source": [
        "plt.figure(figsize: [12, 8])\n",
        "\n",
        "plt.plot(trainLossResults)\n",
        "plt.xlabel(\"Epoch\")\n",
        "plt.ylabel(\"Loss\")\n",
        "\n",
        "plt.show()"
      ],
      "execution_count": 9,
      "outputs": [
        {
          "output_type": "display_data",
          "data": {
            "image/png": "[encoded data removed]",
            "text/plain": [
              "<Figure size 864x576 with 1 Axes>"
            ]
          },
          "metadata": {
            "tags": []
          }
        },
        {
          "output_type": "execute_result",
          "data": {
            "text/plain": [
              "None\n"
            ]
          },
          "metadata": {
            "tags": []
          },
          "execution_count": 9
        }
      ]
    },
    {
      "cell_type": "markdown",
      "metadata": {
        "id": "y9a_TxBFx4mI",
        "colab_type": "text"
      },
      "source": [
        "## Use the trained model to make predictions\n",
        "\n",
        "We've trained a model and demonstrated that it's good—but not perfect—at conerting temperatures. Now let's use the trained model to make some predictions on [unlabeled examples](https://developers.google.com/machine-learning/glossary/#unlabeled_example); that is, on examples that contain features but not a label.\n",
        "\n",
        "In real-life, the unlabeled examples could come from lots of different sources including apps, CSV files, and data feeds. For now, we're going to manually provide degree Celsius Temperatures to predict their respective degree Fahrenheit Temperatures."
      ]
    },
    {
      "cell_type": "code",
      "metadata": {
        "id": "Hg_hGeJaxqZX",
        "colab_type": "code",
        "outputId": "13f68a73-d503-4a32-b194-8a18822a2225",
        "colab": {
          "base_uri": "https://localhost:8080/",
          "height": 204
        }
      },
      "source": [
        "let unlabeledDataset:[Float] = [10,20,30,40,50,60,70,80,90,100]\n",
        "let unlabeledDatasetPredictions = Tensor<Float>(shape: TensorShape(10, 1), scalars: unlabeledDataset)\n",
        "\n",
        "let pred = model(unlabeledDatasetPredictions)\n",
        "\n",
        "print(\"prediction:\")\n",
        "print(pred)"
      ],
      "execution_count": 10,
      "outputs": [
        {
          "output_type": "stream",
          "text": [
            "prediction:\r\n",
            "[[46.789177],\r\n",
            " [ 65.06651],\r\n",
            " [ 83.34386],\r\n",
            " [ 101.6212],\r\n",
            " [119.89854],\r\n",
            " [138.17587],\r\n",
            " [156.45322],\r\n",
            " [174.73056],\r\n",
            " [ 193.0079],\r\n",
            " [211.28525]]\r\n"
          ],
          "name": "stdout"
        }
      ]
    },
    {
      "cell_type": "markdown",
      "metadata": {
        "id": "UU2hM02EymdW",
        "colab_type": "text"
      },
      "source": [
        "**The** correct answers are \n",
        "\n",
        "$10 \\times 1.8 + 32 = 50$\n",
        "\n",
        "$20 \\times 1.8 + 32 = 68$\n",
        "\n",
        "$30 \\times 1.8 + 32 = 86$\n",
        "\n",
        "$40 \\times 1.8 + 32 = 104$\n",
        "\n",
        "$50 \\times 1.8 + 32 = 122$\n",
        "\n",
        "$60 \\times 1.8 + 32 = 140$\n",
        "\n",
        "$70 \\times 1.8 + 32 = 158$\n",
        "\n",
        "$80 \\times 1.8 + 32 = 176$\n",
        "\n",
        "$90 \\times 1.8 + 32 = 194$\n",
        "\n",
        "$100 \\times 1.8 + 32 = 212$\n",
        "\n",
        ", so our model is doing really well.\n",
        "\n",
        "### To review\n",
        "\n",
        "\n",
        "*   We created a model with a Dense layer\n",
        "*   We trained it with 3500 examples (7 pairs, over 500 epochs).\n",
        "\n",
        "Our model tuned the variables (weights) in the Dense layer until it was able to return the correct Fahrenheit value for any Celsius value. (Remember, none of these degree Celsius temperatures were part of our training data.)"
      ]
    },
    {
      "cell_type": "markdown",
      "metadata": {
        "id": "ndGNLPYjzflz",
        "colab_type": "text"
      },
      "source": [
        "## Looking at the layer weights\n",
        "\n",
        "Finally, let's print the internal variables of the Dense layer. "
      ]
    },
    {
      "cell_type": "code",
      "metadata": {
        "id": "e3CYb7sqxr9i",
        "colab_type": "code",
        "outputId": "fd62572b-f229-4da1-c57d-7cdb0e876e04",
        "colab": {
          "base_uri": "https://localhost:8080/",
          "height": 51
        }
      },
      "source": [
        "print(model.l0.weight)\n",
        "print(model.l0.bias)"
      ],
      "execution_count": 11,
      "outputs": [
        {
          "output_type": "stream",
          "text": [
            "[[1.8277341]]\r\n",
            "[28.511833]\r\n"
          ],
          "name": "stdout"
        }
      ]
    },
    {
      "cell_type": "markdown",
      "metadata": {
        "id": "YwPV0Orhzh8h",
        "colab_type": "text"
      },
      "source": [
        "The first variable is close to ~1.8 and the second to ~32. These values (1.8 and 32) are the actual variables in the real conversion formula.\n",
        "\n",
        "This is really close to the values in the conversion formula. We'll explain this in an upcoming video where we show how a Dense layer works, but for a single neuron with a single input and a single output, the internal math looks the same as [the equation for a line](https://en.wikipedia.org/wiki/Linear_equation#Slope%E2%80%93intercept_form), $y = mx + b$, which has the same form as the conversion equation, $f = 1.8c + 32$.\n",
        "\n",
        "Since the form is the same, the variables should converge on the standard values of 1.8 and 32, which is exactly what happened.\n",
        "\n",
        "With additional neurons, additional inputs, and additional outputs, the formula becomes much more complex, but the idea is the same. \n",
        "\n",
        "### A little experiment\n",
        "\n",
        "Just for fun, what if we created more Dense layers with different units, which therefore also has more variables?"
      ]
    },
    {
      "cell_type": "code",
      "metadata": {
        "id": "Yz7ATykXxtSA",
        "colab_type": "code",
        "outputId": "abf7e524-edad-4b24-db5f-cea0499e2535",
        "colab": {
          "base_uri": "https://localhost:8080/",
          "height": 1004
        }
      },
      "source": [
        "let hiddenSize: Int = 4\n",
        "struct c2fConvExp: Layer {\n",
        "    \n",
        "    var layer1 = Dense<Float>(inputSize:1, outputSize:hiddenSize)\n",
        "    var layer2 = Dense<Float>(inputSize: hiddenSize, outputSize: hiddenSize)\n",
        "    var layer3 = Dense<Float>(inputSize: hiddenSize, outputSize: 1)\n",
        "  \n",
        "    @differentiable\n",
        "    func call(_ input: Tensor<Float>) -> Tensor<Float> {\n",
        "        return input.sequenced(through: layer1, layer2, layer3)\n",
        "    }\n",
        "  \n",
        "}\n",
        "\n",
        "var modelExp = c2fConvExp()\n",
        "\n",
        "let optimizerExp = Adam(for: modelExp, learningRate: 0.1)\n",
        "let epochCount = 500\n",
        "var trainLossResultsExp: [Float] = []\n",
        "\n",
        "for epoch in 1...epochCount {\n",
        "    var epochLossExp: Float = 0\n",
        "    let (lossExp, gradExp) = modelExp.valueWithGradient { (modelExp: c2fConvExp) -> Tensor<Float> in\n",
        "        let predExp = modelExp(input)\n",
        "        return meanSquaredError(predicted: predExp, expected: output)\n",
        "    }\n",
        "    \n",
        "    optimizerExp.update(&modelExp.allDifferentiableVariables, along: gradExp)\n",
        "    epochLossExp=lossExp.scalarized()\n",
        "    trainLossResultsExp.append(epochLossExp)\n",
        "    if epoch % 20 == 0 {\n",
        "        print(\"Epoch \\(epoch): Loss: \\(lossExp)\")\n",
        "    }\n",
        "}\n",
        "\n",
        "plt.figure(figsize: [10, 6])\n",
        "\n",
        "plt.plot(trainLossResultsExp)\n",
        "plt.xlabel(\"Epoch\")\n",
        "plt.ylabel(\"Loss\")\n",
        "\n",
        "plt.show()\n",
        "\n",
        "let unlabeledDataset:[Float] = [10,20,30,40,50,60,70,80,90,100]\n",
        "let unlabeledDatasetPredictions = Tensor<Float>(shape: TensorShape(10, 1), scalars: unlabeledDataset)\n",
        "let predExp = modelExp(unlabeledDatasetPredictions)\n",
        "\n",
        "print(\"Experimental prediction:\")\n",
        "print(predExp)"
      ],
      "execution_count": 12,
      "outputs": [
        {
          "output_type": "stream",
          "text": [
            "Epoch 20: Loss: 565.8764\n",
            "Epoch 40: Loss: 31.683239\n",
            "Epoch 60: Loss: 9.464905\n",
            "Epoch 80: Loss: 0.84268147\n",
            "Epoch 100: Loss: 0.101774156\n",
            "Epoch 120: Loss: 0.08076485\n",
            "Epoch 140: Loss: 0.06422522\n",
            "Epoch 160: Loss: 0.063256204\n",
            "Epoch 180: Loss: 0.06305694\n",
            "Epoch 200: Loss: 0.063050374\n",
            "Epoch 220: Loss: 0.06304722\n",
            "Epoch 240: Loss: 0.063044965\n",
            "Epoch 260: Loss: 0.06304533\n",
            "Epoch 280: Loss: 0.06304675\n",
            "Epoch 300: Loss: 0.063045286\n",
            "Epoch 320: Loss: 0.06304575\n",
            "Epoch 340: Loss: 0.06304496\n",
            "Epoch 360: Loss: 0.06304492\n",
            "Epoch 380: Loss: 0.063044555\n",
            "Epoch 400: Loss: 0.06304443\n",
            "Epoch 420: Loss: 0.06304443\n",
            "Epoch 440: Loss: 0.06304443\n",
            "Epoch 460: Loss: 0.06304481\n",
            "Epoch 480: Loss: 0.06304537\n",
            "Epoch 500: Loss: 0.06304581\n"
          ],
          "name": "stdout"
        },
        {
          "output_type": "display_data",
          "data": {
            "image/png": "[encoded data removed]",
            "text/plain": [
              "<Figure size 720x432 with 1 Axes>"
            ]
          },
          "metadata": {
            "tags": []
          }
        },
        {
          "output_type": "stream",
          "text": [
            "Experimental prediction:\r\n",
            "[[49.932014],\r\n",
            " [ 67.91151],\r\n",
            " [ 85.89101],\r\n",
            " [103.87048],\r\n",
            " [121.84998],\r\n",
            " [139.82945],\r\n",
            " [157.80894],\r\n",
            " [175.78844],\r\n",
            " [193.76794],\r\n",
            " [211.74742]]\r\n"
          ],
          "name": "stdout"
        }
      ]
    },
    {
      "cell_type": "markdown",
      "metadata": {
        "id": "Xg3mZNTl03_0",
        "colab_type": "text"
      },
      "source": [
        "We can clearly see that adding more layers to the model made it more accurate as compared to single layered model."
      ]
    },
    {
      "cell_type": "code",
      "metadata": {
        "id": "KSbh5HUO_31j",
        "colab_type": "code",
        "outputId": "821afc03-8e64-47d0-b9b2-65b554fbf08c",
        "colab": {
          "base_uri": "https://localhost:8080/",
          "height": 51
        }
      },
      "source": [
        "print(modelExp.layer1.weight)\n",
        "print(modelExp.layer1.bias)"
      ],
      "execution_count": 13,
      "outputs": [
        {
          "output_type": "stream",
          "text": [
            "[[-0.37883452, 0.014491869,  0.22994336, -0.98306584]]\r\n",
            "[ 3.0906734, -2.6572495,   1.917366,  -3.850572]\r\n"
          ],
          "name": "stdout"
        }
      ]
    },
    {
      "cell_type": "code",
      "metadata": {
        "id": "pGy0iZkIAByb",
        "colab_type": "code",
        "outputId": "8080a78f-6352-4f31-9840-e7e50dcd04d8",
        "colab": {
          "base_uri": "https://localhost:8080/",
          "height": 102
        }
      },
      "source": [
        "print(modelExp.layer2.weight)\n",
        "print(modelExp.layer2.bias)"
      ],
      "execution_count": 14,
      "outputs": [
        {
          "output_type": "stream",
          "text": [
            "[[ 0.06618224,    1.077474,  0.05113079,  -1.7160791],\r\n",
            " [  -1.322734, -0.04316325,  -0.6221513, -0.08463071],\r\n",
            " [-0.18309774, -0.65452445,  0.87844586,  -0.7694159],\r\n",
            " [ -1.1917683, -0.18603942, -0.21825121,    1.201844]]\r\n",
            "[ 3.8894372, -1.3217725,  2.1775153, -3.2737036]\r\n"
          ],
          "name": "stdout"
        }
      ]
    },
    {
      "cell_type": "code",
      "metadata": {
        "id": "N4WKNrwgADmX",
        "colab_type": "code",
        "outputId": "9d5702ff-b3a9-46d4-bc4a-025d55b0ba8a",
        "colab": {
          "base_uri": "https://localhost:8080/",
          "height": 102
        }
      },
      "source": [
        "print(modelExp.layer3.weight)\n",
        "print(modelExp.layer3.bias)"
      ],
      "execution_count": 15,
      "outputs": [
        {
          "output_type": "stream",
          "text": [
            "[[ 0.8631688],\r\n",
            " [0.12599269],\r\n",
            " [0.36529914],\r\n",
            " [-1.0807602]]\r\n",
            "[3.5246596]\r\n"
          ],
          "name": "stdout"
        }
      ]
    },
    {
      "cell_type": "markdown",
      "metadata": {
        "id": "l5tfkz9BAeXf",
        "colab_type": "text"
      },
      "source": [
        "As you can see, this model is also able to predict the corresponding Fahrenheit value really well. But when you look at the variables (weights) in the `layer1`, `layer2` and `layer3` layers, they are nothing even close to ~1.8 and ~32. The added complexity hides the \"simple\" form of the conversion equation."
      ]
    }
  ]
}
