{
  "nbformat": 4,
  "nbformat_minor": 0,
  "metadata": {
    "colab": {
      "name": "S4TF Tutorial 2",
      "version": "0.3.2",
      "provenance": [],
      "collapsed_sections": []
    },
    "language_info": {
      "file_extension": ".swift",
      "mimetype": "text/x-swift",
      "name": "swift",
      "version": ""
    },
    "kernelspec": {
      "display_name": "Swift",
      "language": "swift",
      "name": "swift"
    },
    "accelerator": "GPU"
  },
  "cells": [
    {
      "cell_type": "markdown",
      "metadata": {
        "colab_type": "text",
        "id": "QyCcF45zBQ3E"
      },
      "source": [
        "##### Copyright 2019 The TensorFlow Authors. [Licensed under the Apache License, Version 2.0](#scrollTo=y_UVSRtBBsJk)."
      ]
    },
    {
      "cell_type": "code",
      "metadata": {
        "colab_type": "code",
        "id": "CPII1rGR2rF9",
        "scrolled": true,
        "colab": {}
      },
      "source": [
        "#@title Licensed under the Apache License, Version 2.0 (the \"License\"); { display-mode: \"form\" }\n",
        "// Licensed under the Apache License, Version 2.0 (the \"License\");\n",
        "// you may not use this file except in compliance with the License.\n",
        "// You may obtain a copy of the License at\n",
        "//\n",
        "// https://www.apache.org/licenses/LICENSE-2.0\n",
        "//\n",
        "// Unless required by applicable law or agreed to in writing, software\n",
        "// distributed under the License is distributed on an \"AS IS\" BASIS,\n",
        "// WITHOUT WARRANTIES OR CONDITIONS OF ANY KIND, either express or implied.\n",
        "// See the License for the specific language governing permissions and\n",
        "// limitations under the License."
      ],
      "execution_count": 0,
      "outputs": []
    },
    {
      "cell_type": "markdown",
      "metadata": {
        "colab_type": "text",
        "id": "YHI3vyhv5p85"
      },
      "source": [
        "## **The Basics: Training Your First Model**"
      ]
    },
    {
      "cell_type": "markdown",
      "metadata": {
        "colab_type": "text",
        "id": "OVi775ZJ2bsy"
      },
      "source": [
        "<table class=\"tfo-notebook-buttons\" align=\"left\">\n",
        "  <td>\n",
        "    <a target=\"_blank\" href=\"https://colab.research.google.com/drive/1Gp5ypYsDZ3QPzgNBCUbW3h6fMj3asz9y\"><img src=\"https://www.tensorflow.org/images/colab_logo_32px.png\" />Run in Google Colab</a>\n",
        "  </td>\n",
        "  <td>\n",
        "    <a target=\"_blank\" href=\"Link to be updated\"><img src=\"https://www.tensorflow.org/images/GitHub-Mark-32px.png\" />GitHub link to be updated accordingly</a>\n",
        "  </td>\n",
        "</table>"
      ]
    },
    {
      "cell_type": "markdown",
      "metadata": {
        "colab_type": "text",
        "id": "F8YVA_634OFk"
      },
      "source": [
        "Welcome to this Colab where you will train your first Machine Learning model!\n",
        "\n",
        "We'll try to keep things simple here, and only introduce basic concepts. Later Colabs will cover more advanced problems.\n",
        "\n",
        "The problem we will solve is to convert from Celsius to Fahrenheit, where the approximate formula is:\n",
        "\n",
        "$$ f = c \\times 1.8 + 32 $$\n",
        "\n",
        "\n",
        "Of course, it would be simple enough to create a conventional Python function that directly performs this calculation, but that wouldn't be machine learning.\n",
        "\n",
        "\n",
        "Instead, we will give TensorFlow some sample Celsius values (0, 8, 15, 22, 38) and their corresponding Fahrenheit values (32, 46, 59, 72, 100).\n",
        "Then, we will train a model that figures out the above formula through the training process."
      ]
    },
    {
      "cell_type": "code",
      "metadata": {
        "id": "KaGgOzPQbGj3",
        "colab_type": "code",
        "colab": {}
      },
      "source": [
        "import TensorFlow\n",
        "\n",
        "import Python\n",
        "%include \"EnableIPythonDisplay.swift\"\n",
        "IPythonDisplay.shell.enable_matplotlib(\"inline\")\n",
        "let plt = Python.import(\"matplotlib.pyplot\")\n",
        "\n",
        "let np = Python.import(\"numpy\")  // Make numpy available using np."
      ],
      "execution_count": 0,
      "outputs": []
    },
    {
      "cell_type": "markdown",
      "metadata": {
        "colab_type": "text",
        "id": "wwJGmDrQ0EoB"
      },
      "source": [
        "## Set up Training Data\n",
        "\n",
        "As we saw before, supervised Machine Learning is all about figuring out an algorithm given a set of inputs and outputs. Since the task in this Codelab is to create a model that can give the temperature in Fahrenheit when given the degrees in Celsius, we create two lists `celsiusTemperatures` and `fahrenheitTemperatures` that we can use to train our model."
      ]
    },
    {
      "cell_type": "code",
      "metadata": {
        "id": "Q_XrcNGNbejX",
        "colab_type": "code",
        "outputId": "78d3b1a2-0cff-4773-cc64-8cd13280c6b9",
        "colab": {
          "base_uri": "https://localhost:8080/",
          "height": 136
        }
      },
      "source": [
        "let celsiusTemperatures:[Float] = [-40, -10,  0,  8, 15, 22,  38]\n",
        "let input = Tensor<Float>(shape: TensorShape(7, 1), scalars: celsiusTemperatures)\n",
        "let fahrenheitTemperatures:[Float] = [-40,  14, 32, 46, 59, 72, 100]\n",
        "let output = Tensor<Float>(shape: TensorShape(7, 1), scalars: fahrenheitTemperatures)\n",
        "\n",
        "for (index, celsiusTemperature) in celsiusTemperatures.enumerated() {\n",
        "  print(\"\\(celsiusTemperature) degrees Celsius = \\(fahrenheitTemperatures[index]) degrees Fahrenheit\")\n",
        "}"
      ],
      "execution_count": 3,
      "outputs": [
        {
          "output_type": "stream",
          "text": [
            "-40.0 degrees Celsius = -40.0 degrees Fahrenheit\r\n",
            "-10.0 degrees Celsius = 14.0 degrees Fahrenheit\r\n",
            "0.0 degrees Celsius = 32.0 degrees Fahrenheit\r\n",
            "8.0 degrees Celsius = 46.0 degrees Fahrenheit\r\n",
            "15.0 degrees Celsius = 59.0 degrees Fahrenheit\r\n",
            "22.0 degrees Celsius = 72.0 degrees Fahrenheit\r\n",
            "38.0 degrees Celsius = 100.0 degrees Fahrenheit\r\n"
          ],
          "name": "stdout"
        }
      ]
    },
    {
      "cell_type": "markdown",
      "metadata": {
        "id": "I1XJ5nk3tZHJ",
        "colab_type": "text"
      },
      "source": [
        "### Some Machine Learning terminology\n",
        "\n",
        " - **Feature** — The input(s) to our model. In this case, a single value — the degrees in Celsius.\n",
        "\n",
        " - **Labels** — The output our model predicts. In this case, a single value — the degrees in Fahrenheit.\n",
        " \n",
        " - **Example** — A pair of inputs/outputs used during training. In our case a pair of values from `celsiusTemperatures` and `fahrenheitTemperatures` at a specific index, such as `(22,72)`.\n",
        "\n",
        "\n"
      ]
    },
    {
      "cell_type": "markdown",
      "metadata": {
        "id": "3BEsYpvYtkwy",
        "colab_type": "text"
      },
      "source": [
        "### Why model?\n",
        "\n",
        "A *[model](https://developers.google.com/machine-learning/crash-course/glossary#model)* is a relationship between features and the label.  For the Celsius to Fahrenheit Conersion problem, the model defines the relationship between the Celsius Temperature and Fahrenheit Temperatures. Some simple models can be described with a few lines of algebra, but complex machine learning models have a large number of parameters that are difficult to summarize.\n",
        "\n",
        "Could you determine the relationship between the two *without* using machine learning?  That is, could you use traditional programming techniques (for example, a lot of conditional statements) to create a model?  Perhaps—if you analyzed the dataset long enough to determine the relationships between temperatures. And this becomes difficult—maybe impossible—on more complicated datasets. A good machine learning approach *determines the model for you*. If you feed enough representative examples into the right machine learning model type, the program will figure out the relationships for you.\n",
        "\n",
        "### Select the model\n",
        "\n",
        "We need to select the kind of model to train. We will use simplest possible model we can, a Dense network. Since the problem is straightforward, this network will require only a single layer, with a single neuron. \n",
        "\n"
      ]
    },
    {
      "cell_type": "markdown",
      "metadata": {
        "id": "EycLbiRvt7wE",
        "colab_type": "text"
      },
      "source": [
        "### Create a model using the Swift for TensorFlow Deep Learning Library\n",
        "\n",
        "The [Swift for TensorFlow Deep Learning Library](https://github.com/tensorflow/swift-apis) defines primitive layers and conventions for wiring them together, which makes it easy to build models and experiment.\n",
        "\n",
        "A model is a `struct` that conforms to [`Layer`](https://www.tensorflow.org/swift/api_docs/Protocols/Layer), which means that it defines a [`call(_:)`](https://www.tensorflow.org/swift/api_docs/Protocols/Layer#call_:) method that maps input `Tensor`s to output `Tensor`s. The `call(_:)` method often simply sequences the input through sublayers. Let's define an `c2fConv` that sequences the input through a single [`Dense`](https://www.tensorflow.org/swift/api_docs/Structs/Dense) layer.\n",
        "\n",
        "*   `inputSize:1` — This specifies that the input to this layer is a single value. Since this is the first (and only) layer, that input shape is the input shape of the entire model. The single value is a Tensor matrix of floating point numbers, representing degrees Celsius.\n",
        "\n",
        "* `outputSize:1` — This specifies that the output of this layer is a single value. The single value is a tensor matrix of floating point numbers, representing degrees Fahrenheit."
      ]
    },
    {
      "cell_type": "code",
      "metadata": {
        "id": "VNF9rry4biBh",
        "colab_type": "code",
        "colab": {}
      },
      "source": [
        "import TensorFlow\n",
        "\n",
        "let hiddenSize: Int = 1\n",
        "struct c2fConv: Layer {\n",
        "    \n",
        "    var l0 = Dense<Float>(inputSize:1, outputSize:1)\n",
        "  \n",
        "    @differentiable\n",
        "    func call(_ input: Tensor<Float>) -> Tensor<Float> {\n",
        "        return l0(input)\n",
        "    }\n",
        "  \n",
        "}\n",
        "\n",
        "var model = c2fConv()"
      ],
      "execution_count": 0,
      "outputs": []
    },
    {
      "cell_type": "markdown",
      "metadata": {
        "id": "zqqNLzNcwr0m",
        "colab_type": "text"
      },
      "source": [
        "### Create an optimizer\n",
        "\n",
        "An *[optimizer](https://developers.google.com/machine-learning/crash-course/glossary#optimizer)* applies the computed gradients to the model's variables to minimize the `loss` function. You can think of the loss function as a curved surface (see Figure 3) and we want to find its lowest point by walking around. The gradients point in the direction of steepest ascent—so we'll travel the opposite way and move down the hill. By iteratively calculating the loss and gradient for each batch, we'll adjust the model during training. Gradually, the model will find the best combination of weights and bias to minimize loss. And the lower the loss, the better the model's predictions.\n",
        "\n",
        "<table>\n",
        "  <tr><td>\n",
        "    <img src=\"https://cs231n.github.io/assets/nn3/opt1.gif\" width=\"70%\"\n",
        "         alt=\"Optimization algorithms visualized over time in 3D space.\">\n",
        "  </td></tr>\n",
        "  <tr><td align=\"center\">\n",
        "    <b>Figure 3.</b> Optimization algorithms visualized over time in 3D space.<br/>(Source: <a href=\"http://cs231n.github.io/neural-networks-3/\">Stanford class CS231n</a>, MIT License, Image credit: <a href=\"https://twitter.com/alecrad\">Alec Radford</a>)\n",
        "  </td></tr>\n",
        "</table>\n",
        "\n",
        "Swift for TensorFlow has many [optimization algorithms](https://github.com/rxwei/DeepLearning/blob/master/Sources/DeepLearning/Optimizer.swift) available for training. This model uses the Adam optimizer that implements the *[Adam Algorithm](http://arxiv.org/abs/1412.6980). \n",
        "\n",
        "During training, the optimizer function is used to calculate adjustments to the model's internal variables. The goal is to adjust the internal variables until the model (which is really a math function) mirrors the actual equation for converting Celsius to Fahrenheit.\n",
        "\n",
        "TensorFlow uses numerical analysis to perform this tuning, and all this complexity is hidden from you so we will not go into the details here. What is useful to know about these parameters are:\n",
        "\n",
        "The loss function ([mean squared error](https://en.wikipedia.org/wiki/Mean_squared_error)) and the optimizer ([Adam](https://machinelearningmastery.com/adam-optimization-algorithm-for-deep-learning/)) used here are standard for simple models like this one, but many others are available. It is not important to know how these specific functions work at this point.\n",
        "\n",
        "One part of the Optimizer you may need to think about when building your own models is the learning rate (`0.1` in the code above). This is the step size taken when adjusting values in the model. If the value is too small, it will take too many iterations to train the model. Too large, and accuracy goes down. Finding a good value often involves some trial and error, but the range is usually within 0.001 (default), and 0.1"
      ]
    },
    {
      "cell_type": "code",
      "metadata": {
        "id": "wcQ0ZisSvpQL",
        "colab_type": "code",
        "colab": {}
      },
      "source": [
        "let optimizer = Adam(for: model, learningRate: 0.1)"
      ],
      "execution_count": 0,
      "outputs": []
    },
    {
      "cell_type": "code",
      "metadata": {
        "id": "-LDM-Xh5vqbz",
        "colab_type": "code",
        "colab": {}
      },
      "source": [
        "Context.local.learningPhase = .training"
      ],
      "execution_count": 0,
      "outputs": []
    },
    {
      "cell_type": "code",
      "metadata": {
        "id": "01cGnbrRvqlM",
        "colab_type": "code",
        "colab": {}
      },
      "source": [
        "let epochCount = 500\n",
        "var trainLossResults: [Float] = []"
      ],
      "execution_count": 0,
      "outputs": []
    },
    {
      "cell_type": "markdown",
      "metadata": {
        "id": "8jR2xg5oxbGm",
        "colab_type": "text"
      },
      "source": [
        "### Training loop\n",
        "\n",
        "With all the pieces in place, the model is ready for training! A training loop feeds the dataset examples into the model to help it make better predictions. The following code block sets up these training steps:\n",
        "\n",
        "1. Iterate each *epoch*. An epoch is one pass through the dataset.\n",
        "2. Within an epoch, iterate over each example in the training `Dataset` grabbing its *features* (`x`) and *label* (`y`).\n",
        "3. Using the example's features, make a prediction and compare it with the label. Measure the inaccuracy of the prediction and use that to calculate the model's loss and gradients.\n",
        "4. Use Adam Algorithm to update the model's variables.\n",
        "5. Keep track of some stats for visualization.\n",
        "6. Repeat for each epoch.\n",
        "\n",
        "The `epochCount` variable is the number of times to loop over the dataset collection. Counter-intuitively, training a model longer does not guarantee a better model. `epochCount` is a *[hyperparameter](https://developers.google.com/machine-learning/glossary/#hyperparameter)* that you can tune. Choosing the right number usually requires both experience and experimentation."
      ]
    },
    {
      "cell_type": "markdown",
      "metadata": {
        "id": "iyhGF0Q_v8LU",
        "colab_type": "text"
      },
      "source": [
        "### Choose a loss function\n",
        "\n",
        "Both training and evaluation stages need to calculate the model's *[loss](https://developers.google.com/machine-learning/crash-course/glossary#loss)*. This measures how off a model's predictions are from the desired label, in other words, how bad the model is performing. We want to minimize, or optimize, this value.\n",
        "\n",
        "Our model will calculate its loss using the [`meanSquaredError(predicted:expected:)`](https://www.tensorflow.org/swift/api_docs/Functions#meansquarederrorpredicted:expected:) function which takes the model's class ouput predictions and the desired label, and returns the mean squared error across the examples."
      ]
    },
    {
      "cell_type": "code",
      "metadata": {
        "id": "C32YpsAevqtR",
        "colab_type": "code",
        "outputId": "867cc98b-a371-4e14-f830-69df9312bc83",
        "colab": {
          "base_uri": "https://localhost:8080/",
          "height": 442
        }
      },
      "source": [
        "func accuracy(predictions: Tensor<Float>, truths: Tensor<Float>) -> Float {\n",
        "    return Tensor<Float>(predictions .== truths).mean().scalarized()\n",
        "}\n",
        "\n",
        "for epoch in 1...epochCount {\n",
        "    var epochLoss: Float = 0\n",
        "    let (loss, grad) = model.valueWithGradient { (model: c2fConv) -> Tensor<Float> in\n",
        "        let pred = model(input)\n",
        "        return meanSquaredError(predicted: pred, expected: output)\n",
        "    }\n",
        "        optimizer.update(&model.allDifferentiableVariables, along: grad)\n",
        "    epochLoss=loss.scalarized()\n",
        "    trainLossResults.append(epochLoss)\n",
        "    if epoch % 20 == 0 {\n",
        "        print(\"Epoch \\(epoch): Loss: \\(loss)\")\n",
        "    }\n",
        "}"
      ],
      "execution_count": 8,
      "outputs": [
        {
          "output_type": "stream",
          "text": [
            "Epoch 20: Loss: 1073.5939\n",
            "Epoch 40: Loss: 798.47015\n",
            "Epoch 60: Loss: 680.7817\n",
            "Epoch 80: Loss: 595.49524\n",
            "Epoch 100: Loss: 517.4649\n",
            "Epoch 120: Loss: 447.72845\n",
            "Epoch 140: Loss: 385.2596\n",
            "Epoch 160: Loss: 329.67123\n",
            "Epoch 180: Loss: 280.53046\n",
            "Epoch 200: Loss: 237.36507\n",
            "Epoch 220: Loss: 199.68678\n",
            "Epoch 240: Loss: 167.00589\n",
            "Epoch 260: Loss: 138.84068\n",
            "Epoch 280: Loss: 114.724815\n",
            "Epoch 300: Loss: 94.21238\n",
            "Epoch 320: Loss: 76.88227\n",
            "Epoch 340: Loss: 62.34067\n",
            "Epoch 360: Loss: 50.223755\n",
            "Epoch 380: Loss: 40.198433\n",
            "Epoch 400: Loss: 31.962873\n",
            "Epoch 420: Loss: 25.246517\n",
            "Epoch 440: Loss: 19.809084\n",
            "Epoch 460: Loss: 15.439477\n",
            "Epoch 480: Loss: 11.954118\n",
            "Epoch 500: Loss: 9.194787\n"
          ],
          "name": "stdout"
        }
      ]
    },
    {
      "cell_type": "markdown",
      "metadata": {
        "id": "q187ZniLxwc6",
        "colab_type": "text"
      },
      "source": [
        "### Visualize the loss function over time\n",
        "\n",
        "While it's helpful to print out the model's training progress, it's often *more* helpful to see this progress. We can create basic charts using Python's `matplotlib` module.\n",
        "\n",
        "Interpreting these charts takes some experience, but you really want to see the *loss* go down and the *accuracy* go up."
      ]
    },
    {
      "cell_type": "code",
      "metadata": {
        "id": "LNUOZb-qxptI",
        "colab_type": "code",
        "outputId": "b62ded8d-8bd1-4227-cb5e-747a04d3da28",
        "colab": {
          "base_uri": "https://localhost:8080/",
          "height": 540
        }
      },
      "source": [
        "plt.figure(figsize: [12, 8])\n",
        "\n",
        "plt.plot(trainLossResults)\n",
        "plt.xlabel(\"Epoch\")\n",
        "plt.ylabel(\"Loss\")\n",
        "\n",
        "plt.show()"
      ],
      "execution_count": 9,
      "outputs": [
        {
          "output_type": "display_data",
          "data": {
            "image/png": "[encoded data removed]",
            "text/plain": [
              "<Figure size 864x576 with 1 Axes>"
            ]
          },
          "metadata": {
            "tags": []
          }
        },
        {
          "output_type": "execute_result",
          "data": {
            "text/plain": [
              "None\n"
            ]
          },
          "metadata": {
            "tags": []
          },
          "execution_count": 9
        }
      ]
    },
    {
      "cell_type": "markdown",
      "metadata": {
        "id": "y9a_TxBFx4mI",
        "colab_type": "text"
      },
      "source": [
        "## Use the trained model to make predictions\n",
        "\n",
        "We've trained a model and demonstrated that it's good—but not perfect—at conerting temperatures. Now let's use the trained model to make some predictions on [unlabeled examples](https://developers.google.com/machine-learning/glossary/#unlabeled_example); that is, on examples that contain features but not a label.\n",
        "\n",
        "In real-life, the unlabeled examples could come from lots of different sources including apps, CSV files, and data feeds. For now, we're going to manually provide degree Celsius Temperatures to predict their respective degree Fahrenheit Temperatures."
      ]
    },
    {
      "cell_type": "code",
      "metadata": {
        "id": "Hg_hGeJaxqZX",
        "colab_type": "code",
        "outputId": "5b1ecf69-1681-415a-9a38-1be26373163f",
        "colab": {
          "base_uri": "https://localhost:8080/",
          "height": 204
        }
      },
      "source": [
        "let unlabeledDataset:[Float] = [10,20,30,40,50,60,70,80,90,100]\n",
        "let unlabeledDatasetPredictions = Tensor<Float>(shape: TensorShape(10, 1), scalars: unlabeledDataset)\n",
        "\n",
        "let pred = model(unlabeledDatasetPredictions)\n",
        "\n",
        "print(\"prediction:\")\n",
        "print(pred)"
      ],
      "execution_count": 10,
      "outputs": [
        {
          "output_type": "stream",
          "text": [
            "prediction:\r\n",
            "[[ 47.131523],\r\n",
            " [  65.37367],\r\n",
            " [ 83.615814],\r\n",
            " [101.857956],\r\n",
            " [  120.1001],\r\n",
            " [ 138.34224],\r\n",
            " [  156.5844],\r\n",
            " [ 174.82654],\r\n",
            " [ 193.06868],\r\n",
            " [ 211.31082]]\r\n"
          ],
          "name": "stdout"
        }
      ]
    },
    {
      "cell_type": "markdown",
      "metadata": {
        "id": "UU2hM02EymdW",
        "colab_type": "text"
      },
      "source": [
        "**The** correct answers are \n",
        "\n",
        "$10 \\times 1.8 + 32 = 50$\n",
        "\n",
        "$20 \\times 1.8 + 32 = 68$\n",
        "\n",
        "$30 \\times 1.8 + 32 = 86$\n",
        "\n",
        "$40 \\times 1.8 + 32 = 104$\n",
        "\n",
        "$50 \\times 1.8 + 32 = 122$\n",
        "\n",
        "$60 \\times 1.8 + 32 = 140$\n",
        "\n",
        "$70 \\times 1.8 + 32 = 158$\n",
        "\n",
        "$80 \\times 1.8 + 32 = 176$\n",
        "\n",
        "$90 \\times 1.8 + 32 = 194$\n",
        "\n",
        "$100 \\times 1.8 + 32 = 212$\n",
        "\n",
        ", so our model is doing really well.\n",
        "\n",
        "### To review\n",
        "\n",
        "\n",
        "*   We created a model with a Dense layer\n",
        "*   We trained it with 3500 examples (7 pairs, over 500 epochs).\n",
        "\n",
        "Our model tuned the variables (weights) in the Dense layer until it was able to return the correct Fahrenheit value for any Celsius value. (Remember, none of these degree Celsius temperatures were part of our training data.)"
      ]
    },
    {
      "cell_type": "markdown",
      "metadata": {
        "id": "ndGNLPYjzflz",
        "colab_type": "text"
      },
      "source": [
        "## Looking at the layer weights\n",
        "\n",
        "Finally, let's print the internal variables of the Dense layer. "
      ]
    },
    {
      "cell_type": "code",
      "metadata": {
        "id": "e3CYb7sqxr9i",
        "colab_type": "code",
        "colab": {
          "base_uri": "https://localhost:8080/",
          "height": 51
        },
        "outputId": "083f7b47-63af-48a5-ea7b-cd340a71ab83"
      },
      "source": [
        "print(model.l0.weight)\n",
        "print(model.l0.bias)"
      ],
      "execution_count": 11,
      "outputs": [
        {
          "output_type": "stream",
          "text": [
            "[[1.8242145]]\r\n",
            "[28.889378]\r\n"
          ],
          "name": "stdout"
        }
      ]
    },
    {
      "cell_type": "markdown",
      "metadata": {
        "id": "YwPV0Orhzh8h",
        "colab_type": "text"
      },
      "source": [
        "The first variable is close to ~1.8 and the second to ~32. These values (1.8 and 32) are the actual variables in the real conversion formula.\n",
        "\n",
        "This is really close to the values in the conversion formula. We'll explain this in an upcoming video where we show how a Dense layer works, but for a single neuron with a single input and a single output, the internal math looks the same as [the equation for a line](https://en.wikipedia.org/wiki/Linear_equation#Slope%E2%80%93intercept_form), $y = mx + b$, which has the same form as the conversion equation, $f = 1.8c + 32$.\n",
        "\n",
        "Since the form is the same, the variables should converge on the standard values of 1.8 and 32, which is exactly what happened.\n",
        "\n",
        "With additional neurons, additional inputs, and additional outputs, the formula becomes much more complex, but the idea is the same. \n",
        "\n",
        "### A little experiment\n",
        "\n",
        "Just for fun, what if we created more Dense layers with different units, which therefore also has more variables?"
      ]
    },
    {
      "cell_type": "code",
      "metadata": {
        "id": "Yz7ATykXxtSA",
        "colab_type": "code",
        "outputId": "97712f98-0232-47a4-f765-9f9e6d83eb32",
        "colab": {
          "base_uri": "https://localhost:8080/",
          "height": 1004
        }
      },
      "source": [
        "let hiddenSize: Int = 4\n",
        "struct c2fConvExp: Layer {\n",
        "    \n",
        "    var layer1 = Dense<Float>(inputSize:1, outputSize:hiddenSize)\n",
        "    var layer2 = Dense<Float>(inputSize: hiddenSize, outputSize: hiddenSize)\n",
        "    var layer3 = Dense<Float>(inputSize: hiddenSize, outputSize: 1)\n",
        "  \n",
        "    @differentiable\n",
        "    func call(_ input: Tensor<Float>) -> Tensor<Float> {\n",
        "        return input.sequenced(through: layer1, layer2, layer3)\n",
        "    }\n",
        "  \n",
        "}\n",
        "\n",
        "var modelExp = c2fConvExp()\n",
        "\n",
        "let optimizerExp = Adam(for: modelExp, learningRate: 0.1)\n",
        "let epochCount = 500\n",
        "var trainLossResultsExp: [Float] = []\n",
        "\n",
        "for epoch in 1...epochCount {\n",
        "    var epochLossExp: Float = 0\n",
        "    let (lossExp, gradExp) = modelExp.valueWithGradient { (modelExp: c2fConvExp) -> Tensor<Float> in\n",
        "        let predExp = modelExp(input)\n",
        "        return meanSquaredError(predicted: predExp, expected: output)\n",
        "    }\n",
        "    \n",
        "    optimizerExp.update(&modelExp.allDifferentiableVariables, along: gradExp)\n",
        "    epochLossExp=lossExp.scalarized()\n",
        "    trainLossResultsExp.append(epochLossExp)\n",
        "    if epoch % 20 == 0 {\n",
        "        print(\"Epoch \\(epoch): Loss: \\(lossExp)\")\n",
        "    }\n",
        "}\n",
        "\n",
        "plt.figure(figsize: [10, 6])\n",
        "\n",
        "plt.plot(trainLossResultsExp)\n",
        "plt.xlabel(\"Epoch\")\n",
        "plt.ylabel(\"Loss\")\n",
        "\n",
        "plt.show()\n",
        "\n",
        "let unlabeledDataset:[Float] = [10,20,30,40,50,60,70,80,90,100]\n",
        "let unlabeledDatasetPredictions = Tensor<Float>(shape: TensorShape(10, 1), scalars: unlabeledDataset)\n",
        "let predExp = modelExp(unlabeledDatasetPredictions)\n",
        "\n",
        "print(\"Experimental prediction:\")\n",
        "print(predExp)"
      ],
      "execution_count": 12,
      "outputs": [
        {
          "output_type": "stream",
          "text": [
            "Epoch 20: Loss: 439.8247\n",
            "Epoch 40: Loss: 46.048336\n",
            "Epoch 60: Loss: 4.9837995\n",
            "Epoch 80: Loss: 0.25271338\n",
            "Epoch 100: Loss: 0.16293247\n",
            "Epoch 120: Loss: 0.063866995\n",
            "Epoch 140: Loss: 0.064935386\n",
            "Epoch 160: Loss: 0.063119225\n",
            "Epoch 180: Loss: 0.06306068\n",
            "Epoch 200: Loss: 0.06304996\n",
            "Epoch 220: Loss: 0.06304842\n",
            "Epoch 240: Loss: 0.06304695\n",
            "Epoch 260: Loss: 0.06304495\n",
            "Epoch 280: Loss: 0.063044965\n",
            "Epoch 300: Loss: 0.063044816\n",
            "Epoch 320: Loss: 0.06304512\n",
            "Epoch 340: Loss: 0.06304458\n",
            "Epoch 360: Loss: 0.06304571\n",
            "Epoch 380: Loss: 0.06304509\n",
            "Epoch 400: Loss: 0.063045636\n",
            "Epoch 420: Loss: 0.063045666\n",
            "Epoch 440: Loss: 0.0630457\n",
            "Epoch 460: Loss: 0.063045666\n",
            "Epoch 480: Loss: 0.0630457\n",
            "Epoch 500: Loss: 0.06304421\n",
            "Experimental prediction:\n",
            "[[  49.93202],\n",
            " [  67.91151],\n",
            " [  85.89099],\n",
            " [103.870476],\n",
            " [ 121.84997],\n",
            " [ 139.82945],\n",
            " [ 157.80894],\n",
            " [ 175.78844],\n",
            " [ 193.76793],\n",
            " [  211.7474]]\n"
          ],
          "name": "stdout"
        },
        {
          "output_type": "display_data",
          "data": {
            "image/png": "[encoded data removed]",
            "text/plain": [
              "<Figure size 720x432 with 1 Axes>"
            ]
          },
          "metadata": {
            "tags": []
          }
        }
      ]
    },
    {
      "cell_type": "markdown",
      "metadata": {
        "id": "Xg3mZNTl03_0",
        "colab_type": "text"
      },
      "source": [
        "We can clearly see that adding more layers to the model made it more accurate as compared to single layered model."
      ]
    },
    {
      "cell_type": "code",
      "metadata": {
        "id": "KSbh5HUO_31j",
        "colab_type": "code",
        "colab": {
          "base_uri": "https://localhost:8080/",
          "height": 51
        },
        "outputId": "5ddbd3ef-4f61-4d79-c9d8-7bfd0b381782"
      },
      "source": [
        "print(modelExp.layer1.weight)\n",
        "print(modelExp.layer1.bias)"
      ],
      "execution_count": 13,
      "outputs": [
        {
          "output_type": "stream",
          "text": [
            "[[-0.114523895,   0.21179143,   0.15177295,   0.99811137]]\r\n",
            "[ 1.0520716, -2.3943741,  -3.075848,   3.498773]\r\n"
          ],
          "name": "stdout"
        }
      ]
    },
    {
      "cell_type": "code",
      "metadata": {
        "id": "pGy0iZkIAByb",
        "colab_type": "code",
        "colab": {
          "base_uri": "https://localhost:8080/",
          "height": 102
        },
        "outputId": "95358b3a-248f-478e-c4b7-7f40bfd75af0"
      },
      "source": [
        "print(modelExp.layer2.weight)\n",
        "print(modelExp.layer2.bias)"
      ],
      "execution_count": 14,
      "outputs": [
        {
          "output_type": "stream",
          "text": [
            "[[ 0.26806226,  -0.6740813,  0.29836845,  0.16598475],\r\n",
            " [ 0.19595036,  0.65550226,   0.8612661,   0.3128684],\r\n",
            " [-0.46160242,   1.2219628, 0.055802047, -0.63060135],\r\n",
            " [ 0.20121698,  -1.0833218, -0.61375135,  0.80650014]]\r\n",
            "[ 3.1381276,  -3.588654, -3.3443034,  3.4298818]\r\n"
          ],
          "name": "stdout"
        }
      ]
    },
    {
      "cell_type": "code",
      "metadata": {
        "id": "N4WKNrwgADmX",
        "colab_type": "code",
        "colab": {
          "base_uri": "https://localhost:8080/",
          "height": 102
        },
        "outputId": "d16af11b-7331-4085-d8f6-adf406e49663"
      },
      "source": [
        "print(modelExp.layer3.weight)\n",
        "print(modelExp.layer3.bias)"
      ],
      "execution_count": 15,
      "outputs": [
        {
          "output_type": "stream",
          "text": [
            "[[ 0.5664247],\r\n",
            " [-0.8040114],\r\n",
            " [-1.1172223],\r\n",
            " [ 0.8748906]]\r\n",
            "[3.3469763]\r\n"
          ],
          "name": "stdout"
        }
      ]
    },
    {
      "cell_type": "markdown",
      "metadata": {
        "id": "l5tfkz9BAeXf",
        "colab_type": "text"
      },
      "source": [
        "As you can see, this model is also able to predict the corresponding Fahrenheit value really well. But when you look at the variables (weights) in the `layer1`, `layer2` and `layer3` layers, they are nothing even close to ~1.8 and ~32. The added complexity hides the \"simple\" form of the conversion equation."
      ]
    }
  ]
}