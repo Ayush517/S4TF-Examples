{
  "nbformat": 4,
  "nbformat_minor": 0,
  "metadata": {
    "colab": {
      "name": "Autoencoder.ipynb",
      "version": "0.3.2",
      "provenance": [],
      "collapsed_sections": []
    },
    "kernelspec": {
      "name": "swift",
      "display_name": "Swift"
    },
    "accelerator": "GPU"
  },
  "cells": [
    {
      "cell_type": "markdown",
      "metadata": {
        "id": "oQoAtub36J4B",
        "colab_type": "text"
      },
      "source": [
        "##### Copyright 2019 The TensorFlow Authors. [Licensed under the Apache License, Version 2.0](#scrollTo=y_UVSRtBBsJk)."
      ]
    },
    {
      "cell_type": "code",
      "metadata": {
        "id": "PH7OSJpElSGf",
        "colab_type": "code",
        "outputId": "087c4918-412a-4b32-b6a2-da255fb6a9ee",
        "colab": {
          "base_uri": "https://localhost:8080/",
          "height": 527
        }
      },
      "source": [
        "%install-location $cwd/swift-install\n",
        "%install '.package(url: \"https://github.com/mxcl/Path.swift\", from: \"0.16.1\")' Path\n",
        "%install '.package(url: \"https://github.com/saeta/Just\", from: \"0.7.2\")' Just"
      ],
      "execution_count": 1,
      "outputs": [
        {
          "output_type": "stream",
          "text": [
            "Installing packages:\n",
            "\t.package(url: \"https://github.com/mxcl/Path.swift\", from: \"0.16.1\")\n",
            "\t\tPath\n",
            "\t.package(url: \"https://github.com/saeta/Just\", from: \"0.7.2\")\n",
            "\t\tJust\n",
            "With SwiftPM flags: []\n",
            "Working in: /tmp/tmpk_1jotca/swift-install\n",
            "Fetching https://github.com/mxcl/Path.swift\n",
            "Fetching https://github.com/saeta/Just\n",
            "Completed resolution in 1.51s\n",
            "Cloning https://github.com/saeta/Just\n",
            "Resolving https://github.com/saeta/Just at 0.7.3\n",
            "Cloning https://github.com/mxcl/Path.swift\n",
            "Resolving https://github.com/mxcl/Path.swift at 0.16.3\n",
            "[1/11] Compiling Path Extensions.swift\n",
            "[2/11] Compiling Path Path+Attributes.swift\n",
            "[3/11] Compiling Path Path+Codable.swift\n",
            "[4/11] Compiling Path Path+CommonDirectories.swift\n",
            "[5/11] Compiling Path Path+FileManager.swift\n",
            "[6/11] Compiling Path Path+StringConvertibles.swift\n",
            "[7/11] Compiling Path Path+ls.swift\n",
            "[8/11] Compiling Path Path->Bool.swift\n",
            "[9/11] Compiling Path Path.swift\n",
            "[10/12] Merging module Path\n",
            "[12/13] Merging module Just\n",
            "[13/14] Compiling jupyterInstalledPackages jupyterInstalledPackages.swift\n",
            "[14/15] Merging module jupyterInstalledPackages\n",
            "[15/15] Linking libjupyterInstalledPackages.so\n",
            "Initializing Swift...\n",
            "Installation complete!\n"
          ],
          "name": "stdout"
        }
      ]
    },
    {
      "cell_type": "code",
      "metadata": {
        "colab_type": "code",
        "id": "rF_pvJ6Iaqch",
        "colab": {}
      },
      "source": [
        "#@title Licensed under the Apache License, Version 2.0 (the \"License\"); { display-mode: \"form\" }\n",
        "// Licensed under the Apache License, Version 2.0 (the \"License\");\n",
        "// you may not use this file except in compliance with the License.\n",
        "// You may obtain a copy of the License at\n",
        "//\n",
        "// https://www.apache.org/licenses/LICENSE-2.0\n",
        "//\n",
        "// Unless required by applicable law or agreed to in writing, software\n",
        "// distributed under the License is distributed on an \"AS IS\" BASIS,\n",
        "// WITHOUT WARRANTIES OR CONDITIONS OF ANY KIND, either express or implied.\n",
        "// See the License for the specific language governing permissions and\n",
        "// limitations under the License."
      ],
      "execution_count": 0,
      "outputs": []
    },
    {
      "cell_type": "markdown",
      "metadata": {
        "id": "9V-Pc6IKfnWo",
        "colab_type": "text"
      },
      "source": [
        "# Simple Autoencoder"
      ]
    },
    {
      "cell_type": "markdown",
      "metadata": {
        "id": "KpfrPzDhfthF",
        "colab_type": "text"
      },
      "source": [
        "This notebook demonstrates how to generate images of handwritten digits by training a simple autoencoder."
      ]
    },
    {
      "cell_type": "markdown",
      "metadata": {
        "id": "N0OlMk6uh4A4",
        "colab_type": "text"
      },
      "source": [
        "## What are Autoencoders?\n",
        "\n",
        "Autoencoders are deep neural networks used to reproduce the input at the output layer i.e. the number of neurons in the output layer is exactly the same as the number of neurons in the input layer. The goal of an autoencoder architecture is to create a representation of the input at the output layer such that both are as close (similar) as possible.\n",
        "\n",
        "This notebook demonstrates this process on the MNIST dataset. The following animation shows a series of images produced by the autoencoder as it was trained for 10 epochs. The images begin as random noise, and increasingly resemble hand written digits over time.\n",
        "\n",
        "![evolution of output during training](https://tensorflow.org/images/autoencoders/cvae.gif)"
      ]
    },
    {
      "cell_type": "markdown",
      "metadata": {
        "id": "44l9kWBx8P4k",
        "colab_type": "text"
      },
      "source": [
        "### Import TensorFlow and other libraries"
      ]
    },
    {
      "cell_type": "code",
      "metadata": {
        "id": "Cykw3ebqlVag",
        "colab_type": "code",
        "colab": {}
      },
      "source": [
        "import TensorFlow\n",
        "import Foundation\n",
        "import Just\n",
        "import Path\n",
        "import Python\n",
        "\n",
        "%include \"EnableIPythonDisplay.swift\"\n",
        "IPythonDisplay.shell.enable_matplotlib(\"inline\")\n",
        "\n",
        "// Import Python modules.\n",
        "let matplotlib = Python.import(\"matplotlib\")\n",
        "let plt = Python.import(\"matplotlib.pyplot\")\n",
        "let subprocess = Python.import(\"subprocess\")\n",
        "let os = Python.import(\"os\")\n",
        "let np = Python.import(\"numpy\")\n",
        "let glob = Python.import(\"glob\")\n",
        "let pil = Python.import(\"PIL\")"
      ],
      "execution_count": 0,
      "outputs": []
    },
    {
      "cell_type": "markdown",
      "metadata": {
        "id": "hzSeCP8Y8SvR",
        "colab_type": "text"
      },
      "source": [
        "## Load the MNIST dataset\n",
        "Each MNIST image is originally a vector of 784 integers, each of which is between 0-255 and represents the intensity of a pixel."
      ]
    },
    {
      "cell_type": "code",
      "metadata": {
        "id": "9u004BXdlahR",
        "colab_type": "code",
        "colab": {}
      },
      "source": [
        "public extension String {\n",
        "    @discardableResult\n",
        "    func shell(_ args: String...) -> String {\n",
        "        let (task,pipe) = (Process(),Pipe())\n",
        "        task.executableURL = URL(fileURLWithPath: self)\n",
        "        (task.arguments,task.standardOutput) = (args,pipe)\n",
        "        do    { try task.run() }\n",
        "        catch { print(\"Unexpected error: \\(error).\") }\n",
        "\n",
        "        let data = pipe.fileHandleForReading.readDataToEndOfFile()\n",
        "        return String(data: data, encoding: String.Encoding.utf8) ?? \"\"\n",
        "    }\n",
        "}"
      ],
      "execution_count": 0,
      "outputs": []
    },
    {
      "cell_type": "code",
      "metadata": {
        "id": "FXKg_DNUlcyS",
        "colab_type": "code",
        "outputId": "8cad20b2-6dbb-4e44-fc5d-1880f8e4684a",
        "colab": {
          "base_uri": "https://localhost:8080/",
          "height": 85
        }
      },
      "source": [
        "public func downloadFile(url: String, destination: String? = nil, force: Bool = false) {\n",
        "    let destinationName = destination ?? (Path.cwd/url.split(separator: \"/\").last!).string\n",
        "    let urlDestination = URL(fileURLWithPath: (destination ?? (Path.cwd/url.split(separator: \"/\").last!).string))\n",
        "    if !force && Path(destinationName)!.exists { return }\n",
        "\n",
        "    print(\"Downloading \\(url)...\")\n",
        "\n",
        "    if let content = Just.get(url).content {\n",
        "        do    { try content.write(to: URL(fileURLWithPath:destinationName)) }\n",
        "        catch { print(\"Can't write to \\(urlDestination).\\n\\(error)\") }\n",
        "    } else {\n",
        "        print(\"Can't reach \\(url)\")\n",
        "    }\n",
        "}\n",
        "\n",
        "let files = [\"t10k-images-idx3-ubyte\", \"t10k-labels-idx1-ubyte\", \"train-images-idx3-ubyte\", \"train-labels-idx1-ubyte\"]\n",
        "\n",
        "for file in files {\n",
        "    downloadFile(url: \"http://yann.lecun.com/exdb/mnist/\\(file).gz\")\n",
        "    \"/bin/gunzip\".shell(\"-fq\", \"\\(file).gz\")\n",
        "}"
      ],
      "execution_count": 5,
      "outputs": [
        {
          "output_type": "stream",
          "text": [
            "Downloading http://yann.lecun.com/exdb/mnist/t10k-images-idx3-ubyte.gz...\n",
            "Downloading http://yann.lecun.com/exdb/mnist/t10k-labels-idx1-ubyte.gz...\n",
            "Downloading http://yann.lecun.com/exdb/mnist/train-images-idx3-ubyte.gz...\n",
            "Downloading http://yann.lecun.com/exdb/mnist/train-labels-idx1-ubyte.gz...\n"
          ],
          "name": "stdout"
        }
      ]
    },
    {
      "cell_type": "code",
      "metadata": {
        "id": "Y2CDCaLxm9gu",
        "colab_type": "code",
        "colab": {}
      },
      "source": [
        "extension Tensor {\n",
        "    public func minibatch(at index: Int, batchSize: Int) -> Tensor {\n",
        "        let start = index * batchSize\n",
        "        return self[start..<start+batchSize]\n",
        "    }\n",
        "}"
      ],
      "execution_count": 0,
      "outputs": []
    },
    {
      "cell_type": "code",
      "metadata": {
        "id": "zrSi33cEmVyt",
        "colab_type": "code",
        "colab": {}
      },
      "source": [
        "/// Reads a file into an array of bytes.\n",
        "func readFile(_ path: String, possibleDirectories: [String]) -> [UInt8] {\n",
        "    for folder in possibleDirectories {\n",
        "        let parent = URL(fileURLWithPath: folder)\n",
        "        let filePath = parent.appendingPathComponent(path)\n",
        "        guard FileManager.default.fileExists(atPath: filePath.path) else {\n",
        "            continue\n",
        "        }\n",
        "        let data = try! Data(contentsOf: filePath, options: [])\n",
        "        return [UInt8](data)\n",
        "    }\n",
        "    print(\"File not found: \\(path)\")\n",
        "    exit(-1)\n",
        "}\n",
        "\n",
        "/// Reads MNIST images and labels from specified file paths.\n",
        "func readMNIST(imagesFile: String, labelsFile: String, flattening: Bool, normalizing: Bool) -> (\n",
        "    images: Tensor<Float>,\n",
        "    labels: Tensor<Int32>\n",
        ") {\n",
        "    print(\"Reading data from files: \\(imagesFile), \\(labelsFile).\")\n",
        "    let images = readFile(imagesFile, possibleDirectories: [\".\", \"./Datasets/MNIST\"]).dropFirst(16)\n",
        "        .map(Float.init)\n",
        "    let labels = readFile(labelsFile, possibleDirectories: [\".\", \"./Datasets/MNIST\"]).dropFirst(8)\n",
        "        .map(Int32.init)\n",
        "    let rowCount = labels.count\n",
        "    let imageHeight = 28\n",
        "    let imageWidth = 28\n",
        "\n",
        "    print(\"Constructing data tensors.\")\n",
        "\n",
        "    if flattening {\n",
        "        var flattenedImages = Tensor(shape: [rowCount, imageHeight * imageWidth], scalars: images)\n",
        "            / 255.0\n",
        "        if normalizing {\n",
        "            flattenedImages = flattenedImages * 2.0 - 1.0\n",
        "        }\n",
        "        return (images: flattenedImages, labels: Tensor(labels))\n",
        "    } else {\n",
        "        return (\n",
        "            images: Tensor(shape: [rowCount, 1, imageHeight, imageWidth], scalars: images)\n",
        "                .transposed(withPermutations: [0, 2, 3, 1]) / 255,  // NHWC\n",
        "            labels: Tensor(labels)\n",
        "        )\n",
        "    }\n",
        "}"
      ],
      "execution_count": 0,
      "outputs": []
    },
    {
      "cell_type": "code",
      "metadata": {
        "id": "xZd5WSIlldl2",
        "colab_type": "code",
        "colab": {}
      },
      "source": [
        "public struct MNIST {\n",
        "    public let trainingImages: Tensor<Float>\n",
        "    public let trainingLabels: Tensor<Int32>\n",
        "    public let testImages: Tensor<Float>\n",
        "    public let testLabels: Tensor<Int32>\n",
        "\n",
        "    public let trainingSize: Int\n",
        "    public let testSize: Int\n",
        "\n",
        "    public let batchSize: Int\n",
        "\n",
        "    public init(batchSize: Int, flattening: Bool = false, normalizing: Bool = false) {\n",
        "        self.batchSize = batchSize\n",
        "\n",
        "        let (trainingImages, trainingLabels) = readMNIST(\n",
        "            imagesFile: \"train-images-idx3-ubyte\",\n",
        "            labelsFile: \"train-labels-idx1-ubyte\",\n",
        "            flattening: flattening,\n",
        "            normalizing: normalizing)\n",
        "        self.trainingImages = trainingImages\n",
        "        self.trainingLabels = trainingLabels\n",
        "        self.trainingSize = Int(trainingLabels.shape[0])\n",
        "\n",
        "        let (testImages, testLabels) = readMNIST(\n",
        "            imagesFile: \"t10k-images-idx3-ubyte\",\n",
        "            labelsFile: \"t10k-labels-idx1-ubyte\",\n",
        "            flattening: flattening,\n",
        "            normalizing: normalizing)\n",
        "        self.testImages = testImages\n",
        "        self.testLabels = testLabels\n",
        "        self.testSize = Int(testLabels.shape[0])\n",
        "    }\n",
        "}"
      ],
      "execution_count": 0,
      "outputs": []
    },
    {
      "cell_type": "markdown",
      "metadata": {
        "id": "3iNzAbnx9I_Y",
        "colab_type": "text"
      },
      "source": [
        "Define image and Training Loop parameters.\n",
        "\n"
      ]
    },
    {
      "cell_type": "code",
      "metadata": {
        "id": "Cpfj7IbX8wTW",
        "colab_type": "code",
        "colab": {}
      },
      "source": [
        "let epochCount = 10\n",
        "let batchSize = 100\n",
        "let outputFolder = \"./output/\"\n",
        "let imageHeight = 28, imageWidth = 28"
      ],
      "execution_count": 0,
      "outputs": []
    },
    {
      "cell_type": "markdown",
      "metadata": {
        "id": "fwJGb0ImPj8F",
        "colab_type": "text"
      },
      "source": [
        "Define image plot function to save and plot generated images."
      ]
    },
    {
      "cell_type": "code",
      "metadata": {
        "id": "1KJdGXyYPqqn",
        "colab_type": "code",
        "colab": {}
      },
      "source": [
        "func plot(image: [Float], name: String) {\n",
        "    // Create figure.\n",
        "    let ax = plt.gca()\n",
        "    let array = np.array([image])\n",
        "    let pixels = array.reshape([imageHeight, imageWidth])\n",
        "    if !FileManager.default.fileExists(atPath: outputFolder) {\n",
        "        try! FileManager.default.createDirectory(atPath: outputFolder,\n",
        "                            withIntermediateDirectories: false,\n",
        "                                             attributes: nil)\n",
        "    }\n",
        "    ax.imshow(pixels, cmap: \"gray\")\n",
        "    plt.savefig(\"\\(outputFolder)\\(name).png\", dpi: 300)\n",
        "    plt.xlabel(name)\n",
        "    plt.show()\n",
        "    plt.close()\n",
        "}"
      ],
      "execution_count": 0,
      "outputs": []
    },
    {
      "cell_type": "markdown",
      "metadata": {
        "id": "jCI8RcTdgv6m",
        "colab_type": "text"
      },
      "source": [
        "## Create the model\n",
        "\n",
        "The autoencoder uses `Dense` layers to produce an image from an image of the same size. Start with a `Dense` layer that takes this image as input, then downscale and upsample several times until you reach the same image size. Notice the `relu` activation for each layer, except the output layer which uses `tanh`."
      ]
    },
    {
      "cell_type": "code",
      "metadata": {
        "id": "kZRlD4utdPuX",
        "colab_type": "code",
        "colab": {}
      },
      "source": [
        "/// An autoencoder.\n",
        "struct Autoencoder: Layer {\n",
        "    typealias Input = Tensor<Float>\n",
        "    typealias Output = Tensor<Float>\n",
        "\n",
        "    var encoder1 = Dense<Float>(inputSize: imageHeight * imageWidth, outputSize: 128,\n",
        "        activation: relu)\n",
        "    var encoder2 = Dense<Float>(inputSize: 128, outputSize: 64, activation: relu)\n",
        "    var encoder3 = Dense<Float>(inputSize: 64, outputSize: 12, activation: relu)\n",
        "    var encoder4 = Dense<Float>(inputSize: 12, outputSize: 3, activation: relu)\n",
        "\n",
        "    var decoder1 = Dense<Float>(inputSize: 3, outputSize: 12, activation: relu)\n",
        "    var decoder2 = Dense<Float>(inputSize: 12, outputSize: 64, activation: relu)\n",
        "    var decoder3 = Dense<Float>(inputSize: 64, outputSize: 128, activation: relu)\n",
        "    var decoder4 = Dense<Float>(inputSize: 128, outputSize: imageHeight * imageWidth,\n",
        "        activation: tanh)\n",
        "\n",
        "    @differentiable\n",
        "    func callAsFunction(_ input: Input) -> Output {\n",
        "        let encoder = input.sequenced(through: encoder1, encoder2, encoder3, encoder4)\n",
        "        return encoder.sequenced(through: decoder1, decoder2, decoder3, decoder4)\n",
        "    }\n",
        "}"
      ],
      "execution_count": 0,
      "outputs": []
    },
    {
      "cell_type": "markdown",
      "metadata": {
        "id": "h5MOjVC999Bn",
        "colab_type": "text"
      },
      "source": [
        "## Define the dataset, model and optimizer\n"
      ]
    },
    {
      "cell_type": "code",
      "metadata": {
        "id": "O1vnhKD_APS3",
        "colab_type": "code",
        "outputId": "b0a83078-2b50-4e8c-fe8c-6f43da8a1b3c",
        "colab": {
          "base_uri": "https://localhost:8080/",
          "height": 85
        }
      },
      "source": [
        "let dataset = MNIST(batchSize: batchSize, flattening: true)\n",
        "var autoencoder = Autoencoder()\n",
        "let optimizer = RMSProp(for: autoencoder)"
      ],
      "execution_count": 12,
      "outputs": [
        {
          "output_type": "stream",
          "text": [
            "Reading data from files: train-images-idx3-ubyte, train-labels-idx1-ubyte.\n",
            "Constructing data tensors.\n",
            "Reading data from files: t10k-images-idx3-ubyte, t10k-labels-idx1-ubyte.\n",
            "Constructing data tensors.\n"
          ],
          "name": "stdout"
        }
      ]
    },
    {
      "cell_type": "markdown",
      "metadata": {
        "id": "xrPTcNYv-W45",
        "colab_type": "text"
      },
      "source": [
        "## Define the training loop"
      ]
    },
    {
      "cell_type": "code",
      "metadata": {
        "id": "Disu6kEw85wI",
        "colab_type": "code",
        "outputId": "f2cb773a-8e59-4a81-bec2-92c30e657384",
        "colab": {
          "base_uri": "https://localhost:8080/",
          "height": 1000
        }
      },
      "source": [
        "for epoch in 1...epochCount {\n",
        "    let sampleImage = Tensor(shape: [1, imageHeight * imageWidth], scalars: dataset.trainingImages[epoch].scalars)\n",
        "    let testImage = autoencoder(sampleImage)\n",
        "\n",
        "    plot(image: sampleImage.scalars, name: \"epoch-\\(epoch)-input\")\n",
        "    plot(image: testImage.scalars, name: \"epoch-\\(epoch)-output\")\n",
        "\n",
        "    let sampleLoss = meanSquaredError(predicted: testImage, expected: sampleImage)\n",
        "    print(\"[Epoch: \\(epoch)] Loss: \\(sampleLoss)\")\n",
        "\n",
        "    for i in 0 ..< dataset.trainingSize / batchSize {\n",
        "        let x = dataset.trainingImages.minibatch(at: i, batchSize: batchSize)\n",
        "\n",
        "        let 𝛁model = autoencoder.gradient { autoencoder -> Tensor<Float> in\n",
        "            let image = autoencoder(x)\n",
        "            return meanSquaredError(predicted: image, expected: x)\n",
        "        }\n",
        "\n",
        "        optimizer.update(&autoencoder.allDifferentiableVariables, along: 𝛁model)\n",
        "    }\n",
        "}"
      ],
      "execution_count": 13,
      "outputs": [
        {
          "output_type": "stream",
          "text": [
            "[Epoch: 1] Loss: 0.1324767\n",
            "[Epoch: 2] Loss: 0.0511723\n",
            "[Epoch: 3] Loss: 0.012868047\n",
            "[Epoch: 4] Loss: 0.035829544\n",
            "[Epoch: 5] Loss: 0.053920876\n",
            "[Epoch: 6] Loss: 0.012548395\n",
            "[Epoch: 7] Loss: 0.02381801\n",
            "[Epoch: 8] Loss: 0.0068136845\n",
            "[Epoch: 9] Loss: 0.025678689\n",
            "[Epoch: 10] Loss: 0.032716658\n"
          ],
          "name": "stdout"
        },
        {
          "output_type": "display_data",
          "data": {
            "image/png": "[encoded data removed]",
            "text/plain": [
              "<Figure size 432x288 with 1 Axes>"
            ]
          },
          "metadata": {
            "tags": []
          }
        },
        {
          "output_type": "display_data",
          "data": {
            "image/png": "[encoded data removed]",
            "text/plain": [
              "<Figure size 432x288 with 1 Axes>"
            ]
          },
          "metadata": {
            "tags": []
          }
        },
        {
          "output_type": "display_data",
          "data": {
            "image/png": "[encoded data removed]",
            "text/plain": [
              "<Figure size 432x288 with 1 Axes>"
            ]
          },
          "metadata": {
            "tags": []
          }
        },
        {
          "output_type": "display_data",
          "data": {
            "image/png": "[encoded data removed]",
            "text/plain": [
              "<Figure size 432x288 with 1 Axes>"
            ]
          },
          "metadata": {
            "tags": []
          }
        },
        {
          "output_type": "display_data",
          "data": {
            "image/png": "[encoded data removed]",
            "text/plain": [
              "<Figure size 432x288 with 1 Axes>"
            ]
          },
          "metadata": {
            "tags": []
          }
        },
        {
          "output_type": "display_data",
          "data": {
            "image/png": "[encoded data removed]",
            "text/plain": [
              "<Figure size 432x288 with 1 Axes>"
            ]
          },
          "metadata": {
            "tags": []
          }
        },
        {
          "output_type": "display_data",
          "data": {
            "image/png": "[encoded data removed]",
            "text/plain": [
              "<Figure size 432x288 with 1 Axes>"
            ]
          },
          "metadata": {
            "tags": []
          }
        },
        {
          "output_type": "display_data",
          "data": {
            "image/png": "[encoded data removed]",
            "text/plain": [
              "<Figure size 432x288 with 1 Axes>"
            ]
          },
          "metadata": {
            "tags": []
          }
        },
        {
          "output_type": "display_data",
          "data": {
            "image/png": "[encoded data removed]",
            "text/plain": [
              "<Figure size 432x288 with 1 Axes>"
            ]
          },
          "metadata": {
            "tags": []
          }
        },
        {
          "output_type": "display_data",
          "data": {
            "image/png": "[encoded data removed]",
            "text/plain": [
              "<Figure size 432x288 with 1 Axes>"
            ]
          },
          "metadata": {
            "tags": []
          }
        },
        {
          "output_type": "display_data",
          "data": {
            "image/png": "[encoded data removed]",
            "text/plain": [
              "<Figure size 432x288 with 1 Axes>"
            ]
          },
          "metadata": {
            "tags": []
          }
        },
        {
          "output_type": "display_data",
          "data": {
            "image/png": "[encoded data removed]",
            "text/plain": [
              "<Figure size 432x288 with 1 Axes>"
            ]
          },
          "metadata": {
            "tags": []
          }
        },
        {
          "output_type": "display_data",
          "data": {
            "image/png": "[encoded data removed]",
            "text/plain": [
              "<Figure size 432x288 with 1 Axes>"
            ]
          },
          "metadata": {
            "tags": []
          }
        },
        {
          "output_type": "display_data",
          "data": {
            "image/png": "[encoded data removed]",
            "text/plain": [
              "<Figure size 432x288 with 1 Axes>"
            ]
          },
          "metadata": {
            "tags": []
          }
        },
        {
          "output_type": "display_data",
          "data": {
            "image/png": "[encoded data removed]",
            "text/plain": [
              "<Figure size 432x288 with 1 Axes>"
            ]
          },
          "metadata": {
            "tags": []
          }
        },
        {
          "output_type": "display_data",
          "data": {
            "image/png": "[encoded data removed]",
            "text/plain": [
              "<Figure size 432x288 with 1 Axes>"
            ]
          },
          "metadata": {
            "tags": []
          }
        },
        {
          "output_type": "display_data",
          "data": {
            "image/png": "[encoded data removed]",
            "text/plain": [
              "<Figure size 432x288 with 1 Axes>"
            ]
          },
          "metadata": {
            "tags": []
          }
        },
        {
          "output_type": "display_data",
          "data": {
            "image/png": "[encoded data removed]",
            "text/plain": [
              "<Figure size 432x288 with 1 Axes>"
            ]
          },
          "metadata": {
            "tags": []
          }
        },
        {
          "output_type": "display_data",
          "data": {
            "image/png": "[encoded data removed]",
            "text/plain": [
              "<Figure size 432x288 with 1 Axes>"
            ]
          },
          "metadata": {
            "tags": []
          }
        },
        {
          "output_type": "display_data",
          "data": {
            "image/png": "[encoded data removed]",
            "text/plain": [
              "<Figure size 432x288 with 1 Axes>"
            ]
          },
          "metadata": {
            "tags": []
          }
        }
      ]
    },
    {
      "cell_type": "markdown",
      "metadata": {
        "id": "kVJeYWzSQs4Z",
        "colab_type": "text"
      },
      "source": [
        "## Conclusion"
      ]
    },
    {
      "cell_type": "markdown",
      "metadata": {
        "id": "nlAnWAbMQpFg",
        "colab_type": "text"
      },
      "source": [
        "An autoencoder is an artificial neural network used for unsupervised learning of efficient codings. In the modern era, autoencoders have become an emerging field of research in numerous aspects such as in anomaly detection. In this notebook, we intented to provide a basic understanding of the aspects of what, why and how of autoencoders.\n",
        "\n",
        "\n",
        "The ideal autoencoder model balances the following:\n",
        "\n",
        "* Sensitive to the inputs enough to accurately build a reconstruction.\n",
        "* Insensitive enough to the inputs that the model doesn't simply memorize or overfit the training data."
      ]
    },
    {
      "cell_type": "markdown",
      "metadata": {
        "id": "QmAyNI80RawA",
        "colab_type": "text"
      },
      "source": [
        "Today, data denoising and dimensionality reduction for data visualization are considered as two main interesting practical applications of autoencoders. With appropriate dimensionality and sparsity constraints, autoencoders can learn data projections that are more interesting than PCA or other basic techniques."
      ]
    }
  ]
}
