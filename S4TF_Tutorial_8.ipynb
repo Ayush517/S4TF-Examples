{
  "nbformat": 4,
  "nbformat_minor": 0,
  "metadata": {
    "colab": {
      "name": "S4TF Tutorial 8",
      "version": "0.3.2",
      "provenance": [],
      "collapsed_sections": []
    },
    "language_info": {
      "file_extension": ".swift",
      "mimetype": "text/x-swift",
      "name": "swift",
      "version": ""
    },
    "kernelspec": {
      "display_name": "Swift",
      "language": "swift",
      "name": "swift"
    },
    "accelerator": "GPU"
  },
  "cells": [
    {
      "cell_type": "markdown",
      "metadata": {
        "colab_type": "text",
        "id": "QyCcF45zBQ3E"
      },
      "source": [
        "##### Copyright 2019 The TensorFlow Authors. [Licensed under the Apache License, Version 2.0](#scrollTo=y_UVSRtBBsJk)."
      ]
    },
    {
      "cell_type": "code",
      "metadata": {
        "colab_type": "code",
        "id": "CPII1rGR2rF9",
        "scrolled": true,
        "colab": {}
      },
      "source": [
        "#@title Licensed under the Apache License, Version 2.0 (the \"License\"); { display-mode: \"form\" }\n",
        "// Licensed under the Apache License, Version 2.0 (the \"License\");\n",
        "// you may not use this file except in compliance with the License.\n",
        "// You may obtain a copy of the License at\n",
        "//\n",
        "// https://www.apache.org/licenses/LICENSE-2.0\n",
        "//\n",
        "// Unless required by applicable law or agreed to in writing, software\n",
        "// distributed under the License is distributed on an \"AS IS\" BASIS,\n",
        "// WITHOUT WARRANTIES OR CONDITIONS OF ANY KIND, either express or implied.\n",
        "// See the License for the specific language governing permissions and\n",
        "// limitations under the License."
      ],
      "execution_count": 0,
      "outputs": []
    },
    {
      "cell_type": "markdown",
      "metadata": {
        "colab_type": "text",
        "id": "YHI3vyhv5p85"
      },
      "source": [
        "# Image Classification using Swift for TensorFlow"
      ]
    },
    {
      "cell_type": "markdown",
      "metadata": {
        "colab_type": "text",
        "id": "OVi775ZJ2bsy"
      },
      "source": [
        "<table class=\"tfo-notebook-buttons\" align=\"left\">\n",
        "  <td>\n",
        "    <a target=\"_blank\" href=\"https://colab.research.google.com/drive/13lBsht3Wa4GjKKkA47JCrd54XikhNX2E\"><img src=\"https://www.tensorflow.org/images/colab_logo_32px.png\" />Run in Google Colab</a>\n",
        "  </td>\n",
        "  <td>\n",
        "    <a target=\"_blank\" href=\"Link to be updated\"><img src=\"https://www.tensorflow.org/images/GitHub-Mark-32px.png\" />GitHub link to be updated accordingly</a>\n",
        "  </td>\n",
        "</table>"
      ]
    },
    {
      "cell_type": "markdown",
      "metadata": {
        "id": "DCxmvkku5R-v",
        "colab_type": "text"
      },
      "source": [
        "In this Colab you will classify images of flowers. We'll build an image classifier using `Layer` and load data by creating Training and Validation Tensors of Images as well as their corresponding Labels."
      ]
    },
    {
      "cell_type": "markdown",
      "metadata": {
        "id": "nAcmWrRy512Q",
        "colab_type": "text"
      },
      "source": [
        "# Importing packages"
      ]
    },
    {
      "cell_type": "markdown",
      "metadata": {
        "id": "z_IfI4an53t7",
        "colab_type": "text"
      },
      "source": [
        "Let's start by importing required packages:\n",
        "\n",
        "*   glob — to read files and directory structure.\n",
        "*   numpy — for some matrix math outside of TensorFlow.\n",
        "*   matplotlib.pyplot — to plot the graph and display images in our training and validation data.\n",
        "*  PIL — to view images."
      ]
    },
    {
      "cell_type": "code",
      "metadata": {
        "id": "ektHrmri503Q",
        "colab_type": "code",
        "colab": {}
      },
      "source": [
        "import TensorFlow\n",
        "import Foundation\n",
        "import Python\n",
        "\n",
        "%include \"EnableIPythonDisplay.swift\"\n",
        "IPythonDisplay.shell.enable_matplotlib(\"inline\")\n",
        "let np = Python.import(\"numpy\")  // Make numpy available using np.\n",
        "let subprocess = Python.import(\"subprocess\")\n",
        "let plt = Python.import(\"matplotlib.pyplot\")\n",
        "let os = Python.import(\"os\")\n",
        "let glob = Python.import(\"glob\")\n",
        "let pil = Python.import(\"PIL\")\n",
        "let pilImageOps = Python.import(\"PIL.ImageOps\")\n",
        "let random = Python.import(\"random\")\n",
        "let sk = Python.import(\"skimage\")"
      ],
      "execution_count": 0,
      "outputs": []
    },
    {
      "cell_type": "markdown",
      "metadata": {
        "id": "y3fcURSS6S_i",
        "colab_type": "text"
      },
      "source": [
        "In order to build our image classifier, we can begin by downloading the flowers dataset.  "
      ]
    },
    {
      "cell_type": "code",
      "metadata": {
        "id": "00tAtxan6dbo",
        "colab_type": "code",
        "colab": {}
      },
      "source": [
        "public extension String {\n",
        "    @discardableResult\n",
        "    func shell(_ args: String...) -> String {\n",
        "        let (task, pipe) = (Process(), Pipe())\n",
        "        task.executableURL = URL(fileURLWithPath: self)\n",
        "        (task.arguments, task.standardOutput) = (args, pipe)\n",
        "        do    { try task.run() }\n",
        "        catch { print(\"Unexpected error: \\(error).\") }\n",
        "\n",
        "        let data = pipe.fileHandleForReading.readDataToEndOfFile()\n",
        "        return String(data: data, encoding: String.Encoding.utf8) ?? \"\"\n",
        "    }\n",
        "}"
      ],
      "execution_count": 0,
      "outputs": []
    },
    {
      "cell_type": "code",
      "metadata": {
        "id": "KT2rv2eX6d8b",
        "colab_type": "code",
        "outputId": "38ec9b4f-9b6a-42d1-c394-2808869f8f15",
        "colab": {
          "base_uri": "https://localhost:8080/",
          "height": 68
        }
      },
      "source": [
        "print(\"/bin/ls\".shell(\"-lh\"))"
      ],
      "execution_count": 4,
      "outputs": [
        {
          "output_type": "stream",
          "text": [
            "total 4.0K\r\n",
            "drwxr-xr-x 1 root root 4.0K Aug  2 16:06 sample_data\r\n",
            "\r\n"
          ],
          "name": "stdout"
        }
      ]
    },
    {
      "cell_type": "markdown",
      "metadata": {
        "id": "aonzsRRqoWZ9",
        "colab_type": "text"
      },
      "source": [
        "In order to build our image classifier, we can begin by downloading the flowers dataset. We first need to download the archive version of the dataset and after the download we unzip it."
      ]
    },
    {
      "cell_type": "code",
      "metadata": {
        "id": "Ejo6uVyR6fe6",
        "colab_type": "code",
        "outputId": "fedea6ef-b50b-47c2-862f-6f3b8cb00f65",
        "colab": {
          "base_uri": "https://localhost:8080/",
          "height": 94
        }
      },
      "source": [
        "// Dataset download.\n",
        "\n",
        "let command = \"wget -nv -O- https://storage.googleapis.com/download.tensorflow.org/example_images/flower_photos.tgz | tar xzf - -C .\"\n",
        "subprocess.call(command, shell: true)"
      ],
      "execution_count": 5,
      "outputs": [
        {
          "output_type": "stream",
          "text": [
            "2019-08-20 14:12:58 URL:https://storage.googleapis.com/download.tensorflow.org/example_images/flower_photos.tgz [228813984/228813984] -> \"-\" [1]\r\n"
          ],
          "name": "stdout"
        },
        {
          "output_type": "execute_result",
          "data": {
            "text/plain": [
              "0\n"
            ]
          },
          "metadata": {
            "tags": []
          },
          "execution_count": 5
        }
      ]
    },
    {
      "cell_type": "markdown",
      "metadata": {
        "id": "NldOzNbk_9xq",
        "colab_type": "text"
      },
      "source": [
        "The dataset we downloaded contains images of 5 types of flowers:\n",
        "\n",
        "1. Rose\n",
        "2. Daisy\n",
        "3. Dandelion\n",
        "4. Sunflowers\n",
        "5. Tulips\n",
        "\n",
        "So, let's create the labels for these 5 classes: "
      ]
    },
    {
      "cell_type": "code",
      "metadata": {
        "id": "VeDOH8TR_-xi",
        "colab_type": "code",
        "colab": {}
      },
      "source": [
        "let classNames = [\"roses\", \"daisy\", \"dandelion\", \"sunflowers\", \"tulips\"]"
      ],
      "execution_count": 0,
      "outputs": []
    },
    {
      "cell_type": "markdown",
      "metadata": {
        "id": "zN86uRrg7UDc",
        "colab_type": "text"
      },
      "source": [
        "Also, the dataset we have downloaded has following directory structure.\n",
        "\n",
        "<pre style=\"font-size: 10.0pt; font-family: Arial; line-height: 2; letter-spacing: 1.0pt;\" >\n",
        "<b>flower_photos</b>\n",
        "|__ <b>diasy</b>\n",
        "|__ <b>dandelion</b>\n",
        "|__ <b>roses</b>\n",
        "|__ <b>sunflowers</b>\n",
        "|__ <b>tulips</b>\n",
        "</pre>"
      ]
    },
    {
      "cell_type": "code",
      "metadata": {
        "id": "SCombgoqB0hs",
        "colab_type": "code",
        "outputId": "91f1210c-a098-4836-f9db-cb3bdadfb3b1",
        "colab": {
          "base_uri": "https://localhost:8080/",
          "height": 1000
        }
      },
      "source": [
        "let filelist = try FileManager.default.contentsOfDirectory(atPath: \"./flower_photos/daisy\")\n",
        "for filename in filelist {\n",
        "    print(filename)\n",
        "}"
      ],
      "execution_count": 7,
      "outputs": [
        {
          "output_type": "stream",
          "text": [
            "5608389827_a42a46f760.jpg\r\n",
            "14674743211_f68b13f6d9.jpg\r\n",
            "4413849849_b8d2f3bcf1_n.jpg\r\n",
            "9286947622_4822f4fc21.jpg\r\n",
            "4565255237_9ba29c4d4e_n.jpg\r\n",
            "8616684075_71923bb771_n.jpg\r\n",
            "2812442552_3eed5fb9f2_m.jpg\r\n",
            "2611119198_9d46b94392.jpg\r\n",
            "12601254324_3cb62c254a_m.jpg\r\n",
            "2642408410_61545fdc83_n.jpg\r\n",
            "5700781400_65761f3fce.jpg\r\n",
            "169371301_d9b91a2a42.jpg\r\n",
            "3963330924_6c6a3fa7be_n.jpg\r\n",
            "3275951182_d27921af97_n.jpg\r\n",
            "2482982436_a2145359e0_n.jpg\r\n",
            "19177263840_6a316ea639.jpg\r\n",
            "17357636476_1953c07aa4_n.jpg\r\n",
            "3456403987_5bd5fa6ece_n.jpg\r\n",
            "8710109684_e2c5ef6aeb_n.jpg\r\n",
            "450128527_fd35742d44.jpg\r\n",
            "18023717391_e2c9089e10.jpg\r\n",
            "5459481183_18d2d49e44_m.jpg\r\n",
            "3773181799_5def396456.jpg\r\n",
            "525780443_bba812c26a_m.jpg\r\n",
            "538920244_59899a78f8_n.jpg\r\n",
            "2536529152_33ef3ee078_n.jpg\r\n",
            "9299302012_958c70564c_n.jpg\r\n",
            "1955336401_fbb206d6ef_n.jpg\r\n",
            "20182559506_40a112f762.jpg\r\n",
            "21402054779_759366efb0_n.jpg\r\n",
            "521762040_f26f2e08dd.jpg\r\n",
            "7538403124_f2fc48750a.jpg\r\n",
            "5884807222_22f5326ba8_m.jpg\r\n",
            "15207766_fc2f1d692c_n.jpg\r\n",
            "9611923744_013b29e4da_n.jpg\r\n",
            "3939135368_0af5c4982a_n.jpg\r\n",
            "4407065098_ef25f1ccac_n.jpg\r\n",
            "11023277956_8980d53169_m.jpg\r\n",
            "2828733818_1c1ed0089d_n.jpg\r\n",
            "4753134939_8e87649db6.jpg\r\n",
            "1265350143_6e2b276ec9.jpg\r\n",
            "476856232_7c35952f40_n.jpg\r\n",
            "7358085448_b317d11cd5.jpg\r\n",
            "18901817451_43e2b45f6c.jpg\r\n",
            "2889325612_f2fc403ff0_m.jpg\r\n",
            "19019544592_b64469bf84_n.jpg\r\n",
            "1392131677_116ec04751.jpg\r\n",
            "43474673_7bb4465a86.jpg\r\n",
            "14551098743_2842e7a004_n.jpg\r\n",
            "10172379554_b296050f82_n.jpg\r\n",
            "5547758_eea9edfd54_n.jpg\r\n",
            "6299910262_336309ffa5_n.jpg\r\n",
            "3713290261_8a66de23ab.jpg\r\n",
            "7702332000_3f21ef4571_n.jpg\r\n",
            "8489463746_a9839bf7e4.jpg\r\n",
            "5794835_d15905c7c8_n.jpg\r\n",
            "4923279674_e7f8e70794_n.jpg\r\n",
            "8383753520_8391dd80ee_m.jpg\r\n",
            "909609509_a05ccb8127.jpg\r\n",
            "3640845041_80a92c4205_n.jpg\r\n",
            "19834392829_7d697871f6.jpg\r\n",
            "6207492986_0ff91f3296.jpg\r\n",
            "16161045294_70c76ce846_n.jpg\r\n",
            "2561352120_7961d8263f.jpg\r\n",
            "10555826524_423eb8bf71_n.jpg\r\n",
            "14073784469_ffb12f3387_n.jpg\r\n",
            "8718637649_87a0d85190_n.jpg\r\n",
            "506018088_4f7a15a7c5_n.jpg\r\n",
            "172967318_c596d082cc.jpg\r\n",
            "14114116486_0bb6649bc1_m.jpg\r\n",
            "9321854387_5f77c926cb_n.jpg\r\n",
            "2901376034_cdb4bac26b_m.jpg\r\n",
            "3764116502_f394428ee0_n.jpg\r\n",
            "171972704_389cf7a953.jpg\r\n",
            "14350958832_29bdd3a254.jpg\r\n",
            "1374193928_a52320eafa.jpg\r\n",
            "3533954656_79156c8473.jpg\r\n",
            "2556503265_63ae6b9e0e_m.jpg\r\n",
            "5885826924_38fdc6bcaa_n.jpg\r\n",
            "813445367_187ecf080a_n.jpg\r\n",
            "14272874304_47c0a46f5a.jpg\r\n",
            "3415180846_d7b5cced14_m.jpg\r\n",
            "1342002397_9503c97b49.jpg\r\n",
            "21626652132_97e1318bb8_m.jpg\r\n",
            "10172636503_21bededa75_n.jpg\r\n",
            "18474740346_ffdaa18032.jpg\r\n",
            "2480569557_f4e1f0dcb8_n.jpg\r\n",
            "8709110478_60d12efcd4_n.jpg\r\n",
            "7288989324_c25d9febbf.jpg\r\n",
            "5944315415_2be8abeb2f_m.jpg\r\n",
            "176375506_201859bb92_m.jpg\r\n",
            "7199968650_72afc16d31_m.jpg\r\n",
            "5087720485_c0914fb623.jpg\r\n",
            "14167534527_781ceb1b7a_n.jpg\r\n",
            "12585131704_0f64b17059_m.jpg\r\n",
            "5874818796_3efbb8769d.jpg\r\n",
            "676120388_28f03069c3.jpg\r\n",
            "302782756_d35cb3e468.jpg\r\n",
            "3310644753_5607eb96a4_m.jpg\r\n",
            "3440366251_5b9bdf27c9_m.jpg\r\n",
            "6950173662_5e9473003e_n.jpg\r\n",
            "8719756744_34a5a83976_n.jpg\r\n",
            "2649404904_b7a91991bb_n.jpg\r\n",
            "4561871220_47f420ca59_m.jpg\r\n",
            "20773528301_008fcbc5a1_n.jpg\r\n",
            "3450822975_7e77d67636_n.jpg\r\n",
            "4757448834_a29a9538c9_n.jpg\r\n",
            "4657354814_f368762c53_m.jpg\r\n",
            "7335886184_d06a83f640.jpg\r\n",
            "8882282142_9be2524d38_m.jpg\r\n",
            "4668543441_79040ca329_n.jpg\r\n",
            "10140303196_b88d3d6cec.jpg\r\n",
            "7416083788_fcb4c4f27e_n.jpg\r\n",
            "2567033807_8e918c53d8_n.jpg\r\n",
            "3704305945_a80e60e2f6_m.jpg\r\n",
            "2599662355_7782218c83.jpg\r\n",
            "9922116524_ab4a2533fe_n.jpg\r\n",
            "8740807508_0587f5b7b7.jpg\r\n",
            "7320089276_87b544e341.jpg\r\n",
            "5673551_01d1ea993e_n.jpg\r\n",
            "459931395_24bf6531fe_n.jpg\r\n",
            "14485782498_fb342ec301.jpg\r\n",
            "14330343061_99478302d4_m.jpg\r\n",
            "446484749_4044affcaf_n.jpg\r\n",
            "3975010332_3209f9f447_m.jpg\r\n",
            "3627678863_557552c879_m.jpg\r\n",
            "5795159787_ebb51a5e75.jpg\r\n",
            "14716799982_ed6d626a66.jpg\r\n",
            "3483303007_42e3f90da7.jpg\r\n",
            "17027891179_3edc08f4f6.jpg\r\n",
            "8694909523_3ca25d449d_n.jpg\r\n",
            "14088053307_1a13a0bf91_n.jpg\r\n",
            "3711892138_b8c953fdc1_z.jpg\r\n",
            "433837534_1dbf798b73.jpg\r\n",
            "5586977262_6b24412805_n.jpg\r\n",
            "20703737132_179560d0fb.jpg\r\n",
            "14907815010_bff495449f.jpg\r\n",
            "5794839_200acd910c_n.jpg\r\n",
            "16482676953_5296227d40_n.jpg\r\n",
            "14564545365_1f1d267bf1_n.jpg\r\n",
            "519880292_7a3a6c6b69.jpg\r\n",
            "2349640101_212c275aa7.jpg\r\n",
            "5574421625_61b1f49b3f_m.jpg\r\n",
            "2627815904_919373e7f5.jpg\r\n",
            "517054463_036db655a1_m.jpg\r\n",
            "799952628_bf836677fa_n.jpg\r\n",
            "5693459303_e61d9a9533.jpg\r\n",
            "4598422221_b37313a3e3_n.jpg\r\n",
            "2551708158_1f10e81e11.jpg\r\n",
            "530738000_4df7e4786b.jpg\r\n",
            "14554906452_35f066ffe9_n.jpg\r\n",
            "3637428148_a1dcccafa9_n.jpg\r\n",
            "5109508979_68e3530791_m.jpg\r\n",
            "6978826370_7b9aa7c7d5.jpg\r\n",
            "5434913005_409c1e8b56_n.jpg\r\n",
            "3356112863_75da8bca2c_m.jpg\r\n",
            "8085329197_41d53a21e2_n.jpg\r\n",
            "2635314490_e12d3b0f36_m.jpg\r\n",
            "9120905231_329598304e.jpg\r\n",
            "6884975451_c74f445d69_m.jpg\r\n",
            "4511693548_20f9bd2b9c_m.jpg\r\n",
            "3506866918_61dd5fc53b_n.jpg\r\n",
            "10993818044_4c19b86c82.jpg\r\n",
            "14332947164_9b13513c71_m.jpg\r\n",
            "4117918318_3c8935289b_m.jpg\r\n",
            "102841525_bd6628ae3c.jpg\r\n",
            "705422469_ffa28c566d.jpg\r\n",
            "4258408909_b7cc92741c_m.jpg\r\n",
            "6776075110_1ea7a09dd4_n.jpg\r\n",
            "21652746_cc379e0eea_m.jpg\r\n",
            "4610018126_21f438d2dc_m.jpg\r\n",
            "5623010186_796ca8d29a.jpg\r\n",
            "162362897_1d21b70621_m.jpg\r\n",
            "18400014056_2e4c601ed5.jpg\r\n",
            "3750250718_eb61146c5f.jpg\r\n",
            "7630511450_02d3292e90.jpg\r\n",
            "7454630692_ab2d67dd18_m.jpg\r\n",
            "13953307149_f8de6a768c_m.jpg\r\n",
            "4694730335_2553e77aa5_z.jpg\r\n",
            "19544831049_0d738d4872_m.jpg\r\n",
            "4563059851_45a9d21a75.jpg\r\n",
            "3661613900_b15ca1d35d_m.jpg\r\n",
            "2365428551_39f83f10bf_n.jpg\r\n",
            "9346508462_f0af3163f4.jpg\r\n",
            "2521408074_e6f86daf21_n.jpg\r\n",
            "3552074420_2a0a7166db_m.jpg\r\n",
            "14372713423_61e2daae88.jpg\r\n",
            "3504430338_77d6a7fab4_n.jpg\r\n",
            "2617111535_54c2ac8462.jpg\r\n",
            "10391248763_1d16681106_n.jpg\r\n",
            "2057816617_18448093d0_n.jpg\r\n",
            "7377004908_5bc0cde347_n.jpg\r\n",
            "3717746329_53f515c6a6_m.jpg\r\n",
            "18354545086_693ea7bc2a.jpg\r\n",
            "3379332157_04724f6480.jpg\r\n",
            "9158041313_7a6a102f7a_n.jpg\r\n",
            "9496209717_25a6ebdab6_m.jpg\r\n",
            "9593034725_0062f0d24e_n.jpg\r\n",
            "2908212142_5437fa67ff_n.jpg\r\n",
            "3758221664_b19116d61f.jpg\r\n",
            "147068564_32bb4350cc.jpg\r\n",
            "3957488431_52a447c0e8_m.jpg\r\n",
            "1355787476_32e9f2a30b.jpg\r\n",
            "799964360_7e07a227ea_n.jpg\r\n",
            "2351206867_084e57bd97.jpg\r\n",
            "18582579815_4c6637e9ff_m.jpg\r\n",
            "5435521200_92029bbe2b_n.jpg\r\n",
            "4890424315_6a59696357_n.jpg\r\n",
            "4544110929_a7de65d65f_n.jpg\r\n",
            "11834945233_a53b7a92ac_m.jpg\r\n",
            "1344985627_c3115e2d71_n.jpg\r\n",
            "5135131051_102d4878ca_n.jpg\r\n",
            "7669550908_bc5a11276f_n.jpg\r\n",
            "14591326135_930703dbed_m.jpg\r\n",
            "3338077096_3a8ed0e2bc_m.jpg\r\n",
            "4222584034_8964cbd3de.jpg\r\n",
            "305160642_53cde0f44f.jpg\r\n",
            "3546455114_cd2dea5e02.jpg\r\n",
            "3625257860_33efeef614_m.jpg\r\n",
            "16020253176_60f2a6a5ca_n.jpg\r\n",
            "9094631844_1a6abca29e.jpg\r\n",
            "3720632920_93cf1cc7f3_m.jpg\r\n",
            "6089825811_80f253fbe1.jpg\r\n",
            "3633489595_a037a9b7a4_m.jpg\r\n",
            "7630517248_98fb8bee1f_n.jpg\r\n",
            "16833748795_b681b2839f_n.jpg\r\n",
            "3598615130_578ed30e5f.jpg\r\n",
            "21805938544_bf6bb0e4bc.jpg\r\n",
            "14471433500_cdaa22e3ea_m.jpg\r\n",
            "2408024540_37f0be7cc0_n.jpg\r\n",
            "11642632_1e7627a2cc.jpg\r\n",
            "6210664514_f1d211217a.jpg\r\n",
            "3336704121_cfeb67a7d7.jpg\r\n",
            "6480809573_76a0074b69_n.jpg\r\n",
            "107592979_aaa9cdfe78_m.jpg\r\n",
            "4440480869_632ce6aff3_n.jpg\r\n",
            "5632774792_0fa33d17eb_n.jpg\r\n",
            "2607132536_d95198e619_n.jpg\r\n",
            "14219214466_3ca6104eae_m.jpg\r\n",
            "5876455546_32049e5585.jpg\r\n",
            "10993710036_2033222c91.jpg\r\n",
            "5434901893_4550be3f84_m.jpg\r\n",
            "11439894966_dca877f0cd.jpg\r\n",
            "9054268881_19792c5203_n.jpg\r\n",
            "4666648087_b10f376f19.jpg\r\n",
            "144076848_57e1d662e3_m.jpg\r\n",
            "3703643767_dee82cdef9_n.jpg\r\n",
            "4496202781_1d8e776ff5_n.jpg\r\n",
            "20289938802_e16fa9f23d.jpg\r\n",
            "9146733107_98b15d3892_m.jpg\r\n",
            "506493250_e9ca42fe3d.jpg\r\n",
            "3848258315_ed2fde4fb4.jpg\r\n",
            "4229503616_9b8a42123c_n.jpg\r\n",
            "2538504987_fe524b92a8_n.jpg\r\n",
            "5714327423_50af0cffe9.jpg\r\n",
            "20329326505_a777c71cc2.jpg\r\n",
            "4268817944_cdbdb226ae.jpg\r\n",
            "163978992_8128b49d3e_n.jpg\r\n",
            "13901930939_a7733c03f0_n.jpg\r\n",
            "7227973870_806d9d3e42_n.jpg\r\n",
            "8983779970_9d3a6a3bf2_n.jpg\r\n",
            "4727955343_0bb23ac4ae.jpg\r\n",
            "2590291468_2635d3e4e0_n.jpg\r\n",
            "10994032453_ac7f8d9e2e.jpg\r\n",
            "7790614422_4557928ab9_n.jpg\r\n",
            "8938566373_d129e7af75.jpg\r\n",
            "7924174040_444d5bbb8a.jpg\r\n",
            "3711723108_65247a3170.jpg\r\n",
            "15029936576_8d6f96c72c_n.jpg\r\n",
            "2579018590_74359dcf1a_m.jpg\r\n",
            "20580471306_ab5a011b15_n.jpg\r\n",
            "19280272025_57de24e940_m.jpg\r\n",
            "14354051035_1037b30421_n.jpg\r\n",
            "4697206799_19dd2a3193_m.jpg\r\n",
            "4851353993_2cbbbd1040_n.jpg\r\n",
            "6136947177_47ff445eb4_n.jpg\r\n",
            "16819071290_471d99e166_m.jpg\r\n",
            "19865728236_a62f8f445b_n.jpg\r\n",
            "4540555191_3254dc4608_n.jpg\r\n",
            "4482623536_b9fb5ae41f_n.jpg\r\n",
            "12701063955_4840594ea6_n.jpg\r\n",
            "18679421522_3be9879e32.jpg\r\n",
            "483886997_27ee798327.jpg\r\n",
            "5773652803_574b51414f_n.jpg\r\n",
            "506348009_9ecff8b6ef.jpg\r\n",
            "5110107234_12ddc0206b_m.jpg\r\n",
            "525271784_013ddccd1b_m.jpg\r\n",
            "22244161124_53e457bb66_n.jpg\r\n",
            "6480809771_b1e14c5cc2_m.jpg\r\n",
            "7133935763_82b17c8e1b_n.jpg\r\n",
            "1879567877_8ed2a5faa7_n.jpg\r\n",
            "3475870145_685a19116d.jpg\r\n",
            "4434592930_6610d51fca_m.jpg\r\n",
            "14569895116_32f0dcb0f9.jpg\r\n",
            "5512287917_9f5d3f0f98_n.jpg\r\n",
            "181007802_7cab5ee78e_n.jpg\r\n",
            "7629784968_b953501902_n.jpg\r\n",
            "12348343085_d4c396e5b5_m.jpg\r\n",
            "99306615_739eb94b9e_m.jpg\r\n",
            "153210866_03cc9f2f36.jpg\r\n",
            "15327813273_06cdf42210.jpg\r\n",
            "5602738326_97121e007d_n.jpg\r\n",
            "16121105382_b96251e506_m.jpg\r\n",
            "4837182901_69a6cc782b_n.jpg\r\n",
            "301964511_fab84ea1c1.jpg\r\n",
            "18635898912_eb8e058ef0.jpg\r\n",
            "294451721_5106537b34.jpg\r\n",
            "4538877108_3c793f7987_m.jpg\r\n",
            "2509545845_99e79cb8a2_n.jpg\r\n",
            "10770585085_4742b9dac3_n.jpg\r\n",
            "754248840_95092de274.jpg\r\n",
            "8021540573_c56cf9070d_n.jpg\r\n",
            "8071646795_2fdc89ab7a_n.jpg\r\n",
            "515112668_a49c69455a.jpg\r\n",
            "5981645737_29eceac291_m.jpg\r\n",
            "10466558316_a7198b87e2.jpg\r\n",
            "1299501272_59d9da5510_n.jpg\r\n",
            "267148092_4bb874af58.jpg\r\n",
            "3025866885_22fb0b61c6_n.jpg\r\n",
            "4646886118_b5c5ceaf6d_n.jpg\r\n",
            "10437754174_22ec990b77_m.jpg\r\n",
            "9489270024_1b05f08492_m.jpg\r\n",
            "4865691548_00319261b8.jpg\r\n",
            "5973491805_556bba93cc.jpg\r\n",
            "5133243796_44de429de5_m.jpg\r\n",
            "14816364517_2423021484_m.jpg\r\n",
            "5110105726_53eb7a93be_m.jpg\r\n",
            "14421389519_d5fd353eb4.jpg\r\n",
            "5577555349_2e8490259b.jpg\r\n",
            "3611577717_f3a7a8c416_n.jpg\r\n",
            "8708143485_38d084ac8c_n.jpg\r\n",
            "5110110938_9da91455c4_m.jpg\r\n",
            "11023272144_fce94401f2_m.jpg\r\n",
            "2488902131_3417698611_n.jpg\r\n",
            "8127252886_96558c23d1.jpg\r\n",
            "6299498346_b9774b6500.jpg\r\n",
            "2479956481_8d1a9699be_n.jpg\r\n",
            "4278442064_a5a598524b_m.jpg\r\n",
            "5434742166_35773eba57_m.jpg\r\n",
            "14264136211_9531fbc144.jpg\r\n",
            "5765646947_82e95a9cc9_n.jpg\r\n",
            "14221836990_90374e6b34.jpg\r\n",
            "5014137563_d03eb0ed75_n.jpg\r\n",
            "2346726545_2ebce2b2a6.jpg\r\n",
            "8681746439_d6beeefbf9.jpg\r\n",
            "14221848160_7f0a37c395.jpg\r\n",
            "2077865117_9ed85191ae_n.jpg\r\n",
            "20685027271_0e7306e7c1_n.jpg\r\n",
            "8120563761_ed5620664f_m.jpg\r\n",
            "8619103877_d8c82c5f34_n.jpg\r\n",
            "8008258043_5457dd254b_n.jpg\r\n",
            "14021430525_e06baf93a9.jpg\r\n",
            "1354396826_2868631432_m.jpg\r\n",
            "3474942718_c418dae6f1.jpg\r\n",
            "495098110_3a4bb30042_n.jpg\r\n",
            "498159452_b71afd65ba.jpg\r\n",
            "2473825306_62fd5f8785_n.jpg\r\n",
            "18203367608_07a04e98a4_n.jpg\r\n",
            "8094774544_35465c1c64.jpg\r\n",
            "162362896_99c7d851c8_n.jpg\r\n",
            "8446495985_f72d851482.jpg\r\n",
            "154332674_453cea64f4.jpg\r\n",
            "18195689904_46619b7e16_n.jpg\r\n",
            "2612704455_efce1c2144_m.jpg\r\n",
            "8348621545_8f02b82662_n.jpg\r\n",
            "2045022175_ad087f5f60_n.jpg\r\n",
            "4281102584_c548a69b81_m.jpg\r\n",
            "6208851904_9d916ebb32_n.jpg\r\n",
            "4432271543_01c56ca3a9.jpg\r\n",
            "19813618946_93818db7aa_m.jpg\r\n",
            "2666572212_2caca8de9f_n.jpg\r\n",
            "14921511479_7b0a647795.jpg\r\n",
            "367020749_3c9a652d75.jpg\r\n",
            "4792826628_aa5e5a9804_n.jpg\r\n",
            "3962240986_0661edc43a_n.jpg\r\n",
            "3445110406_0c1616d2e3_n.jpg\r\n",
            "7749368884_1fc58c67ff_n.jpg\r\n",
            "18711159980_11d3bd5042.jpg\r\n",
            "10437929963_bc13eebe0c.jpg\r\n",
            "422094774_28acc69a8b_n.jpg\r\n",
            "391364010_4b0942d400_m.jpg\r\n",
            "3491933306_43cfe2cfbe.jpg\r\n",
            "2641979584_2b21c3fe29_m.jpg\r\n",
            "8696022686_1f8d62c5cb_m.jpg\r\n",
            "435283392_72e4c5b5d6_m.jpg\r\n",
            "3494265422_9dba8f2191_n.jpg\r\n",
            "16291797949_a1b1b7c2bd_n.jpg\r\n",
            "13491959645_2cd9df44d6_n.jpg\r\n",
            "1150395827_6f94a5c6e4_n.jpg\r\n",
            "1656856503_447e5b0f03.jpg\r\n",
            "2511306240_9047015f2d_n.jpg\r\n",
            "3704306975_75b74497d8.jpg\r\n",
            "175106495_53ebdef092_n.jpg\r\n",
            "8932490012_cc08e690ba_n.jpg\r\n",
            "8887005939_b19e8305ee.jpg\r\n",
            "4318007511_e9f4311936_n.jpg\r\n",
            "4141147800_813f660b47.jpg\r\n",
            "2578695910_5ab8ee17c1_n.jpg\r\n",
            "391364011_5beaaa1ae2_m.jpg\r\n",
            "15760153042_a2a90e9da5_m.jpg\r\n",
            "3337536080_1db19964fe.jpg\r\n",
            "754296579_30a9ae018c_n.jpg\r\n",
            "5626784099_b36dd3fb11_n.jpg\r\n",
            "14613443462_d4ed356201.jpg\r\n",
            "433037739_6a030e5912.jpg\r\n",
            "11891885265_ccefec7284_n.jpg\r\n",
            "3861452393_14d2f95157_m.jpg\r\n",
            "9529916092_de70623523_n.jpg\r\n",
            "5809489674_5659b3ae5d_n.jpg\r\n",
            "14245834619_153624f836.jpg\r\n",
            "9345273630_af3550031d.jpg\r\n",
            "25360380_1a881a5648.jpg\r\n",
            "1392946544_115acbb2d9.jpg\r\n",
            "7630520686_e3a61ac763.jpg\r\n",
            "5673728_71b8cb57eb.jpg\r\n",
            "4993492878_11fd4f5d12.jpg\r\n",
            "2213954589_c7da4b1486.jpg\r\n",
            "134409839_71069a95d1_m.jpg\r\n",
            "2619413565_61a6cd3ac9_m.jpg\r\n",
            "14402451388_56545a374a_n.jpg\r\n",
            "8706810197_17b6c1f1e7.jpg\r\n",
            "16025261368_911703a536_n.jpg\r\n",
            "1396526833_fb867165be_n.jpg\r\n",
            "144603918_b9de002f60_m.jpg\r\n",
            "2087343668_ef4fb95787_n.jpg\r\n",
            "19975899671_ebc42b7865_n.jpg\r\n",
            "4858518329_7563eb0baa_m.jpg\r\n",
            "5739768868_9f982684f9_n.jpg\r\n",
            "14698531521_0c2f0c6539.jpg\r\n",
            "9242705328_eee8402a8d.jpg\r\n",
            "5435513198_90ce39f1aa_n.jpg\r\n",
            "10466290366_cc72e33532.jpg\r\n",
            "13826249325_f61cb15f86_n.jpg\r\n",
            "15784493690_b1858cdb2b_n.jpg\r\n",
            "134372449_0f7166d96c_n.jpg\r\n",
            "4144275653_7c02d47d9b.jpg\r\n",
            "16527403771_2391f137c4_n.jpg\r\n",
            "3900172983_9312fdf39c_n.jpg\r\n",
            "4085794721_7cd88e0a6c_m.jpg\r\n",
            "9467543719_c4800becbb_m.jpg\r\n",
            "8964198962_6d8593b533.jpg\r\n",
            "6910811638_aa6f17df23.jpg\r\n",
            "4861391074_c3e122dab0_m.jpg\r\n",
            "18442919723_d1251d3e14_n.jpg\r\n",
            "16492248512_61a57dfec1_m.jpg\r\n",
            "3285641623_da0e47f49a.jpg\r\n",
            "16401288243_36112bd52f_m.jpg\r\n",
            "6596277835_9f86da54bb.jpg\r\n",
            "8671824531_64b816949e_m.jpg\r\n",
            "6323721068_3d3394af6d_n.jpg\r\n",
            "1140299375_3aa7024466.jpg\r\n",
            "4820415253_15bc3b6833_n.jpg\r\n",
            "18622672908_eab6dc9140_n.jpg\r\n",
            "2573240560_ff7ffdd449.jpg\r\n",
            "4897587985_f9293ea1ed.jpg\r\n",
            "10555815624_dc211569b0.jpg\r\n",
            "534547364_3f6b7279d2_n.jpg\r\n",
            "15760811380_4d686c892b_n.jpg\r\n",
            "3468498624_d082f99e98.jpg\r\n",
            "8709535323_a6bea3e43f.jpg\r\n",
            "3639009391_0f910681b7.jpg\r\n",
            "14087947408_9779257411_n.jpg\r\n",
            "7568630428_8cf0fc16ff_n.jpg\r\n",
            "512477177_d9004cbcf1_n.jpg\r\n",
            "4065883015_4bb6010cb7_n.jpg\r\n",
            "4724713781_d169f98a35.jpg\r\n",
            "2331133004_582772d58f_m.jpg\r\n",
            "2476937534_21b285aa46_n.jpg\r\n",
            "3337643329_accc9b5426.jpg\r\n",
            "3588872598_e0f9a1d2a1_m.jpg\r\n",
            "19178753159_a471bf4b6b.jpg\r\n",
            "5948835387_5a98d39eff_m.jpg\r\n",
            "4669117051_ce61e91b76.jpg\r\n",
            "12891819633_e4c82b51e8.jpg\r\n",
            "14621687774_ec52811acd_n.jpg\r\n",
            "10172567486_2748826a8b.jpg\r\n",
            "3084924076_4d5c5711af_m.jpg\r\n",
            "7191221492_610035de7c_m.jpg\r\n",
            "14163875973_467224aaf5_m.jpg\r\n",
            "14507818175_05219b051c_m.jpg\r\n",
            "9180706736_092d43088c.jpg\r\n",
            "10437770546_8bb6f7bdd3_m.jpg\r\n",
            "6529588249_d9cbe68aab_n.jpg\r\n",
            "10555749515_13a12a026e.jpg\r\n",
            "3699235066_fc09a02dfe_m.jpg\r\n",
            "14333681205_a07c9f1752_m.jpg\r\n",
            "10559679065_50d2b16f6d.jpg\r\n",
            "5434914569_e9b982fde0_n.jpg\r\n",
            "4534460263_8e9611db3c_n.jpg\r\n",
            "15306268004_4680ba95e1.jpg\r\n",
            "7633425046_8293e3d0e9_m.jpg\r\n",
            "2514748602_343d4727c0_n.jpg\r\n",
            "174131220_c853df1287.jpg\r\n",
            "16737503507_431768a927.jpg\r\n",
            "5769217520_c90efc3c93_m.jpg\r\n",
            "20948886919_cac7844f34_n.jpg\r\n",
            "1441939151_b271408c8d_n.jpg\r\n",
            "2862944799_45bc8e7302.jpg\r\n",
            "23095658544_7226386954_n.jpg\r\n",
            "253426762_9793d43fcd.jpg\r\n",
            "520752848_4b87fb91a4.jpg\r\n",
            "11023214096_b5b39fab08.jpg\r\n",
            "452854574_59492f119a_m.jpg\r\n",
            "8382667241_0f046cecdb_n.jpg\r\n",
            "4814515275_6e25a6c18f.jpg\r\n",
            "4613992315_143ccc2a10_m.jpg\r\n",
            "4333085242_bbeb3e2841_m.jpg\r\n",
            "1285423653_18926dc2c8_n.jpg\r\n",
            "721595842_bacd80a6ac.jpg\r\n",
            "3098641292_76c908ba1f_n.jpg\r\n",
            "517054467_d82d323c33_m.jpg\r\n",
            "13977181862_f8237b6b52.jpg\r\n",
            "5665838969_fe217988b9_m.jpg\r\n",
            "5722473541_ffac1ae67e_n.jpg\r\n",
            "2001380507_19488ff96a_n.jpg\r\n",
            "2646438199_b309cffd65_n.jpg\r\n",
            "8063844363_db3f4dea85.jpg\r\n",
            "14707111433_cce08ee007.jpg\r\n",
            "144099102_bf63a41e4f_n.jpg\r\n",
            "3628485766_4ff937954a_n.jpg\r\n",
            "3695826945_9f374e8a00_m.jpg\r\n",
            "5665834973_76bd6c6523_m.jpg\r\n",
            "510844526_858b8fe4db.jpg\r\n",
            "413815348_764ae83088.jpg\r\n",
            "5684911529_88a7ae32ba_n.jpg\r\n",
            "2632216904_274aa17433.jpg\r\n",
            "10841136265_af473efc60.jpg\r\n",
            "19653086178_28156b7ce4_m.jpg\r\n",
            "15813862117_dedcd1c56f_m.jpg\r\n",
            "3706420943_66f3214862_n.jpg\r\n",
            "3463313493_9497aa47e5_n.jpg\r\n",
            "2539552964_921cf645ba_n.jpg\r\n",
            "4301689054_20519e5b68.jpg\r\n",
            "12193032636_b50ae7db35_n.jpg\r\n",
            "2877860110_a842f8b14a_m.jpg\r\n",
            "5853276960_d08f90fff6.jpg\r\n",
            "6864242336_0d12713fe5_n.jpg\r\n",
            "2561371688_c80a4fe957_n.jpg\r\n",
            "437859108_173fb33c98.jpg\r\n",
            "14399435971_ea5868c792.jpg\r\n",
            "9595857626_979c45e5bf_n.jpg\r\n",
            "4694734757_5c563d38dd_n.jpg\r\n",
            "2581171297_b0a249b92b_n.jpg\r\n",
            "2838487505_6c3b48efa5_m.jpg\r\n",
            "4581199679_867652c3f1_n.jpg\r\n",
            "4286053334_a75541f20b_m.jpg\r\n",
            "5881907044_92a85a05c8_n.jpg\r\n",
            "5973488341_50bdf6cee3_n.jpg\r\n",
            "5883162120_dc7274af76_n.jpg\r\n",
            "7189043225_2fe781439a_n.jpg\r\n",
            "20619292635_9857a12d54.jpg\r\n",
            "5811226952_4650ed70ae_n.jpg\r\n",
            "13583238844_573df2de8e_m.jpg\r\n",
            "3386988684_bc5a66005e.jpg\r\n",
            "2498632196_e47a472d5a.jpg\r\n",
            "54377391_15648e8d18.jpg\r\n",
            "1306119996_ab8ae14d72_n.jpg\r\n",
            "15853110333_229c439e7f.jpg\r\n",
            "299129811_d6ebda9970.jpg\r\n",
            "8759177308_951790e00d_m.jpg\r\n",
            "695778683_890c46ebac.jpg\r\n",
            "6095817094_3a5b1d793d.jpg\r\n",
            "5058708968_8bdcd29e63_n.jpg\r\n",
            "3410906335_37e8a24b1c_n.jpg\r\n",
            "5435522104_1d6a61b431_n.jpg\r\n",
            "2513618768_ff7c004796_m.jpg\r\n",
            "3780380240_ef9ec1b737_m.jpg\r\n",
            "3750771898_cfd50090ba_n.jpg\r\n",
            "11870378973_2ec1919f12.jpg\r\n",
            "5054771689_00dd40b971_n.jpg\r\n",
            "2454280137_e1637536ae_n.jpg\r\n",
            "158869618_f1a6704236_n.jpg\r\n",
            "3080880039_4f1bd592e5_n.jpg\r\n",
            "7066602021_2647457985_m.jpg\r\n",
            "1314069875_da8dc023c6_m.jpg\r\n",
            "488202750_c420cbce61.jpg\r\n",
            "9204730092_a7f2182347.jpg\r\n",
            "9350942387_5b1d043c26_n.jpg\r\n",
            "5110109540_beed4ed162_m.jpg\r\n",
            "2454280135_ac3aa75cdc_n.jpg\r\n",
            "835750256_3f91a147ef_n.jpg\r\n",
            "9161647994_e39b65cb9c_n.jpg\r\n",
            "3117644024_1cbb59a509_n.jpg\r\n",
            "3999978867_c67c79597f_m.jpg\r\n",
            "8645839873_0151fb92bf_n.jpg\r\n",
            "7410356270_9dff4d0e2e_n.jpg\r\n",
            "5796562389_ae43c83317_m.jpg\r\n",
            "2641151167_3bf1349606_m.jpg\r\n",
            "22873310415_3a5674ec10_m.jpg\r\n",
            "2713919471_301fcc941f.jpg\r\n",
            "4746633946_23933c0810.jpg\r\n",
            "512177035_70afc925c8.jpg\r\n",
            "4131565290_0585c4dd5a_n.jpg\r\n",
            "5561775629_a2b709b3a4_n.jpg\r\n",
            "5626895440_97a0ec04c2_n.jpg\r\n",
            "4654579740_6671a53627_m.jpg\r\n",
            "2621723097_736febb4a4_n.jpg\r\n",
            "5869147563_66fb88119d.jpg\r\n",
            "14600779226_7bbc288d40_m.jpg\r\n",
            "17101762155_2577a28395.jpg\r\n",
            "18684594849_7dd3634f5e_n.jpg\r\n",
            "9175280426_40ecc395b8_m.jpg\r\n",
            "14523675369_97c31d0b5b.jpg\r\n",
            "6054952060_c88612f3c5_n.jpg\r\n",
            "2481823240_eab0d86921.jpg\r\n",
            "5679288570_b4c52e76d5.jpg\r\n",
            "286875003_f7c0e1882d.jpg\r\n",
            "5997702776_c7bc37aa6b_n.jpg\r\n",
            "4276898893_609d11db8b.jpg\r\n",
            "9244082319_b1f7e2d8b0_n.jpg\r\n",
            "14307766919_fac3c37a6b_m.jpg\r\n",
            "9515186037_3be48fe68f.jpg\r\n",
            "14167543177_cd36b54ac6_n.jpg\r\n",
            "6148728633_27afc47b0c_m.jpg\r\n",
            "476857510_d2b30175de_n.jpg\r\n",
            "11124324295_503f3a0804.jpg\r\n",
            "4683997791_56e7d3c03c_n.jpg\r\n",
            "14866200659_6462c723cb_m.jpg\r\n",
            "2019064575_7656b9340f_m.jpg\r\n",
            "1031799732_e7f4008c03.jpg\r\n",
            "105806915_a9c13e2106_n.jpg\r\n",
            "17249393016_093e915012_n.jpg\r\n",
            "100080576_f52e8ee070_n.jpg\r\n",
            "173350276_02817aa8d5.jpg\r\n",
            "1286274236_1d7ac84efb_n.jpg\r\n",
            "2520369272_1dcdb5a892_m.jpg\r\n",
            "172882635_4cc7b86731_m.jpg\r\n",
            "3326037909_b5ae370722_n.jpg\r\n",
            "16360180712_b72695928c_n.jpg\r\n",
            "14147016029_8d3cf2414e.jpg\r\n",
            "9310226774_d1b8f5d9c9.jpg\r\n",
            "10712722853_5632165b04.jpg\r\n",
            "8742143296_fed9fa007c.jpg\r\n"
          ],
          "name": "stdout"
        }
      ]
    },
    {
      "cell_type": "code",
      "metadata": {
        "id": "SY9dXaFgBE4l",
        "colab_type": "code",
        "outputId": "18a43cf4-3900-4cd2-e90f-6f5994880a16",
        "colab": {
          "base_uri": "https://localhost:8080/",
          "height": 119
        }
      },
      "source": [
        "// List of paths created.\n",
        "\n",
        "let totalImages = glob.glob(\"flower_photos/*/**.jpg\")\n",
        "let daisyList = glob.glob(\"flower_photos/daisy/*.jpg\")\n",
        "let dandelionList = glob.glob(\"flower_photos/dandelion/*.jpg\")\n",
        "let rosesList = glob.glob(\"flower_photos/roses/*.jpg\")\n",
        "let sunflowersList = glob.glob(\"flower_photos/sunflowers/*.jpg\")\n",
        "let tulipsList = glob.glob(\"flower_photos/tulips/*.jpg\")\n",
        "\n",
        "print(\"Total Images \\(totalImages.count)\")\n",
        "print(\"roses \\(rosesList.count)\")\n",
        "print(\"sunflowers \\(sunflowersList.count)\")\n",
        "print(\"daisy \\(daisyList.count)\")\n",
        "print(\"tulips \\(tulipsList.count)\")\n",
        "print(\"dandelion \\(dandelionList.count)\")"
      ],
      "execution_count": 8,
      "outputs": [
        {
          "output_type": "stream",
          "text": [
            "Total Images 3670\r\n",
            "roses 641\r\n",
            "sunflowers 699\r\n",
            "daisy 633\r\n",
            "tulips 799\r\n",
            "dandelion 898\r\n"
          ],
          "name": "stdout"
        }
      ]
    },
    {
      "cell_type": "markdown",
      "metadata": {
        "id": "_fOp3XH_7ngK",
        "colab_type": "text"
      },
      "source": [
        "We'll now assign variables with the proper file path for the training and validation sets."
      ]
    },
    {
      "cell_type": "markdown",
      "metadata": {
        "id": "rJVVxOUXAv8T",
        "colab_type": "text"
      },
      "source": [
        "As you can see there are no folders containing training and validation data. Therefore, we will have to create our own training and validation set. Let's write some code that will do this.\n",
        "\n",
        "\n",
        "The code below creates a `trainList` and a `testList` list. It then copies the image paths from the original folders to these new lists such that 80% of the images go to the training set and 20% of the images go into the validation set."
      ]
    },
    {
      "cell_type": "code",
      "metadata": {
        "id": "Q-CK_BBQ1Yru",
        "colab_type": "code",
        "outputId": "86340477-d5e2-4775-c7e5-87bc89abad73",
        "colab": {
          "base_uri": "https://localhost:8080/",
          "height": 68
        }
      },
      "source": [
        "let numTotalImages = [641, 699, 633, 799, 898]\n",
        "let numTrainImages = [512, 559, 506, 639, 718]  // Number of Train Images = 0.8 * Number of Total Images.\n",
        "var trainList = Python.list()\n",
        "var testList = Python.list()\n",
        "var i = 0, numImagesDone = 0\n",
        "\n",
        "for path in totalImages {\n",
        "    if numImagesDone == numTotalImages[i] {\n",
        "        i += 1\n",
        "        numImagesDone = 0\n",
        "    }\n",
        "    if numImagesDone >= numTrainImages[i] {\n",
        "        testList.append(path)\n",
        "        numImagesDone += 1\n",
        "    } else {\n",
        "        trainList.append(path)\n",
        "        numImagesDone += 1\n",
        "    }\n",
        "}\n",
        "\n",
        "for i in 0..<5 {\n",
        "    np.random.shuffle(trainList)\n",
        "    np.random.shuffle(testList)\n",
        "}\n",
        "\n",
        "print(\"Total Images \\(totalImages.count)\")\n",
        "print(\"Train Images \\(trainList.count)\")\n",
        "print(\"Test Images \\(testList.count)\")"
      ],
      "execution_count": 9,
      "outputs": [
        {
          "output_type": "stream",
          "text": [
            "Total Images 3670\r\n",
            "Train Images 2934\r\n",
            "Test Images 736\r\n"
          ],
          "name": "stdout"
        }
      ]
    },
    {
      "cell_type": "markdown",
      "metadata": {
        "id": "RW_oP9vd83AT",
        "colab_type": "text"
      },
      "source": [
        "### Visualizing Training images"
      ]
    },
    {
      "cell_type": "markdown",
      "metadata": {
        "id": "FoeLuQjY83nZ",
        "colab_type": "text"
      },
      "source": [
        "*We* can visualize our training images by creating functions to plot images through their paths or tensors, and then plotting a few of them."
      ]
    },
    {
      "cell_type": "code",
      "metadata": {
        "id": "wZaQBU0R6n-d",
        "colab_type": "code",
        "colab": {}
      },
      "source": [
        "func plotImages(_ image: Tensor<Float>) {\n",
        "    let numpyImage = image.makeNumpyArray().reshape(150, 150, 3)\n",
        "    plt.imshow(numpyImage)\n",
        "    plt.show()\n",
        "}\n",
        "\n",
        "func plotImages(fromPath path: String) {\n",
        "    let img = pil.Image.open(path)\n",
        "    let image = np.array(img) * (1.0 / 255)\n",
        "    plt.imshow(image)\n",
        "    plt.show()\n",
        "}"
      ],
      "execution_count": 0,
      "outputs": []
    },
    {
      "cell_type": "markdown",
      "metadata": {
        "id": "zazRWHDLne_x",
        "colab_type": "text"
      },
      "source": [
        "# Data Augmentation"
      ]
    },
    {
      "cell_type": "markdown",
      "metadata": {
        "id": "FczZhOBEnhQA",
        "colab_type": "text"
      },
      "source": [
        "Overfitting often occurs when we have a small number of training examples. One way to fix this problem is to augment our dataset so that it has sufficient number and variety of training examples. Data augmentation takes the approach of generating more training data from existing training samples, by augmenting the samples through random transformations that yield believable-looking images. The goal is that at training time, your model will never see the exact same picture twice. This exposes the model to more aspects of the data, allowing it to generalize better.\n",
        "\n",
        "In Swift for TensorFlow we can implement this using the different Python Libraries through Python Interoperability. We can simply pass different transformations we would want to our dataset as a form of arguments and it will take care of applying it to the dataset during our training process."
      ]
    },
    {
      "cell_type": "markdown",
      "metadata": {
        "id": "On5jRhcfnisD",
        "colab_type": "text"
      },
      "source": [
        "We perform following Image Augmentation techniques randomly on an image:\n",
        "\n",
        "*  Rotating the image\n",
        "* Transposing\n",
        "* Flipping the image horizontally\n",
        "* Adding Noise"
      ]
    },
    {
      "cell_type": "code",
      "metadata": {
        "id": "q9IsIJl5nk3L",
        "colab_type": "code",
        "colab": {}
      },
      "source": [
        "func augmentedImage(path: String) -> Tensor<Float> {\n",
        "    \n",
        "    var img = pil.Image.open(path)\n",
        "    \n",
        "    if random.random() < 0.5 {\n",
        "        img = img.rotate(45) // Rotate 45 degrees.\n",
        "    }\n",
        "    \n",
        "    if random.random() < 0.5 {\n",
        "        img = img.transpose(pil.Image.TRANSPOSE) // Transpose.\n",
        "    }\n",
        "    \n",
        "    if random.random() < 0.5 {\n",
        "        img = img.transpose(pil.Image.FLIP_LEFT_RIGHT) // Flip.\n",
        "    }\n",
        "    \n",
        "    var image = np.array(img, dtype: np.float32) * (1.0 / 255)\n",
        "    \n",
        "    if random.random() < 0.5 {\n",
        "        image = sk.util.random_noise(image) // Add noise.\n",
        "    }\n",
        "    \n",
        "    image = np.array(image, dtype: np.float32)\n",
        "    \n",
        "    let imageTensor = Tensor<Float>(numpy: image)!\n",
        "\n",
        "    return imageTensor\n",
        "}"
      ],
      "execution_count": 0,
      "outputs": []
    },
    {
      "cell_type": "markdown",
      "metadata": {
        "id": "akDk2rmO70un",
        "colab_type": "text"
      },
      "source": [
        "# Data Preparation "
      ]
    },
    {
      "cell_type": "markdown",
      "metadata": {
        "id": "nQ7KrBqH71L0",
        "colab_type": "text"
      },
      "source": [
        "Images must be formatted into appropriately pre-processed floating point tensors before being fed into the network. The steps involved in preparing these images are:\n",
        "\n",
        "1. Read images from the disk.\n",
        "2. Decode contents of these images and convert it into proper grid format as per their RGB content.\n",
        "3. Convert them into floating point tensors.\n",
        "4. Rescale the tensors from values between 0 and 255 to values between 0 and 1, as neural networks prefer to deal with small input values.\n",
        "5. Apply or not apply Image Augmentation Techniques, based on type of data.\n",
        "\n",
        "We have done this in the following code."
      ]
    },
    {
      "cell_type": "markdown",
      "metadata": {
        "id": "aRAT9M538M82",
        "colab_type": "text"
      },
      "source": [
        "The `resizedImage(fromPath:augmented:)` function takes 2 inputs are:\n",
        "1. Image path as input.\n",
        "2. Whether or not to apply image augmentations.\n",
        "\n",
        "The `images(fromList:imageCount:augmented:)` function takes 3 inputs :\n",
        "\n",
        "1. List of paths.\n",
        "\n",
        "2. Number of tensors to be produced in the output tensor as input.\n",
        "\n",
        "3. Whether or not to apply image augmentations."
      ]
    },
    {
      "cell_type": "code",
      "metadata": {
        "id": "1DC85ego6kmK",
        "colab_type": "code",
        "colab": {}
      },
      "source": [
        "// Function `resizedImage(fromPath:augmented:)` returns the resized image tensor w/ augmentation and it's corresponding label.\n",
        "func resizedImage(fromPath: String, augmented: Bool) -> (Tensor<Float>, Int32) {\n",
        "    var img = pil.Image.open(fromPath)\n",
        "    var image = np.array(img, dtype: np.float32) * (1.0 / 255)\n",
        "    var imageTensor = Tensor<Float>(numpy: image)!\n",
        "    \n",
        "    if augmented {\n",
        "        imageTensor = augmentedImage(path: fromPath)\n",
        "    }\n",
        "    \n",
        "    imageTensor = imageTensor.expandingShape(at: 0)\n",
        "    imageTensor = Raw.resizeArea(images: imageTensor , size: [150, 150])\n",
        "    \n",
        "    var label: Int32 = 0\n",
        "    \n",
        "    for i in 0 ..< 5 {\n",
        "        if fromPath.contains(classNames[i]) {\n",
        "            label = Int32(i)\n",
        "            break\n",
        "        }\n",
        "    }\n",
        "    \n",
        "    return (imageTensor, label)\n",
        "}\n",
        "\n",
        "// Function `images(fromList:imageCount:augmented:)` returns the entire list converted to tensors of images and labels from `resizedImage(fromPath:augmented:)` function.\n",
        "func images(fromList: PythonObject, imageCount: Int, augmented: Bool) -> (image: Tensor<Float>, label: Tensor<Int32>) {\n",
        "    let batchFiles = fromList[0..<imageCount]\n",
        "    var labels: [Int32] = []\n",
        "    var x: Tensor<Float>\n",
        "    var y: Tensor<Int32>\n",
        "\n",
        "    // Load first image.\n",
        "    let path = String(batchFiles[0]) ?? \"\"\n",
        "    let data = resizedImage(fromPath: path, augmented: augmented)\n",
        "    x = data.0 \n",
        "    labels.append(data.1)\n",
        "\n",
        "    // Load rest of the images.\n",
        "    var numberOfFilesDone = 1\n",
        "    for file in batchFiles[1..<imageCount] {\n",
        "        let path = String(file) ?? \"\"\n",
        "        let data = resizedImage(fromPath: path, augmented: augmented)\n",
        "        let tensor = data.0\n",
        "        labels.append(data.1)\n",
        "        x = Tensor(concatenating: [x, tensor], alongAxis: 0)\n",
        "    }\n",
        "    y = Tensor<Int32>(labels)\n",
        "    return (x, y)\n",
        "}"
      ],
      "execution_count": 0,
      "outputs": []
    },
    {
      "cell_type": "markdown",
      "metadata": {
        "id": "e7t-Xyds8dOm",
        "colab_type": "text"
      },
      "source": [
        "After defining our generators for images and labels, we will load those images and labels in tensor arrays, thereby creating our `testTensors`."
      ]
    },
    {
      "cell_type": "code",
      "metadata": {
        "id": "w9T1CsET6mVn",
        "colab_type": "code",
        "outputId": "a6a72a85-a345-4d6c-9233-e4b0dc38d156",
        "colab": {
          "base_uri": "https://localhost:8080/",
          "height": 51
        }
      },
      "source": [
        "// Test Dataset creation.\n",
        "\n",
        "let testTensors = images(fromList: testList, imageCount: testList.count, augmented: false)\n",
        "let testImageTensors = testTensors.0\n",
        "let testLabelTensors = testTensors.1\n",
        "print(testImageTensors.shape)\n",
        "print(testLabelTensors.shape)"
      ],
      "execution_count": 13,
      "outputs": [
        {
          "output_type": "stream",
          "text": [
            "[736, 150, 150, 3]\r\n",
            "[736]\r\n"
          ],
          "name": "stdout"
        }
      ]
    },
    {
      "cell_type": "markdown",
      "metadata": {
        "id": "pyb5bsh_9Idt",
        "colab_type": "text"
      },
      "source": [
        "# Model Creation"
      ]
    },
    {
      "cell_type": "markdown",
      "metadata": {
        "id": "Mk5ikBiM9JA8",
        "colab_type": "text"
      },
      "source": [
        "## Define the model\n",
        "\n",
        "In the cell below, create a convolutional neural network that consists of 3 convolution blocks. Each convolutional block contains a `Conv2D` layer followed by a max pool layer. The first convolutional block should have 16 filters, the second one should have 32 filters, and the third one should have 64 filters. All convolutional filters should be 3 x 3. All max pool layers should have a `poolSize` of `(2, 2)`. \n",
        "\n",
        "After the 3 convolutional blocks you should have a flatten layer followed by a fully connected layer with 512 units. The CNN should output class probabilities based on 5 classes which is done by the **softmax** activation function. All other layers should use a **relu** activation function. You should also add Dropout layers with a probability of 20%, where appropriate."
      ]
    },
    {
      "cell_type": "code",
      "metadata": {
        "id": "mPf9jf2p6rE-",
        "colab_type": "code",
        "colab": {}
      },
      "source": [
        "// A classifier.\n",
        "struct Classifier: Layer {\n",
        "    typealias Input = Tensor<Float>\n",
        "    typealias Output = Tensor<Float>\n",
        "\n",
        "    var conv1a = Conv2D<Float>(filterShape: (3, 3, 3, 16), activation: relu)\n",
        "    var pool1 = MaxPool2D<Float>(poolSize: (2, 2), strides: (2, 2))\n",
        "    \n",
        "    var conv1b = Conv2D<Float>(filterShape: (3, 3, 16, 32), activation: relu)\n",
        "    var pool2 = MaxPool2D<Float>(poolSize: (2, 2), strides: (2, 2))\n",
        "    \n",
        "    var conv1c = Conv2D<Float>(filterShape: (3, 3, 32, 64), activation: relu)\n",
        "    var pool3 = MaxPool2D<Float>(poolSize: (2, 2), strides: (2, 2))\n",
        "    \n",
        "    var flatten = Flatten<Float>()\n",
        "    var dropout1a = Dropout<Float>(probability: 0.2)\n",
        "    var layer1a = Dense<Float>(inputSize: 18496, outputSize: 512, activation: relu)\n",
        "    var dropout1b = Dropout<Float>(probability: 0.2)\n",
        "    var layer1b = Dense<Float>(inputSize: 512, outputSize: 5, activation: softmax)\n",
        "\n",
        "    @differentiable\n",
        "    public func callAsFunction(_ input: Input) -> Output {\n",
        "        var convolved1 = input.sequenced(through: conv1a, pool1)\n",
        "        var convolved2 = convolved1.sequenced(through: conv1b, pool2)\n",
        "        var convolved3 = convolved2.sequenced(through: conv1c, pool3)\n",
        "        var dense1 = convolved3.sequenced(through: flatten, dropout1a, layer1a)\n",
        "        var dense2 = dense1.sequenced(through: dropout1b, layer1b)\n",
        "        return dense2\n",
        "    }\n",
        "}"
      ],
      "execution_count": 0,
      "outputs": []
    },
    {
      "cell_type": "markdown",
      "metadata": {
        "id": "o_3UQ6ef9N5b",
        "colab_type": "text"
      },
      "source": [
        "### Compile the model\n",
        "\n",
        "As usual, we will use the `adam` optimizer. Since we are output a softmax categorization, we'll use `softmaxCrossEntropy` as the loss function. We would also like to look at training and validation accuracy on each epoch as we train our network, so we are passing in the metrics argument."
      ]
    },
    {
      "cell_type": "code",
      "metadata": {
        "id": "MSNPc99r6s08",
        "colab_type": "code",
        "outputId": "923e247b-16ef-48cd-cc1b-d778d2e3a32f",
        "colab": {
          "base_uri": "https://localhost:8080/",
          "height": 85
        }
      },
      "source": [
        "let tensor = Tensor<Float>(zeros:[1, 150, 150, 3])\n",
        "var classifier = Classifier()\n",
        "var optimizer = Adam(for: classifier, learningRate: 0.001)\n",
        "classifier(tensor).shape"
      ],
      "execution_count": 15,
      "outputs": [
        {
          "output_type": "execute_result",
          "data": {
            "text/plain": [
              "▿ [1, 5]\n",
              "  ▿ dimensions : 2 elements\n",
              "    - 0 : 1\n",
              "    - 1 : 5\n"
            ]
          },
          "metadata": {
            "tags": []
          },
          "execution_count": 15
        }
      ]
    },
    {
      "cell_type": "code",
      "metadata": {
        "id": "zZ1o31qE6uGz",
        "colab_type": "code",
        "colab": {}
      },
      "source": [
        "let epochCount = 80\n",
        "let batchSize = 100\n",
        "\n",
        "// Extract a batch of size batchSize.\n",
        "func minibatch<Scalar>(in x: Tensor<Scalar>, at index: Int) -> Tensor<Scalar> {\n",
        "    let start = index * batchSize\n",
        "    return x[start..<start+batchSize]\n",
        "}"
      ],
      "execution_count": 0,
      "outputs": []
    },
    {
      "cell_type": "code",
      "metadata": {
        "id": "C0YEIbAT-m3E",
        "colab_type": "code",
        "colab": {}
      },
      "source": [
        "var trainingAccuracy: [Float] = []\n",
        "var validationAccuracy: [Float] = []\n",
        "var trainingLoss: [Float] = []\n",
        "var validationLoss: [Float] = []\n",
        "var epochsRange: [Int] = []"
      ],
      "execution_count": 0,
      "outputs": []
    },
    {
      "cell_type": "markdown",
      "metadata": {
        "id": "UJvC4F3O9bTW",
        "colab_type": "text"
      },
      "source": [
        "### Train the model"
      ]
    },
    {
      "cell_type": "markdown",
      "metadata": {
        "id": "vuGBD1uY9bt6",
        "colab_type": "text"
      },
      "source": [
        "It's time we train our network. \n",
        "\n",
        "We need to apply the random image augmentations every time an image is accessed, so we recreate `trainTensors` in every epoch."
      ]
    },
    {
      "cell_type": "code",
      "metadata": {
        "id": "RY0hIJK36vnT",
        "colab_type": "code",
        "outputId": "14318504-ca54-44a8-b3b5-71306329b6b3",
        "colab": {
          "base_uri": "https://localhost:8080/",
          "height": 1000
        }
      },
      "source": [
        "print(\"Beginning training...\")\n",
        "\n",
        "struct Statistics {\n",
        "    var correctGuessCount: Int = 0\n",
        "    var totalGuessCount: Int = 0\n",
        "    var totalLoss: Float = 0\n",
        "}\n",
        "\n",
        "// The training loop.\n",
        "for epoch in 1...epochCount {\n",
        "    epochsRange.append(epoch)\n",
        "    var trainStats = Statistics()\n",
        "    var testStats = Statistics()\n",
        "    print(\"Creating Training Dataset for Epoch \\(epoch)\")\n",
        "    let trainTensors = images(fromList: trainList, imageCount: trainList.count, augmented: true)\n",
        "    let trainImageTensors = trainTensors.0\n",
        "    let trainLabelTensors = trainTensors.1\n",
        "    print(\"Dataset Creation Completed\")\n",
        "    \n",
        "    Context.local.learningPhase = .training\n",
        "    for i in 0..<Int(trainList.count) / batchSize {\n",
        "        let x = minibatch(in: trainImageTensors, at: i)\n",
        "        let y = minibatch(in: trainLabelTensors, at: i)\n",
        "        // Compute the gradient with respect to the model.\n",
        "        let 𝛁model = classifier.gradient { classifier -> Tensor<Float> in\n",
        "            let ŷ = classifier(x)\n",
        "            let correctPredictions = ŷ.argmax(squeezingAxis: 1) .== y\n",
        "            trainStats.correctGuessCount += Int(\n",
        "              Tensor<Int32>(correctPredictions).sum().scalarized())\n",
        "            trainStats.totalGuessCount += batchSize\n",
        "            let loss = softmaxCrossEntropy(logits: ŷ, labels: y)\n",
        "            trainStats.totalLoss += loss.scalarized()\n",
        "            return loss\n",
        "        }\n",
        "        // Update the model's differentiable variables along the gradient vector.\n",
        "        optimizer.update(&classifier.allDifferentiableVariables, along: 𝛁model)\n",
        "    }\n",
        "\n",
        "    Context.local.learningPhase = .inference\n",
        "    for i in 0..<Int(testList.count) / batchSize {\n",
        "        let x = minibatch(in: testImageTensors, at: i)\n",
        "        let y = minibatch(in: testLabelTensors, at: i)\n",
        "        // Compute loss on test set.\n",
        "        let ŷ = classifier(x)\n",
        "        let correctPredictions = ŷ.argmax(squeezingAxis: 1) .== y\n",
        "        testStats.correctGuessCount += Int(Tensor<Int32>(correctPredictions).sum().scalarized())\n",
        "        testStats.totalGuessCount += batchSize\n",
        "        let loss = softmaxCrossEntropy(logits: ŷ, labels: y)\n",
        "        testStats.totalLoss += loss.scalarized()\n",
        "    }\n",
        "    \n",
        "    let trainAccuracy = Float(trainStats.correctGuessCount) / Float(trainStats.totalGuessCount)\n",
        "    let testAccuracy = Float(testStats.correctGuessCount) / Float(testStats.totalGuessCount)\n",
        "    \n",
        "    trainingAccuracy.append(trainAccuracy)\n",
        "    validationAccuracy.append(testAccuracy)\n",
        "    trainingLoss.append(trainStats.totalLoss)\n",
        "    validationLoss.append(testStats.totalLoss)\n",
        "    \n",
        "    print(\"\"\"\n",
        "          [Epoch \\(epoch)] \\\n",
        "          Training Loss: \\(trainStats.totalLoss), \\\n",
        "          Training Accuracy: \\(trainStats.correctGuessCount)/\\(trainStats.totalGuessCount) \\ \n",
        "          (\\(trainAccuracy)), \\\n",
        "          Test Loss: \\(testStats.totalLoss), \\\n",
        "          Test Accuracy: \\(testStats.correctGuessCount)/\\(testStats.totalGuessCount) \\\n",
        "          (\\(testAccuracy))\n",
        "          \"\"\")\n",
        "}"
      ],
      "execution_count": 18,
      "outputs": [
        {
          "output_type": "stream",
          "text": [
            "Beginning training...\r\n",
            "Creating Training Dataset for Epoch 1\n",
            "Dataset Creation Completed\n",
            "[Epoch 1] Training Loss: 45.103855, Training Accuracy: 922/2900 (0.31793103), Test Loss: 10.616795, Test Accuracy: 256/700 (0.36571428)\n",
            "Creating Training Dataset for Epoch 2\n",
            "Dataset Creation Completed\n",
            "[Epoch 2] Training Loss: 42.544632, Training Accuracy: 1239/2900 (0.42724138), Test Loss: 10.178578, Test Accuracy: 299/700 (0.42714286)\n",
            "Creating Training Dataset for Epoch 3\n",
            "Dataset Creation Completed\n",
            "[Epoch 3] Training Loss: 41.73059, Training Accuracy: 1322/2900 (0.45586208), Test Loss: 10.179486, Test Accuracy: 309/700 (0.44142857)\n",
            "Creating Training Dataset for Epoch 4\n",
            "Dataset Creation Completed\n",
            "[Epoch 4] Training Loss: 41.529953, Training Accuracy: 1344/2900 (0.4634483), Test Loss: 10.004057, Test Accuracy: 329/700 (0.47)\n",
            "Creating Training Dataset for Epoch 5\n",
            "Dataset Creation Completed\n",
            "[Epoch 5] Training Loss: 40.00569, Training Accuracy: 1510/2900 (0.52068967), Test Loss: 9.426105, Test Accuracy: 388/700 (0.5542857)\n",
            "Creating Training Dataset for Epoch 6\n",
            "Dataset Creation Completed\n",
            "[Epoch 6] Training Loss: 38.213284, Training Accuracy: 1686/2900 (0.5813793), Test Loss: 9.304139, Test Accuracy: 398/700 (0.56857145)\n",
            "Creating Training Dataset for Epoch 7\n",
            "Dataset Creation Completed\n",
            "[Epoch 7] Training Loss: 38.03232, Training Accuracy: 1702/2900 (0.58689654), Test Loss: 9.21112, Test Accuracy: 406/700 (0.58)\n",
            "Creating Training Dataset for Epoch 8\n",
            "Dataset Creation Completed\n",
            "[Epoch 8] Training Loss: 38.12819, Training Accuracy: 1696/2900 (0.5848276), Test Loss: 9.193667, Test Accuracy: 411/700 (0.5871429)\n",
            "Creating Training Dataset for Epoch 9\n",
            "Dataset Creation Completed\n",
            "[Epoch 9] Training Loss: 37.46087, Training Accuracy: 1754/2900 (0.6048276), Test Loss: 8.940455, Test Accuracy: 442/700 (0.6314286)\n",
            "Creating Training Dataset for Epoch 10\n",
            "Dataset Creation Completed\n",
            "[Epoch 10] Training Loss: 36.814, Training Accuracy: 1829/2900 (0.6306897), Test Loss: 8.984031, Test Accuracy: 431/700 (0.6157143)\n",
            "Creating Training Dataset for Epoch 11\n",
            "Dataset Creation Completed\n",
            "[Epoch 11] Training Loss: 36.259254, Training Accuracy: 1895/2900 (0.6534483), Test Loss: 8.903053, Test Accuracy: 438/700 (0.6257143)\n",
            "Creating Training Dataset for Epoch 12\n",
            "Dataset Creation Completed\n",
            "[Epoch 12] Training Loss: 36.15935, Training Accuracy: 1896/2900 (0.6537931), Test Loss: 8.983635, Test Accuracy: 433/700 (0.6185714)\n",
            "Creating Training Dataset for Epoch 13\n",
            "Dataset Creation Completed\n",
            "[Epoch 13] Training Loss: 36.041504, Training Accuracy: 1911/2900 (0.6589655), Test Loss: 8.920052, Test Accuracy: 435/700 (0.62142855)\n",
            "Creating Training Dataset for Epoch 14\n",
            "Dataset Creation Completed\n",
            "[Epoch 14] Training Loss: 36.201042, Training Accuracy: 1897/2900 (0.6541379), Test Loss: 8.961424, Test Accuracy: 427/700 (0.61)\n",
            "Creating Training Dataset for Epoch 15\n",
            "Dataset Creation Completed\n",
            "[Epoch 15] Training Loss: 35.88519, Training Accuracy: 1929/2900 (0.6651724), Test Loss: 8.855114, Test Accuracy: 447/700 (0.63857144)\n",
            "Creating Training Dataset for Epoch 16\n",
            "Dataset Creation Completed\n",
            "[Epoch 16] Training Loss: 35.905815, Training Accuracy: 1917/2900 (0.66103446), Test Loss: 8.934244, Test Accuracy: 438/700 (0.6257143)\n",
            "Creating Training Dataset for Epoch 17\n",
            "Dataset Creation Completed\n",
            "[Epoch 17] Training Loss: 35.481583, Training Accuracy: 1966/2900 (0.677931), Test Loss: 8.8064575, Test Accuracy: 441/700 (0.63)\n",
            "Creating Training Dataset for Epoch 18\n",
            "Dataset Creation Completed\n",
            "[Epoch 18] Training Loss: 35.096363, Training Accuracy: 2013/2900 (0.69413793), Test Loss: 8.70557, Test Accuracy: 457/700 (0.6528571)\n",
            "Creating Training Dataset for Epoch 19\n",
            "Dataset Creation Completed\n",
            "[Epoch 19] Training Loss: 34.82746, Training Accuracy: 2035/2900 (0.7017241), Test Loss: 8.717197, Test Accuracy: 453/700 (0.6471428)\n",
            "Creating Training Dataset for Epoch 20\n",
            "Dataset Creation Completed\n",
            "[Epoch 20] Training Loss: 34.687744, Training Accuracy: 2053/2900 (0.70793104), Test Loss: 8.810783, Test Accuracy: 446/700 (0.63714284)\n",
            "Creating Training Dataset for Epoch 21\n",
            "Dataset Creation Completed\n",
            "[Epoch 21] Training Loss: 34.53022, Training Accuracy: 2066/2900 (0.7124138), Test Loss: 8.695206, Test Accuracy: 465/700 (0.6642857)\n",
            "Creating Training Dataset for Epoch 22\n",
            "Dataset Creation Completed\n",
            "[Epoch 22] Training Loss: 34.340202, Training Accuracy: 2082/2900 (0.71793103), Test Loss: 8.728865, Test Accuracy: 455/700 (0.65)\n",
            "Creating Training Dataset for Epoch 23\n",
            "Dataset Creation Completed\n",
            "[Epoch 23] Training Loss: 34.674713, Training Accuracy: 2048/2900 (0.7062069), Test Loss: 8.568342, Test Accuracy: 468/700 (0.6685714)\n",
            "Creating Training Dataset for Epoch 24\n",
            "Dataset Creation Completed\n",
            "[Epoch 24] Training Loss: 34.037785, Training Accuracy: 2116/2900 (0.72965515), Test Loss: 8.536868, Test Accuracy: 478/700 (0.68285716)\n",
            "Creating Training Dataset for Epoch 25\n",
            "Dataset Creation Completed\n",
            "[Epoch 25] Training Loss: 33.936386, Training Accuracy: 2128/2900 (0.7337931), Test Loss: 8.589546, Test Accuracy: 468/700 (0.6685714)\n",
            "Creating Training Dataset for Epoch 26\n",
            "Dataset Creation Completed\n",
            "[Epoch 26] Training Loss: 33.89771, Training Accuracy: 2130/2900 (0.73448277), Test Loss: 8.595949, Test Accuracy: 463/700 (0.6614286)\n",
            "Creating Training Dataset for Epoch 27\n",
            "Dataset Creation Completed\n",
            "[Epoch 27] Training Loss: 33.672848, Training Accuracy: 2161/2900 (0.74517244), Test Loss: 8.465775, Test Accuracy: 488/700 (0.69714284)\n",
            "Creating Training Dataset for Epoch 28\n",
            "Dataset Creation Completed\n",
            "[Epoch 28] Training Loss: 34.103302, Training Accuracy: 2122/2900 (0.73172414), Test Loss: 8.729297, Test Accuracy: 454/700 (0.64857143)\n",
            "Creating Training Dataset for Epoch 29\n",
            "Dataset Creation Completed\n",
            "[Epoch 29] Training Loss: 33.94325, Training Accuracy: 2126/2900 (0.73310345), Test Loss: 8.657514, Test Accuracy: 463/700 (0.6614286)\n",
            "Creating Training Dataset for Epoch 30\n",
            "Dataset Creation Completed\n",
            "[Epoch 30] Training Loss: 34.002773, Training Accuracy: 2114/2900 (0.7289655), Test Loss: 8.536692, Test Accuracy: 474/700 (0.67714286)\n",
            "Creating Training Dataset for Epoch 31\n",
            "Dataset Creation Completed\n",
            "[Epoch 31] Training Loss: 33.691635, Training Accuracy: 2147/2900 (0.7403448), Test Loss: 8.633921, Test Accuracy: 461/700 (0.6585714)\n",
            "Creating Training Dataset for Epoch 32\n",
            "Dataset Creation Completed\n",
            "[Epoch 32] Training Loss: 33.61268, Training Accuracy: 2156/2900 (0.74344826), Test Loss: 8.6047125, Test Accuracy: 464/700 (0.6628571)\n",
            "Creating Training Dataset for Epoch 33\n",
            "Dataset Creation Completed\n",
            "[Epoch 33] Training Loss: 33.47153, Training Accuracy: 2180/2900 (0.7517241), Test Loss: 8.644067, Test Accuracy: 458/700 (0.6542857)\n",
            "Creating Training Dataset for Epoch 34\n",
            "Dataset Creation Completed\n",
            "[Epoch 34] Training Loss: 33.682526, Training Accuracy: 2153/2900 (0.7424138), Test Loss: 8.648284, Test Accuracy: 455/700 (0.65)\n",
            "Creating Training Dataset for Epoch 35\n",
            "Dataset Creation Completed\n",
            "[Epoch 35] Training Loss: 33.61753, Training Accuracy: 2150/2900 (0.7413793), Test Loss: 8.738712, Test Accuracy: 453/700 (0.6471428)\n",
            "Creating Training Dataset for Epoch 36\n",
            "Dataset Creation Completed\n",
            "[Epoch 36] Training Loss: 33.285866, Training Accuracy: 2196/2900 (0.75724137), Test Loss: 8.546082, Test Accuracy: 476/700 (0.68)\n",
            "Creating Training Dataset for Epoch 37\n",
            "Dataset Creation Completed\n",
            "[Epoch 37] Training Loss: 33.500088, Training Accuracy: 2164/2900 (0.7462069), Test Loss: 8.538023, Test Accuracy: 475/700 (0.6785714)\n",
            "Creating Training Dataset for Epoch 38\n",
            "Dataset Creation Completed\n",
            "[Epoch 38] Training Loss: 33.26722, Training Accuracy: 2198/2900 (0.75793105), Test Loss: 8.506981, Test Accuracy: 476/700 (0.68)\n",
            "Creating Training Dataset for Epoch 39\n",
            "Dataset Creation Completed\n",
            "[Epoch 39] Training Loss: 33.071636, Training Accuracy: 2214/2900 (0.7634483), Test Loss: 8.61293, Test Accuracy: 468/700 (0.6685714)\n",
            "Creating Training Dataset for Epoch 40\n",
            "Dataset Creation Completed\n",
            "[Epoch 40] Training Loss: 33.021133, Training Accuracy: 2223/2900 (0.76655173), Test Loss: 8.478347, Test Accuracy: 482/700 (0.68857145)\n",
            "Creating Training Dataset for Epoch 41\n",
            "Dataset Creation Completed\n",
            "[Epoch 41] Training Loss: 32.748707, Training Accuracy: 2248/2900 (0.7751724), Test Loss: 8.547837, Test Accuracy: 475/700 (0.6785714)\n",
            "Creating Training Dataset for Epoch 42\n",
            "Dataset Creation Completed\n",
            "[Epoch 42] Training Loss: 32.72267, Training Accuracy: 2242/2900 (0.7731035), Test Loss: 8.421441, Test Accuracy: 485/700 (0.69285715)\n",
            "Creating Training Dataset for Epoch 43\n",
            "Dataset Creation Completed\n",
            "[Epoch 43] Training Loss: 32.81538, Training Accuracy: 2241/2900 (0.7727586), Test Loss: 8.571712, Test Accuracy: 471/700 (0.67285717)\n",
            "Creating Training Dataset for Epoch 44\n",
            "Dataset Creation Completed\n",
            "[Epoch 44] Training Loss: 32.63782, Training Accuracy: 2247/2900 (0.7748276), Test Loss: 8.455915, Test Accuracy: 481/700 (0.68714285)\n",
            "Creating Training Dataset for Epoch 45\n",
            "Dataset Creation Completed\n",
            "[Epoch 45] Training Loss: 32.733433, Training Accuracy: 2252/2900 (0.7765517), Test Loss: 8.504868, Test Accuracy: 477/700 (0.68142855)\n",
            "Creating Training Dataset for Epoch 46\n",
            "Dataset Creation Completed\n",
            "[Epoch 46] Training Loss: 32.373013, Training Accuracy: 2287/2900 (0.7886207), Test Loss: 8.577406, Test Accuracy: 468/700 (0.6685714)\n",
            "Creating Training Dataset for Epoch 47\n",
            "Dataset Creation Completed\n",
            "[Epoch 47] Training Loss: 32.473297, Training Accuracy: 2275/2900 (0.7844828), Test Loss: 8.454872, Test Accuracy: 485/700 (0.69285715)\n",
            "Creating Training Dataset for Epoch 48\n",
            "Dataset Creation Completed\n",
            "[Epoch 48] Training Loss: 32.539696, Training Accuracy: 2278/2900 (0.7855172), Test Loss: 8.397537, Test Accuracy: 494/700 (0.7057143)\n",
            "Creating Training Dataset for Epoch 49\n",
            "Dataset Creation Completed\n",
            "[Epoch 49] Training Loss: 32.59215, Training Accuracy: 2266/2900 (0.7813793), Test Loss: 8.510095, Test Accuracy: 479/700 (0.6842857)\n",
            "Creating Training Dataset for Epoch 50\n",
            "Dataset Creation Completed\n",
            "[Epoch 50] Training Loss: 32.678936, Training Accuracy: 2254/2900 (0.7772414), Test Loss: 8.498734, Test Accuracy: 478/700 (0.68285716)\n",
            "Creating Training Dataset for Epoch 51\n",
            "Dataset Creation Completed\n",
            "[Epoch 51] Training Loss: 32.71521, Training Accuracy: 2257/2900 (0.77827585), Test Loss: 8.485344, Test Accuracy: 480/700 (0.6857143)\n",
            "Creating Training Dataset for Epoch 52\n",
            "Dataset Creation Completed\n",
            "[Epoch 52] Training Loss: 32.56108, Training Accuracy: 2275/2900 (0.7844828), Test Loss: 8.383697, Test Accuracy: 497/700 (0.71)\n",
            "Creating Training Dataset for Epoch 53\n",
            "Dataset Creation Completed\n",
            "[Epoch 53] Training Loss: 32.18546, Training Accuracy: 2301/2900 (0.79344827), Test Loss: 8.487381, Test Accuracy: 483/700 (0.69)\n",
            "Creating Training Dataset for Epoch 54\n",
            "Dataset Creation Completed\n",
            "[Epoch 54] Training Loss: 32.161835, Training Accuracy: 2303/2900 (0.79413795), Test Loss: 8.443635, Test Accuracy: 485/700 (0.69285715)\n",
            "Creating Training Dataset for Epoch 55\n",
            "Dataset Creation Completed\n",
            "[Epoch 55] Training Loss: 31.919756, Training Accuracy: 2331/2900 (0.80379313), Test Loss: 8.480099, Test Accuracy: 479/700 (0.6842857)\n",
            "Creating Training Dataset for Epoch 56\n",
            "Dataset Creation Completed\n",
            "[Epoch 56] Training Loss: 31.547375, Training Accuracy: 2375/2900 (0.8189655), Test Loss: 8.451092, Test Accuracy: 484/700 (0.69142854)\n",
            "Creating Training Dataset for Epoch 57\n",
            "Dataset Creation Completed\n",
            "[Epoch 57] Training Loss: 31.4601, Training Accuracy: 2392/2900 (0.8248276), Test Loss: 8.439894, Test Accuracy: 486/700 (0.6942857)\n",
            "Creating Training Dataset for Epoch 58\n",
            "Dataset Creation Completed\n",
            "[Epoch 58] Training Loss: 31.604988, Training Accuracy: 2371/2900 (0.8175862), Test Loss: 8.48979, Test Accuracy: 482/700 (0.68857145)\n",
            "Creating Training Dataset for Epoch 59\n",
            "Dataset Creation Completed\n",
            "[Epoch 59] Training Loss: 31.451868, Training Accuracy: 2387/2900 (0.8231034), Test Loss: 8.516682, Test Accuracy: 475/700 (0.6785714)\n",
            "Creating Training Dataset for Epoch 60\n",
            "Dataset Creation Completed\n",
            "[Epoch 60] Training Loss: 31.447617, Training Accuracy: 2373/2900 (0.81827587), Test Loss: 8.356702, Test Accuracy: 495/700 (0.70714283)\n",
            "Creating Training Dataset for Epoch 61\n",
            "Dataset Creation Completed\n",
            "[Epoch 61] Training Loss: 31.393179, Training Accuracy: 2389/2900 (0.8237931), Test Loss: 8.538821, Test Accuracy: 476/700 (0.68)\n",
            "Creating Training Dataset for Epoch 62\n",
            "Dataset Creation Completed\n",
            "[Epoch 62] Training Loss: 31.365667, Training Accuracy: 2388/2900 (0.8234483), Test Loss: 8.508328, Test Accuracy: 475/700 (0.6785714)\n",
            "Creating Training Dataset for Epoch 63\n",
            "Dataset Creation Completed\n",
            "[Epoch 63] Training Loss: 30.898762, Training Accuracy: 2443/2900 (0.8424138), Test Loss: 8.471494, Test Accuracy: 481/700 (0.68714285)\n",
            "Creating Training Dataset for Epoch 64\n",
            "Dataset Creation Completed\n",
            "[Epoch 64] Training Loss: 31.285269, Training Accuracy: 2403/2900 (0.8286207), Test Loss: 8.541482, Test Accuracy: 476/700 (0.68)\n",
            "Creating Training Dataset for Epoch 65\n",
            "Dataset Creation Completed\n",
            "[Epoch 65] Training Loss: 31.167858, Training Accuracy: 2407/2900 (0.83), Test Loss: 8.419371, Test Accuracy: 489/700 (0.69857144)\n",
            "Creating Training Dataset for Epoch 66\n",
            "Dataset Creation Completed\n",
            "[Epoch 66] Training Loss: 30.9806, Training Accuracy: 2427/2900 (0.83689654), Test Loss: 8.337203, Test Accuracy: 495/700 (0.70714283)\n",
            "Creating Training Dataset for Epoch 67\n",
            "Dataset Creation Completed\n",
            "[Epoch 67] Training Loss: 31.099257, Training Accuracy: 2420/2900 (0.8344827), Test Loss: 8.552096, Test Accuracy: 474/700 (0.67714286)\n",
            "Creating Training Dataset for Epoch 68\n",
            "Dataset Creation Completed\n",
            "[Epoch 68] Training Loss: 31.323307, Training Accuracy: 2393/2900 (0.8251724), Test Loss: 8.583841, Test Accuracy: 472/700 (0.6742857)\n",
            "Creating Training Dataset for Epoch 69\n",
            "Dataset Creation Completed\n",
            "[Epoch 69] Training Loss: 31.248087, Training Accuracy: 2397/2900 (0.82655174), Test Loss: 8.521281, Test Accuracy: 478/700 (0.68285716)\n",
            "Creating Training Dataset for Epoch 70\n",
            "Dataset Creation Completed\n",
            "[Epoch 70] Training Loss: 30.799229, Training Accuracy: 2454/2900 (0.8462069), Test Loss: 8.496635, Test Accuracy: 479/700 (0.6842857)\n",
            "Creating Training Dataset for Epoch 71\n",
            "Dataset Creation Completed\n",
            "[Epoch 71] Training Loss: 30.99085, Training Accuracy: 2425/2900 (0.8362069), Test Loss: 8.493727, Test Accuracy: 482/700 (0.68857145)\n",
            "Creating Training Dataset for Epoch 72\n",
            "Dataset Creation Completed\n",
            "[Epoch 72] Training Loss: 30.949665, Training Accuracy: 2440/2900 (0.8413793), Test Loss: 8.432614, Test Accuracy: 489/700 (0.69857144)\n",
            "Creating Training Dataset for Epoch 73\n",
            "Dataset Creation Completed\n",
            "[Epoch 73] Training Loss: 30.944876, Training Accuracy: 2427/2900 (0.83689654), Test Loss: 8.447316, Test Accuracy: 489/700 (0.69857144)\n",
            "Creating Training Dataset for Epoch 74\n",
            "Dataset Creation Completed\n",
            "[Epoch 74] Training Loss: 30.868492, Training Accuracy: 2441/2900 (0.84172416), Test Loss: 8.704334, Test Accuracy: 456/700 (0.6514286)\n",
            "Creating Training Dataset for Epoch 75\n",
            "Dataset Creation Completed\n",
            "[Epoch 75] Training Loss: 30.956144, Training Accuracy: 2432/2900 (0.83862066), Test Loss: 8.52499, Test Accuracy: 475/700 (0.6785714)\n",
            "Creating Training Dataset for Epoch 76\n",
            "Dataset Creation Completed\n",
            "[Epoch 76] Training Loss: 30.57061, Training Accuracy: 2477/2900 (0.85413796), Test Loss: 8.418987, Test Accuracy: 492/700 (0.70285714)\n",
            "Creating Training Dataset for Epoch 77\n",
            "Dataset Creation Completed\n",
            "[Epoch 77] Training Loss: 30.388693, Training Accuracy: 2497/2900 (0.8610345), Test Loss: 8.43249, Test Accuracy: 482/700 (0.68857145)\n",
            "Creating Training Dataset for Epoch 78\n",
            "Dataset Creation Completed\n",
            "[Epoch 78] Training Loss: 30.333342, Training Accuracy: 2496/2900 (0.86068964), Test Loss: 8.503053, Test Accuracy: 474/700 (0.67714286)\n",
            "Creating Training Dataset for Epoch 79\n",
            "Dataset Creation Completed\n",
            "[Epoch 79] Training Loss: 30.452745, Training Accuracy: 2480/2900 (0.8551724), Test Loss: 8.526286, Test Accuracy: 479/700 (0.6842857)\n",
            "Creating Training Dataset for Epoch 80\n",
            "Dataset Creation Completed\n",
            "[Epoch 80] Training Loss: 30.33409, Training Accuracy: 2492/2900 (0.8593103), Test Loss: 8.407154, Test Accuracy: 490/700 (0.7)\n"
          ],
          "name": "stdout"
        }
      ]
    },
    {
      "cell_type": "markdown",
      "metadata": {
        "id": "aRWzpR3q9ho6",
        "colab_type": "text"
      },
      "source": [
        "### Visualizing results of the training"
      ]
    },
    {
      "cell_type": "markdown",
      "metadata": {
        "id": "7zD0-Bvf9iD6",
        "colab_type": "text"
      },
      "source": [
        "We'll now visualize the results we get after training our network."
      ]
    },
    {
      "cell_type": "code",
      "metadata": {
        "id": "4h42Yr6O_3NR",
        "colab_type": "code",
        "outputId": "37934a48-53dc-400c-9382-d9d45322816f",
        "colab": {
          "base_uri": "https://localhost:8080/",
          "height": 553
        }
      },
      "source": [
        "plt.figure(figsize: [12, 8])\n",
        "plt.subplot(1, 2, 1)\n",
        "plt.xlabel(\"Number of Epochs\")\n",
        "plt.ylabel(\"Training Accuracy(l) vs Validation Accuracy(o)\")\n",
        "plt.plot(epochsRange, trainingAccuracy)\n",
        "plt.plot(epochsRange, validationAccuracy)\n",
        "var loc = \"lower right\"\n",
        "plt.legend(loc)\n",
        "plt.title(\"Training and Validation Accuracy\")\n",
        "\n",
        "plt.subplot(1, 2, 2)\n",
        "plt.xlabel(\"Number of Epochs\")\n",
        "plt.ylabel(\"Training Loss(u) vs Validation Loss(p)\")\n",
        "plt.plot(epochsRange, trainingLoss)\n",
        "plt.plot(epochsRange, validationLoss)\n",
        "loc = \"upper right\"\n",
        "plt.legend(loc)\n",
        "plt.title(\"Training and Validation Loss\")\n",
        "plt.show()"
      ],
      "execution_count": 19,
      "outputs": [
        {
          "output_type": "display_data",
          "data": {
            "image/png": "[encoded data removed]",
            "text/plain": [
              "<Figure size 864x576 with 2 Axes>"
            ]
          },
          "metadata": {
            "tags": []
          }
        },
        {
          "output_type": "execute_result",
          "data": {
            "text/plain": [
              "None\n"
            ]
          },
          "metadata": {
            "tags": []
          },
          "execution_count": 19
        }
      ]
    }
  ]
}
