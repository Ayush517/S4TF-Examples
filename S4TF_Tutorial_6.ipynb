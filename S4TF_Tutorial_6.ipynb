{
  "nbformat": 4,
  "nbformat_minor": 0,
  "metadata": {
    "colab": {
      "name": "S4TF Tutorial 6",
      "version": "0.3.2",
      "provenance": [],
      "collapsed_sections": []
    },
    "language_info": {
      "file_extension": ".swift",
      "mimetype": "text/x-swift",
      "name": "swift",
      "version": ""
    },
    "kernelspec": {
      "display_name": "Swift",
      "language": "swift",
      "name": "swift"
    },
    "accelerator": "GPU"
  },
  "cells": [
    {
      "cell_type": "markdown",
      "metadata": {
        "id": "ArYw4ah2WxvI",
        "colab_type": "text"
      },
      "source": [
        "##### Copyright 2019 The TensorFlow Authors. [Licensed under the Apache License, Version 2.0](#scrollTo=y_UVSRtBBsJk)."
      ]
    },
    {
      "cell_type": "code",
      "metadata": {
        "id": "bpE2F8WvXHHR",
        "colab_type": "code",
        "colab": {}
      },
      "source": [
        "#@title Licensed under the Apache License, Version 2.0 (the \"License\"); { display-mode: \"form\" }\n",
        "// Licensed under the Apache License, Version 2.0 (the \"License\");\n",
        "// you may not use this file except in compliance with the License.\n",
        "// You may obtain a copy of the License at\n",
        "//\n",
        "// https://www.apache.org/licenses/LICENSE-2.0\n",
        "//\n",
        "// Unless required by applicable law or agreed to in writing, software\n",
        "// distributed under the License is distributed on an \"AS IS\" BASIS,\n",
        "// WITHOUT WARRANTIES OR CONDITIONS OF ANY KIND, either express or implied.\n",
        "// See the License for the specific language governing permissions and\n",
        "// limitations under the License."
      ],
      "execution_count": 0,
      "outputs": []
    },
    {
      "cell_type": "markdown",
      "metadata": {
        "id": "A6S7MO1QXaVF",
        "colab_type": "text"
      },
      "source": [
        "# Dogs vs Cats Image Classification With Image Augmentation"
      ]
    },
    {
      "cell_type": "markdown",
      "metadata": {
        "id": "qI_zO-WyXbHT",
        "colab_type": "text"
      },
      "source": [
        "<table class=\"tfo-notebook-buttons\" align=\"left\">\n",
        "  <td>\n",
        "    <a target=\"_blank\" href=\"https://colab.research.google.com/drive/148B0g-zaefmDTWxbEk1OiKGCEPojWwgz\"><img src=\"https://www.tensorflow.org/images/colab_logo_32px.png\" />Run in Google Colab</a>\n",
        "  </td>\n",
        "  <td>\n",
        "    <a target=\"_blank\" href=\"Link to be updated\"><img src=\"https://www.tensorflow.org/images/GitHub-Mark-32px.png\" />GitHub link to be updated accordingly</a>\n",
        "  </td>\n",
        "</table>"
      ]
    },
    {
      "cell_type": "markdown",
      "metadata": {
        "id": "0gMKDv9AXtw4",
        "colab_type": "text"
      },
      "source": [
        "\n",
        "\n",
        "In this tutorial, we will discuss how to classify images into pictures of cats or pictures of dogs. We'll build an image classifier using `Layer` and load data by creating Training and Validation Tensors of Images as well as their corresponding Labels\n",
        "\n",
        "## Specific concepts that will be covered:\n",
        "In the process, we will build practical experience and develop intuition around the following concepts\n",
        "\n",
        "* Building _data input pipelines_  — How can we efficiently work with data on disk to interface with our model?\n",
        "* _Overfitting_ - what is it, how to identify it?\n",
        "* _Data Augmentation_ and _Dropout_ -  Key techniques to fight overfitting in computer vision tasks that we will incorporate into our data pipeline and image classifier model. \n",
        "\n",
        "## We will follow the general machine learning workflow:\n",
        "\n",
        "1. Examine and understand data\n",
        "2. Build an input pipeline\n",
        "3. Build our model\n",
        "4. Train our model\n",
        "5. Test our model\n",
        "6. Improve our model/Repeat the process\n",
        "\n",
        "<hr>\n",
        "\n",
        "\n",
        "**Before you begin**\n",
        "\n",
        "Before running the code in this notebook, reset the runtime by going to **Runtime -> Reset all runtimes** in the menu above. If you have been working through several notebooks, this will help you avoid reaching Colab's memory limits.\n",
        "\n"
      ]
    },
    {
      "cell_type": "markdown",
      "metadata": {
        "id": "3feKokVXX72h",
        "colab_type": "text"
      },
      "source": [
        "# Importing packages"
      ]
    },
    {
      "cell_type": "markdown",
      "metadata": {
        "id": "ELd6snqWX8PB",
        "colab_type": "text"
      },
      "source": [
        "Let's start by importing required packages:\n",
        "\n",
        "*   glob — to read files and directory structure\n",
        "*   numpy — for some matrix math outside of TensorFlow\n",
        "*   matplotlib.pyplot — to plot the graph and display images in our training and validation data\n",
        "*  PIL — to view images"
      ]
    },
    {
      "cell_type": "code",
      "metadata": {
        "id": "KaGgOzPQbGj3",
        "colab_type": "code",
        "colab": {}
      },
      "source": [
        "import TensorFlow\n",
        "import Foundation\n",
        "import Python\n",
        "\n",
        "%include \"EnableIPythonDisplay.swift\"\n",
        "IPythonDisplay.shell.enable_matplotlib(\"inline\")\n",
        "let np = Python.import(\"numpy\")  // Make numpy available using np.\n",
        "let subprocess = Python.import(\"subprocess\")\n",
        "let plt = Python.import(\"matplotlib.pyplot\")\n",
        "let os = Python.import(\"os\")\n",
        "let glob = Python.import(\"glob\")\n",
        "let pil = Python.import(\"PIL\")\n",
        "let pilImageOps = Python.import(\"PIL.ImageOps\")\n",
        "let random = Python.import(\"random\")\n",
        "let sk = Python.import(\"skimage\")"
      ],
      "execution_count": 0,
      "outputs": []
    },
    {
      "cell_type": "markdown",
      "metadata": {
        "id": "VEIK0Qr6YpOw",
        "colab_type": "text"
      },
      "source": [
        "To build our image classifier, we begin by downloading the dataset. The dataset we are using is a filtered version of <a href=\"https://www.kaggle.com/c/dogs-vs-cats/data\" target=\"_blank\">Dogs vs. Cats</a> dataset from Kaggle (ultimately, this dataset is provided by Microsoft Research).\n",
        "\n",
        "In this Colab, we will make use of the `glob` and  `subprocess` module which will read data from disk. We therefore need to directly download *Dogs vs. Cats* from a URL and unzip it to the Colab filesystem."
      ]
    },
    {
      "cell_type": "code",
      "metadata": {
        "id": "Lf_vvLoESGWf",
        "colab_type": "code",
        "colab": {}
      },
      "source": [
        "public extension String {\n",
        "    @discardableResult\n",
        "    func shell(_ args: String...) -> String {\n",
        "        let (task, pipe) = (Process(), Pipe())\n",
        "        task.executableURL = URL(fileURLWithPath: self)\n",
        "        (task.arguments, task.standardOutput) = (args, pipe)\n",
        "        do    { try task.run() }\n",
        "        catch { print(\"Unexpected error: \\(error).\") }\n",
        "\n",
        "        let data = pipe.fileHandleForReading.readDataToEndOfFile()\n",
        "        return String(data: data, encoding: String.Encoding.utf8) ?? \"\"\n",
        "    }\n",
        "}"
      ],
      "execution_count": 0,
      "outputs": []
    },
    {
      "cell_type": "code",
      "metadata": {
        "id": "L7SwG2Ny9JHd",
        "colab_type": "code",
        "outputId": "481c7aa4-40bf-403a-8104-25c2b3bf8a50",
        "colab": {
          "base_uri": "https://localhost:8080/",
          "height": 68
        }
      },
      "source": [
        "print(\"/bin/ls\".shell(\"-lh\"))"
      ],
      "execution_count": 4,
      "outputs": [
        {
          "output_type": "stream",
          "text": [
            "total 4.0K\r\n",
            "drwxr-xr-x 1 root root 4.0K Aug  2 16:06 sample_data\r\n",
            "\r\n"
          ],
          "name": "stdout"
        }
      ]
    },
    {
      "cell_type": "code",
      "metadata": {
        "id": "TpyLNoo3RDIQ",
        "colab_type": "code",
        "outputId": "18e189de-9c19-4212-e7ee-29efb698fd16",
        "colab": {
          "base_uri": "https://localhost:8080/",
          "height": 94
        }
      },
      "source": [
        "// Dataset download.\n",
        "\n",
        "let command = \"wget -nv -O- https://github.com/Ayush517/S4TF-Tutorials/raw/master/cats_and_dogs_filtered.tar.gz | tar xzf - -C .\"\n",
        "subprocess.call(command, shell: true)"
      ],
      "execution_count": 5,
      "outputs": [
        {
          "output_type": "stream",
          "text": [
            "2019-08-20 12:29:30 URL:https://raw.githubusercontent.com/Ayush517/S4TF-Tutorials/master/cats_and_dogs_filtered.tar.gz [67304034/67304034] -> \"-\" [1]\r\n"
          ],
          "name": "stdout"
        },
        {
          "output_type": "execute_result",
          "data": {
            "text/plain": [
              "0\n"
            ]
          },
          "metadata": {
            "tags": []
          },
          "execution_count": 5
        }
      ]
    },
    {
      "cell_type": "markdown",
      "metadata": {
        "id": "eM2tdEkVZGux",
        "colab_type": "text"
      },
      "source": [
        "The dataset we have downloaded has the following directory structure.\n",
        "\n",
        "<pre style=\"font-size: 10.0pt; font-family: Arial; line-height: 2; letter-spacing: 1.0pt;\" >\n",
        "<b>cats_and_dogs_filtered</b>\n",
        "|__ <b>train</b>\n",
        "    |______ <b>cats</b>: [cat.0.jpg, cat.1.jpg, cat.2.jpg ...]\n",
        "    |______ <b>dogs</b>: [dog.0.jpg, dog.1.jpg, dog.2.jpg ...]\n",
        "|__ <b>validation</b>\n",
        "    |______ <b>cats</b>: [cat.2000.jpg, cat.2001.jpg, cat.2002.jpg ...]\n",
        "    |______ <b>dogs</b>: [dog.2000.jpg, dog.2001.jpg, dog.2002.jpg ...]\n",
        "</pre>\n",
        "\n",
        "We can list the directories with the following terminal command:"
      ]
    },
    {
      "cell_type": "code",
      "metadata": {
        "id": "tvl9Lnce8H_2",
        "colab_type": "code",
        "outputId": "43008e05-d9fb-466b-acb5-740b6152da0d",
        "colab": {
          "base_uri": "https://localhost:8080/",
          "height": 85
        }
      },
      "source": [
        "print(\"/bin/ls/\".shell(\"-lh\"))"
      ],
      "execution_count": 6,
      "outputs": [
        {
          "output_type": "stream",
          "text": [
            "total 8.0K\r\n",
            "drwxr-x--- 4  501 staff 4.0K Sep 23  2016 cats_and_dogs_filtered\r\n",
            "drwxr-xr-x 1 root root  4.0K Aug  2 16:06 sample_data\r\n",
            "\r\n"
          ],
          "name": "stdout"
        }
      ]
    },
    {
      "cell_type": "markdown",
      "metadata": {
        "id": "yIEL_bnxZN6X",
        "colab_type": "text"
      },
      "source": [
        "### Understanding our data"
      ]
    },
    {
      "cell_type": "markdown",
      "metadata": {
        "id": "dqxHwJADZKVw",
        "colab_type": "text"
      },
      "source": [
        "We'll now assign variables with the proper file path for the training and validation sets."
      ]
    },
    {
      "cell_type": "code",
      "metadata": {
        "id": "XXJjUDBOTNf4",
        "colab_type": "code",
        "colab": {}
      },
      "source": [
        "// List of paths created.\n",
        "\n",
        "let catTrainList = glob.glob(\"cats_and_dogs_filtered/train/cats/*.jpg\")\n",
        "let dogTrainList = glob.glob(\"cats_and_dogs_filtered/train/dogs/*.jpg\")\n",
        "let trainList = glob.glob(\"cats_and_dogs_filtered/train/**/*.jpg\")\n",
        "\n",
        "let catTestList  = glob.glob(\"cats_and_dogs_filtered/validation/cats/*.jpg\")\n",
        "let dogTestList  = glob.glob(\"cats_and_dogs_filtered/validation/dogs/*.jpg\")\n",
        "let testList  = glob.glob(\"cats_and_dogs_filtered/validation/**/*.jpg\")\n",
        "\n",
        "for i in 0 ..< 5 {\n",
        "    np.random.shuffle(trainList)\n",
        "    np.random.shuffle(testList)\n",
        "}"
      ],
      "execution_count": 0,
      "outputs": []
    },
    {
      "cell_type": "markdown",
      "metadata": {
        "id": "0v-OItU3ZOOO",
        "colab_type": "text"
      },
      "source": [
        "Let's look at how many cats and dogs images we have in our training and validation directory"
      ]
    },
    {
      "cell_type": "code",
      "metadata": {
        "id": "9pZdnDMKiybF",
        "colab_type": "code",
        "outputId": "e669f716-f734-49df-fee1-55a1fd47a923",
        "colab": {
          "base_uri": "https://localhost:8080/",
          "height": 153
        }
      },
      "source": [
        "print(\"total training cat images: \\(catTrainList.count)\")\n",
        "print(\"total training dog images: \\(dogTrainList.count)\")\n",
        "\n",
        "print(\"total validation cat images: \\(catTestList.count)\")\n",
        "print(\"total validation dog images: \\(dogTestList.count)\")\n",
        "print(\"--\")\n",
        "print(\"Total training images: \\(trainList.count)\")\n",
        "print(\"Total validation images: \\(testList.count)\")\n",
        "\n",
        "print(Python.type(trainList))"
      ],
      "execution_count": 8,
      "outputs": [
        {
          "output_type": "stream",
          "text": [
            "total training cat images: 1000\r\n",
            "total training dog images: 1000\r\n",
            "total validation cat images: 500\r\n",
            "total validation dog images: 500\r\n",
            "--\r\n",
            "Total training images: 2000\r\n",
            "Total validation images: 1000\r\n",
            "<class 'list'>\r\n"
          ],
          "name": "stdout"
        }
      ]
    },
    {
      "cell_type": "markdown",
      "metadata": {
        "id": "B1RxO8dzdF2g",
        "colab_type": "text"
      },
      "source": [
        "### Visualizing Training images"
      ]
    },
    {
      "cell_type": "markdown",
      "metadata": {
        "id": "CFz4nx1LdGTZ",
        "colab_type": "text"
      },
      "source": [
        "* *We* can visualize our training images by creating functions to plot images through their paths or tensors, and then plotting a few of them."
      ]
    },
    {
      "cell_type": "code",
      "metadata": {
        "id": "fCKdKItfmlep",
        "colab_type": "code",
        "colab": {}
      },
      "source": [
        "func plotImages(_ image: Tensor<Float>) {\n",
        "    let numpyImage = image.reshaped(to: [150, 150, 3]).makeNumpyArray()\n",
        "    plt.imshow(numpyImage)\n",
        "    plt.show()\n",
        "}\n",
        "\n",
        "func plotImages(fromPath path: String) {\n",
        "    let img = pil.Image.open(path)\n",
        "    let image = np.array(img) * (1.0 / 255)\n",
        "    plt.imshow(image)\n",
        "    plt.show()\n",
        "}"
      ],
      "execution_count": 0,
      "outputs": []
    },
    {
      "cell_type": "markdown",
      "metadata": {
        "id": "sZRtJODkfxgf",
        "colab_type": "text"
      },
      "source": [
        "# Data Augmentation"
      ]
    },
    {
      "cell_type": "markdown",
      "metadata": {
        "id": "BpIp5hzAfx9P",
        "colab_type": "text"
      },
      "source": [
        "Overfitting often occurs when we have a small number of training examples. One way to fix this problem is to augment our dataset so that it has sufficient number and variety of training examples. Data augmentation takes the approach of generating more training data from existing training samples, by augmenting the samples through random transformations that yield believable-looking images. The goal is that at training time, your model will never see the exact same picture twice. This exposes the model to more aspects of the data, allowing it to generalize better.\n",
        "\n",
        "In Swift for TensorFlow we can implement this using the different Python Libraries through Python Interoperability. We can simply pass different transformations we would want to our dataset as a form of arguments and it will take care of applying it to the dataset during our training process."
      ]
    },
    {
      "cell_type": "markdown",
      "metadata": {
        "id": "CnMOZA_BgREI",
        "colab_type": "text"
      },
      "source": [
        "We perform following Image Augmentation techniques randomly on an image:\n",
        "\n",
        "*  Rotating the image\n",
        "* Transposing\n",
        "* Cropping\n",
        "* Flipping the image horizontally\n",
        "* Adding border to image\n",
        "* Adding Noise"
      ]
    },
    {
      "cell_type": "code",
      "metadata": {
        "id": "QE-K4a2Ql8tx",
        "colab_type": "code",
        "colab": {}
      },
      "source": [
        "func augmentedImage(path: String) -> Tensor<Float> {\n",
        "    \n",
        "    var img = pil.Image.open(path)\n",
        "    \n",
        "    if random.random() < 0.5 {\n",
        "        img = img.rotate(45) // Rotate 45 degrees.\n",
        "    }\n",
        "    \n",
        "    if random.random() < 0.5 {\n",
        "        img = img.transpose(pil.Image.TRANSPOSE) // Transpose.\n",
        "    }\n",
        "    \n",
        "    if random.random() < 0.5 {\n",
        "        let h = Float(img.size[0])! / 4\n",
        "        let w = Float(img.size[1])! / 4\n",
        "        let cropBorder = Int(Python.min(h, w))\n",
        "        img = pilImageOps.crop(img,  cropBorder) // Crop by half of shorter sides.\n",
        "    }\n",
        "    \n",
        "    if random.random() < 0.5 {\n",
        "        img = img.transpose(pil.Image.FLIP_LEFT_RIGHT) // Flip.\n",
        "    }\n",
        "    \n",
        "    if random.random() < 0.5 {\n",
        "        let h = Float(img.size[0])! / 10\n",
        "        let w = Float(img.size[1])! / 10\n",
        "        let borderSize = Int(Python.min(h, w))\n",
        "        img = pilImageOps.expand(img, borderSize) // Add border.\n",
        "    }\n",
        "    \n",
        "    var image = np.array(img, dtype: np.float32) * (1.0 / 255)\n",
        "    \n",
        "    if random.random() < 0.5 {\n",
        "        image = sk.util.random_noise(image) // Add noise.\n",
        "    }\n",
        "    \n",
        "    image = np.array(image, dtype: np.float32)\n",
        "    \n",
        "    let imageTensor = Tensor<Float>(numpy: image)!\n",
        "\n",
        "    return imageTensor\n",
        "}"
      ],
      "execution_count": 0,
      "outputs": []
    },
    {
      "cell_type": "markdown",
      "metadata": {
        "id": "vl6vw_AcZd54",
        "colab_type": "text"
      },
      "source": [
        "# Data Preparation "
      ]
    },
    {
      "cell_type": "markdown",
      "metadata": {
        "id": "IQ3OILUgZeqb",
        "colab_type": "text"
      },
      "source": [
        "Images must be formatted into appropriately pre-processed floating point tensors before being fed into the network. The steps involved in preparing these images are:\n",
        "\n",
        "1. Read images from the disk.\n",
        "2. Decode contents of these images and convert it into proper grid format as per their RGB content.\n",
        "3. Convert them into floating point tensors.\n",
        "4. Rescale the tensors from values between 0 and 255 to values between 0 and 1, as neural networks prefer to deal with small input values.\n",
        "5. Apply or not apply Image Augmentation Techniques, based on type of data.\n",
        "\n",
        "We have done this in the following code."
      ]
    },
    {
      "cell_type": "markdown",
      "metadata": {
        "id": "0FyESvV0ZjhJ",
        "colab_type": "text"
      },
      "source": [
        "The `resizedImage(fromPath:augmented:)` function takes 2 inputs are:\n",
        "1. Image path as input.\n",
        "2. Whether or not to apply image augmentations.\n",
        "\n",
        "The `images(fromList:imageCount:augmented:)` function takes 3 inputs :\n",
        "\n",
        "1. List of paths.\n",
        "\n",
        "2. Number of tensors to be produced in the output tensor as input.\n",
        "\n",
        "3. Whether or not to apply image augmentations."
      ]
    },
    {
      "cell_type": "code",
      "metadata": {
        "id": "3JihjHwPi2Ch",
        "colab_type": "code",
        "colab": {}
      },
      "source": [
        "// Function `resizedImage(fromPath:augmented:)` returns the resized image tensor w/ augmentation and it's corresponding label.\n",
        "func resizedImage(fromPath: String, augmented: Bool) -> (Tensor<Float>, Int32) {\n",
        "    var img = pil.Image.open(fromPath)\n",
        "    var image = np.array(img, dtype: np.float32) * (1.0 / 255)\n",
        "    var imageTensor = Tensor<Float>(numpy: image)!\n",
        "    \n",
        "    if augmented {\n",
        "        imageTensor = augmentedImage(path: fromPath)\n",
        "    }\n",
        "    \n",
        "    imageTensor = imageTensor.expandingShape(at: 0)\n",
        "    imageTensor = Raw.resizeArea(images: imageTensor , size: [150, 150])\n",
        "    \n",
        "    let label: Int32 = fromPath.contains(\"dog.\") ? 0 : 1\n",
        "    \n",
        "    return (imageTensor, label)\n",
        "}\n",
        "\n",
        "// Function `images(fromList:imageCount:augmented:)` returns the entire list converted to tensors of images and labels from `resizedImage(fromPath:augmented:)` function.\n",
        "func images(fromList: PythonObject, imageCount: Int, augmented: Bool) -> (image: Tensor<Float>, label: Tensor<Int32>) {\n",
        "    let batchFiles = fromList[0..<imageCount]\n",
        "    var labels: [Int32] = []\n",
        "    var x: Tensor<Float>\n",
        "    var y: Tensor<Int32>\n",
        "\n",
        "    // Load first image.\n",
        "    let path = String(batchFiles[0]) ?? \"\"\n",
        "    let data = resizedImage(fromPath: path, augmented: augmented)\n",
        "    x = data.0 \n",
        "    labels.append(data.1)\n",
        "\n",
        "    // Load the rest images.\n",
        "    var numberOfFilesDone = 1\n",
        "    for file in batchFiles[1..<imageCount] {\n",
        "        let path = String(file) ?? \"\"\n",
        "        let data = resizedImage(fromPath: path, augmented: augmented)\n",
        "        let tensor = data.0\n",
        "        labels.append(data.1)\n",
        "        x = Tensor(concatenating: [x, tensor], alongAxis: 0)\n",
        "    }\n",
        "    y = Tensor<Int32>(labels)\n",
        "    return (x, y)\n",
        "}"
      ],
      "execution_count": 0,
      "outputs": []
    },
    {
      "cell_type": "markdown",
      "metadata": {
        "id": "7m427NXlc7Xw",
        "colab_type": "text"
      },
      "source": [
        "After defining our generators for images and labels, we will load those images and labels in tensor arrays, thereby creating our `testTensors`."
      ]
    },
    {
      "cell_type": "code",
      "metadata": {
        "id": "Xd8WDjGSBZYb",
        "colab_type": "code",
        "outputId": "53b7b464-8e4e-470a-8980-87cf77e11e9a",
        "colab": {
          "base_uri": "https://localhost:8080/",
          "height": 51
        }
      },
      "source": [
        "// Test Dataset creation.\n",
        "\n",
        "let testTensors = images(fromList: testList, imageCount: testList.count, augmented: false)\n",
        "let testImageTensors = testTensors.0\n",
        "let testLabelTensors = testTensors.1\n",
        "print(testImageTensors.shape)\n",
        "print(testLabelTensors.shape)"
      ],
      "execution_count": 12,
      "outputs": [
        {
          "output_type": "stream",
          "text": [
            "[1000, 150, 150, 3]\r\n",
            "[1000]\r\n"
          ],
          "name": "stdout"
        }
      ]
    },
    {
      "cell_type": "markdown",
      "metadata": {
        "id": "oxjqzqP3doZn",
        "colab_type": "text"
      },
      "source": [
        "# Model Creation"
      ]
    },
    {
      "cell_type": "markdown",
      "metadata": {
        "id": "Ye4j5sK9douT",
        "colab_type": "text"
      },
      "source": [
        "The model consists of four convolution blocks with a max pool layer in each of them.\n",
        "\n",
        "Before the final Dense layers, we're also applying a Dropout probability of 0.5. It means that 50% of the values coming into the Dropout layer will be set to zero. This helps to prevent overfitting.\n",
        "\n",
        "Then we have a fully connected layer with 512 units, with a `relu` activation function. The model will output class probabilities for two classes — dogs and cats — using `softmax`. "
      ]
    },
    {
      "cell_type": "code",
      "metadata": {
        "id": "QmaeXuZQUx2k",
        "colab_type": "code",
        "colab": {}
      },
      "source": [
        "// A classifier.\n",
        "struct Classifier: Layer {\n",
        "    typealias Input = Tensor<Float>\n",
        "    typealias Output = Tensor<Float>\n",
        "\n",
        "    var conv1a = Conv2D<Float>(filterShape: (3, 3, 3, 32), activation: relu)\n",
        "    var pool1 = MaxPool2D<Float>(poolSize: (2, 2), strides: (2, 2))\n",
        "    \n",
        "    var conv1b = Conv2D<Float>(filterShape: (3, 3, 32, 64), activation: relu)\n",
        "    var pool2 = MaxPool2D<Float>(poolSize: (2, 2), strides: (2, 2))\n",
        "    \n",
        "    var conv1c = Conv2D<Float>(filterShape: (3, 3, 64, 128), activation: relu)\n",
        "    var pool3 = MaxPool2D<Float>(poolSize: (2, 2), strides: (2, 2))\n",
        "    \n",
        "    var conv1d = Conv2D<Float>(filterShape: (3, 3, 128, 128), activation: relu)\n",
        "    var pool4 = MaxPool2D<Float>(poolSize: (2, 2), strides: (2, 2))\n",
        "    \n",
        "    var dropout1a = Dropout<Float>(probability: 0.5)\n",
        "    var flatten = Flatten<Float>()\n",
        "    var layer1a = Dense<Float>(inputSize: 6272, outputSize: 512, activation: relu)\n",
        "    var layer1b = Dense<Float>(inputSize: 512, outputSize: 2, activation: softmax)\n",
        "\n",
        "    @differentiable\n",
        "    public func callAsFunction(_ input: Input) -> Output {\n",
        "        var convolved1 = input.sequenced(through: conv1a, pool1)\n",
        "        var convolved2 = convolved1.sequenced(through: conv1b, pool2)\n",
        "        var convolved3 = convolved2.sequenced(through: conv1c, pool3)\n",
        "        var convolved4 = convolved3.sequenced(through: conv1d, pool4)\n",
        "        return convolved4.sequenced(through: dropout1a, flatten, layer1a, layer1b)\n",
        "    }\n",
        "}"
      ],
      "execution_count": 0,
      "outputs": []
    },
    {
      "cell_type": "markdown",
      "metadata": {
        "id": "mE4Fv2cwdsWz",
        "colab_type": "text"
      },
      "source": [
        "### Compile the model\n",
        "\n",
        "As usual, we will use the `adam` optimizer. Since we output a softmax categorization, we'll use `softmaxCrossEntropy` as the loss function. We would also like to look at training and validation accuracy on each epoch as we train our network, so we are passing in the metrics argument."
      ]
    },
    {
      "cell_type": "code",
      "metadata": {
        "id": "nsPxQTvwYmy8",
        "colab_type": "code",
        "outputId": "4ddab74b-65eb-4c99-c48a-e0cbac0e67f8",
        "colab": {
          "base_uri": "https://localhost:8080/",
          "height": 85
        }
      },
      "source": [
        "let tensor = Tensor<Float>(zeros: [1, 150, 150, 3])\n",
        "var classifier = Classifier()\n",
        "var optimizer = Adam(for: classifier)\n",
        "classifier(tensor).shape"
      ],
      "execution_count": 14,
      "outputs": [
        {
          "output_type": "execute_result",
          "data": {
            "text/plain": [
              "▿ [1, 2]\n",
              "  ▿ dimensions : 2 elements\n",
              "    - 0 : 1\n",
              "    - 1 : 2\n"
            ]
          },
          "metadata": {
            "tags": []
          },
          "execution_count": 14
        }
      ]
    },
    {
      "cell_type": "code",
      "metadata": {
        "id": "fikBuWi3_a9z",
        "colab_type": "code",
        "colab": {}
      },
      "source": [
        "let epochCount = 100\n",
        "let batchSize = 100\n",
        "\n",
        "// Extract a batch of size batchSize.\n",
        "func minibatch<Scalar>(in x: Tensor<Scalar>, at index: Int) -> Tensor<Scalar> {\n",
        "    let start = index * batchSize\n",
        "    return x[start..<start+batchSize]\n",
        "}"
      ],
      "execution_count": 0,
      "outputs": []
    },
    {
      "cell_type": "code",
      "metadata": {
        "id": "g6oZ-9RKjGM2",
        "colab_type": "code",
        "colab": {}
      },
      "source": [
        "var trainingAccuracy: [Float] = []\n",
        "var validationAccuracy: [Float] = []\n",
        "var trainingLoss: [Float] = []\n",
        "var validationLoss: [Float] = []\n",
        "var epochsRange: [Int] = []"
      ],
      "execution_count": 0,
      "outputs": []
    },
    {
      "cell_type": "markdown",
      "metadata": {
        "id": "fq7RgKWbeaGZ",
        "colab_type": "text"
      },
      "source": [
        "### Train the model"
      ]
    },
    {
      "cell_type": "markdown",
      "metadata": {
        "id": "F2xgoa_Aeai6",
        "colab_type": "text"
      },
      "source": [
        "It's time we train our network.\n",
        "\n",
        " We need to apply the random image augmentations every time an image is accessed, so we recreate `trainTensors` in every epoch."
      ]
    },
    {
      "cell_type": "code",
      "metadata": {
        "id": "lJaSgWCgs90t",
        "colab_type": "code",
        "outputId": "919c7667-bc52-4765-d3cc-4d7356c753db",
        "colab": {
          "base_uri": "https://localhost:8080/",
          "height": 1000
        }
      },
      "source": [
        "print(\"Beginning training...\")\n",
        "\n",
        "struct Statistics {\n",
        "    var correctGuessCount: Int = 0\n",
        "    var totalGuessCount: Int = 0\n",
        "    var totalLoss: Float = 0\n",
        "}\n",
        "\n",
        "// The training loop.\n",
        "for epoch in 1...epochCount {\n",
        "    epochsRange.append(epoch)\n",
        "    var trainStats = Statistics()\n",
        "    var testStats = Statistics()\n",
        "    print(\"Creating Training Dataset for Epoch \\(epoch)\")\n",
        "    let trainTensors = images(fromList: trainList, imageCount: trainList.count, augmented: true)\n",
        "    let trainImageTensors = trainTensors.0\n",
        "    let trainLabelTensors = trainTensors.1\n",
        "    print(\"Dataset Creation Completed\")\n",
        "    \n",
        "    Context.local.learningPhase = .training\n",
        "    for i in 0..<Int(trainList.count) / batchSize {\n",
        "        let x = minibatch(in: trainImageTensors, at: i)\n",
        "        let y = minibatch(in: trainLabelTensors, at: i)\n",
        "        // Compute the gradient with respect to the model.\n",
        "        let 𝛁model = classifier.gradient { classifier -> Tensor<Float> in\n",
        "            let ŷ = classifier(x)\n",
        "            let correctPredictions = ŷ.argmax(squeezingAxis: 1) .== y\n",
        "            trainStats.correctGuessCount += Int(\n",
        "              Tensor<Int32>(correctPredictions).sum().scalarized())\n",
        "            trainStats.totalGuessCount += batchSize\n",
        "            let loss = softmaxCrossEntropy(logits: ŷ, labels: y)\n",
        "            trainStats.totalLoss += loss.scalarized()\n",
        "            return loss\n",
        "        }\n",
        "        // Update the model's differentiable variables along the gradient vector.\n",
        "        optimizer.update(&classifier.allDifferentiableVariables, along: 𝛁model)\n",
        "    }\n",
        "\n",
        "    Context.local.learningPhase = .inference\n",
        "    for i in 0..<Int(testList.count) / batchSize {\n",
        "        let x = minibatch(in: testImageTensors, at: i)\n",
        "        let y = minibatch(in: testLabelTensors, at: i)\n",
        "        // Compute loss on test set\n",
        "        let ŷ = classifier(x)\n",
        "        let correctPredictions = ŷ.argmax(squeezingAxis: 1) .== y\n",
        "        testStats.correctGuessCount += Int(Tensor<Int32>(correctPredictions).sum().scalarized())\n",
        "        testStats.totalGuessCount += batchSize\n",
        "        let loss = softmaxCrossEntropy(logits: ŷ, labels: y)\n",
        "        testStats.totalLoss += loss.scalarized()\n",
        "    }\n",
        "    \n",
        "    let trainAccuracy = Float(trainStats.correctGuessCount) / Float(trainStats.totalGuessCount)\n",
        "    let testAccuracy = Float(testStats.correctGuessCount) / Float(testStats.totalGuessCount)\n",
        "    \n",
        "    trainingAccuracy.append(trainAccuracy)\n",
        "    validationAccuracy.append(testAccuracy)\n",
        "    trainingLoss.append(trainStats.totalLoss)\n",
        "    validationLoss.append(testStats.totalLoss)\n",
        "    \n",
        "    print(\"\"\"\n",
        "          [Epoch \\(epoch)] \\\n",
        "          Training Loss: \\(trainStats.totalLoss), \\\n",
        "          Training Accuracy: \\(trainStats.correctGuessCount)/\\(trainStats.totalGuessCount) \\ \n",
        "          (\\(trainAccuracy)), \\\n",
        "          Test Loss: \\(testStats.totalLoss), \\\n",
        "          Test Accuracy: \\(testStats.correctGuessCount)/\\(testStats.totalGuessCount) \\\n",
        "          (\\(testAccuracy))\n",
        "          \"\"\")\n",
        "}"
      ],
      "execution_count": 17,
      "outputs": [
        {
          "output_type": "stream",
          "text": [
            "Beginning training...\r\n",
            "Creating Training Dataset for Epoch 1\n",
            "Dataset Creation Completed\n",
            "[Epoch 1] Training Loss: 14.142498, Training Accuracy: 968/2000 (0.484), Test Loss: 6.9242005, Test Accuracy: 500/1000 (0.5)\n",
            "Creating Training Dataset for Epoch 2\n",
            "Dataset Creation Completed\n",
            "[Epoch 2] Training Loss: 13.864481, Training Accuracy: 1023/2000 (0.5115), Test Loss: 6.921229, Test Accuracy: 518/1000 (0.518)\n",
            "Creating Training Dataset for Epoch 3\n",
            "Dataset Creation Completed\n",
            "[Epoch 3] Training Loss: 13.858893, Training Accuracy: 1027/2000 (0.5135), Test Loss: 6.919806, Test Accuracy: 594/1000 (0.594)\n",
            "Creating Training Dataset for Epoch 4\n",
            "Dataset Creation Completed\n",
            "[Epoch 4] Training Loss: 13.812999, Training Accuracy: 1079/2000 (0.5395), Test Loss: 6.805908, Test Accuracy: 578/1000 (0.578)\n",
            "Creating Training Dataset for Epoch 5\n",
            "Dataset Creation Completed\n",
            "[Epoch 5] Training Loss: 13.804674, Training Accuracy: 1032/2000 (0.516), Test Loss: 6.8871474, Test Accuracy: 512/1000 (0.512)\n",
            "Creating Training Dataset for Epoch 6\n",
            "Dataset Creation Completed\n",
            "[Epoch 6] Training Loss: 13.839806, Training Accuracy: 1008/2000 (0.504), Test Loss: 6.8538218, Test Accuracy: 508/1000 (0.508)\n",
            "Creating Training Dataset for Epoch 7\n",
            "Dataset Creation Completed\n",
            "[Epoch 7] Training Loss: 13.837849, Training Accuracy: 1041/2000 (0.5205), Test Loss: 6.8914876, Test Accuracy: 545/1000 (0.545)\n",
            "Creating Training Dataset for Epoch 8\n",
            "Dataset Creation Completed\n",
            "[Epoch 8] Training Loss: 13.767756, Training Accuracy: 1099/2000 (0.5495), Test Loss: 6.739893, Test Accuracy: 584/1000 (0.584)\n",
            "Creating Training Dataset for Epoch 9\n",
            "Dataset Creation Completed\n",
            "[Epoch 9] Training Loss: 13.746714, Training Accuracy: 1048/2000 (0.524), Test Loss: 6.8027496, Test Accuracy: 571/1000 (0.571)\n",
            "Creating Training Dataset for Epoch 10\n",
            "Dataset Creation Completed\n",
            "[Epoch 10] Training Loss: 13.686148, Training Accuracy: 1113/2000 (0.5565), Test Loss: 6.6521397, Test Accuracy: 607/1000 (0.607)\n",
            "Creating Training Dataset for Epoch 11\n",
            "Dataset Creation Completed\n",
            "[Epoch 11] Training Loss: 13.549857, Training Accuracy: 1152/2000 (0.576), Test Loss: 6.493402, Test Accuracy: 634/1000 (0.634)\n",
            "Creating Training Dataset for Epoch 12\n",
            "Dataset Creation Completed\n",
            "[Epoch 12] Training Loss: 13.272713, Training Accuracy: 1197/2000 (0.5985), Test Loss: 6.337465, Test Accuracy: 675/1000 (0.675)\n",
            "Creating Training Dataset for Epoch 13\n",
            "Dataset Creation Completed\n",
            "[Epoch 13] Training Loss: 13.179755, Training Accuracy: 1219/2000 (0.6095), Test Loss: 6.2399244, Test Accuracy: 676/1000 (0.676)\n",
            "Creating Training Dataset for Epoch 14\n",
            "Dataset Creation Completed\n",
            "[Epoch 14] Training Loss: 12.954981, Training Accuracy: 1239/2000 (0.6195), Test Loss: 6.22542, Test Accuracy: 668/1000 (0.668)\n",
            "Creating Training Dataset for Epoch 15\n",
            "Dataset Creation Completed\n",
            "[Epoch 15] Training Loss: 12.9347, Training Accuracy: 1251/2000 (0.6255), Test Loss: 6.1223373, Test Accuracy: 679/1000 (0.679)\n",
            "Creating Training Dataset for Epoch 16\n",
            "Dataset Creation Completed\n",
            "[Epoch 16] Training Loss: 12.787705, Training Accuracy: 1293/2000 (0.6465), Test Loss: 6.2809963, Test Accuracy: 663/1000 (0.663)\n",
            "Creating Training Dataset for Epoch 17\n",
            "Dataset Creation Completed\n",
            "[Epoch 17] Training Loss: 13.006091, Training Accuracy: 1243/2000 (0.6215), Test Loss: 6.264073, Test Accuracy: 683/1000 (0.683)\n",
            "Creating Training Dataset for Epoch 18\n",
            "Dataset Creation Completed\n",
            "[Epoch 18] Training Loss: 12.865747, Training Accuracy: 1261/2000 (0.6305), Test Loss: 6.3179865, Test Accuracy: 665/1000 (0.665)\n",
            "Creating Training Dataset for Epoch 19\n",
            "Dataset Creation Completed\n",
            "[Epoch 19] Training Loss: 12.693483, Training Accuracy: 1308/2000 (0.654), Test Loss: 6.217591, Test Accuracy: 661/1000 (0.661)\n",
            "Creating Training Dataset for Epoch 20\n",
            "Dataset Creation Completed\n",
            "[Epoch 20] Training Loss: 12.747155, Training Accuracy: 1283/2000 (0.6415), Test Loss: 6.1235023, Test Accuracy: 679/1000 (0.679)\n",
            "Creating Training Dataset for Epoch 21\n",
            "Dataset Creation Completed\n",
            "[Epoch 21] Training Loss: 12.5268755, Training Accuracy: 1311/2000 (0.6555), Test Loss: 6.258654, Test Accuracy: 664/1000 (0.664)\n",
            "Creating Training Dataset for Epoch 22\n",
            "Dataset Creation Completed\n",
            "[Epoch 22] Training Loss: 12.522302, Training Accuracy: 1325/2000 (0.6625), Test Loss: 6.0990267, Test Accuracy: 683/1000 (0.683)\n",
            "Creating Training Dataset for Epoch 23\n",
            "Dataset Creation Completed\n",
            "[Epoch 23] Training Loss: 12.378076, Training Accuracy: 1341/2000 (0.6705), Test Loss: 5.951311, Test Accuracy: 693/1000 (0.693)\n",
            "Creating Training Dataset for Epoch 24\n",
            "Dataset Creation Completed\n",
            "[Epoch 24] Training Loss: 12.312063, Training Accuracy: 1335/2000 (0.6675), Test Loss: 6.057967, Test Accuracy: 687/1000 (0.687)\n",
            "Creating Training Dataset for Epoch 25\n",
            "Dataset Creation Completed\n",
            "[Epoch 25] Training Loss: 12.488737, Training Accuracy: 1326/2000 (0.663), Test Loss: 6.015491, Test Accuracy: 689/1000 (0.689)\n",
            "Creating Training Dataset for Epoch 26\n",
            "Dataset Creation Completed\n",
            "[Epoch 26] Training Loss: 12.0562, Training Accuracy: 1355/2000 (0.6775), Test Loss: 5.9874268, Test Accuracy: 682/1000 (0.682)\n",
            "Creating Training Dataset for Epoch 27\n",
            "Dataset Creation Completed\n",
            "[Epoch 27] Training Loss: 12.132267, Training Accuracy: 1349/2000 (0.6745), Test Loss: 6.1073523, Test Accuracy: 670/1000 (0.67)\n",
            "Creating Training Dataset for Epoch 28\n",
            "Dataset Creation Completed\n",
            "[Epoch 28] Training Loss: 12.049202, Training Accuracy: 1393/2000 (0.6965), Test Loss: 6.124565, Test Accuracy: 681/1000 (0.681)\n",
            "Creating Training Dataset for Epoch 29\n",
            "Dataset Creation Completed\n",
            "[Epoch 29] Training Loss: 12.250493, Training Accuracy: 1336/2000 (0.668), Test Loss: 5.996923, Test Accuracy: 706/1000 (0.706)\n",
            "Creating Training Dataset for Epoch 30\n",
            "Dataset Creation Completed\n",
            "[Epoch 30] Training Loss: 12.35923, Training Accuracy: 1351/2000 (0.6755), Test Loss: 5.9987736, Test Accuracy: 684/1000 (0.684)\n",
            "Creating Training Dataset for Epoch 31\n",
            "Dataset Creation Completed\n",
            "[Epoch 31] Training Loss: 11.94, Training Accuracy: 1390/2000 (0.695), Test Loss: 5.927212, Test Accuracy: 692/1000 (0.692)\n",
            "Creating Training Dataset for Epoch 32\n",
            "Dataset Creation Completed\n",
            "[Epoch 32] Training Loss: 12.016604, Training Accuracy: 1368/2000 (0.684), Test Loss: 5.904061, Test Accuracy: 699/1000 (0.699)\n",
            "Creating Training Dataset for Epoch 33\n",
            "Dataset Creation Completed\n",
            "[Epoch 33] Training Loss: 11.8708725, Training Accuracy: 1417/2000 (0.7085), Test Loss: 5.9097652, Test Accuracy: 703/1000 (0.703)\n",
            "Creating Training Dataset for Epoch 34\n",
            "Dataset Creation Completed\n",
            "[Epoch 34] Training Loss: 12.014229, Training Accuracy: 1386/2000 (0.693), Test Loss: 6.049852, Test Accuracy: 679/1000 (0.679)\n",
            "Creating Training Dataset for Epoch 35\n",
            "Dataset Creation Completed\n",
            "[Epoch 35] Training Loss: 11.553959, Training Accuracy: 1432/2000 (0.716), Test Loss: 5.8658514, Test Accuracy: 702/1000 (0.702)\n",
            "Creating Training Dataset for Epoch 36\n",
            "Dataset Creation Completed\n",
            "[Epoch 36] Training Loss: 11.4304905, Training Accuracy: 1451/2000 (0.7255), Test Loss: 5.842442, Test Accuracy: 706/1000 (0.706)\n",
            "Creating Training Dataset for Epoch 37\n",
            "Dataset Creation Completed\n",
            "[Epoch 37] Training Loss: 11.891848, Training Accuracy: 1399/2000 (0.6995), Test Loss: 5.767182, Test Accuracy: 703/1000 (0.703)\n",
            "Creating Training Dataset for Epoch 38\n",
            "Dataset Creation Completed\n",
            "[Epoch 38] Training Loss: 11.711139, Training Accuracy: 1406/2000 (0.703), Test Loss: 5.9228487, Test Accuracy: 680/1000 (0.68)\n",
            "Creating Training Dataset for Epoch 39\n",
            "Dataset Creation Completed\n",
            "[Epoch 39] Training Loss: 11.632415, Training Accuracy: 1419/2000 (0.7095), Test Loss: 5.8958, Test Accuracy: 693/1000 (0.693)\n",
            "Creating Training Dataset for Epoch 40\n",
            "Dataset Creation Completed\n",
            "[Epoch 40] Training Loss: 11.663278, Training Accuracy: 1426/2000 (0.713), Test Loss: 5.7527742, Test Accuracy: 718/1000 (0.718)\n",
            "Creating Training Dataset for Epoch 41\n",
            "Dataset Creation Completed\n",
            "[Epoch 41] Training Loss: 11.902554, Training Accuracy: 1380/2000 (0.69), Test Loss: 5.8763895, Test Accuracy: 689/1000 (0.689)\n",
            "Creating Training Dataset for Epoch 42\n",
            "Dataset Creation Completed\n",
            "[Epoch 42] Training Loss: 11.53639, Training Accuracy: 1426/2000 (0.713), Test Loss: 5.9311347, Test Accuracy: 687/1000 (0.687)\n",
            "Creating Training Dataset for Epoch 43\n",
            "Dataset Creation Completed\n",
            "[Epoch 43] Training Loss: 11.420856, Training Accuracy: 1455/2000 (0.7275), Test Loss: 5.9654207, Test Accuracy: 689/1000 (0.689)\n",
            "Creating Training Dataset for Epoch 44\n",
            "Dataset Creation Completed\n",
            "[Epoch 44] Training Loss: 11.453933, Training Accuracy: 1462/2000 (0.731), Test Loss: 5.841531, Test Accuracy: 702/1000 (0.702)\n",
            "Creating Training Dataset for Epoch 45\n",
            "Dataset Creation Completed\n",
            "[Epoch 45] Training Loss: 11.248322, Training Accuracy: 1479/2000 (0.7395), Test Loss: 5.7998333, Test Accuracy: 711/1000 (0.711)\n",
            "Creating Training Dataset for Epoch 46\n",
            "Dataset Creation Completed\n",
            "[Epoch 46] Training Loss: 11.448514, Training Accuracy: 1456/2000 (0.728), Test Loss: 5.9292173, Test Accuracy: 689/1000 (0.689)\n",
            "Creating Training Dataset for Epoch 47\n",
            "Dataset Creation Completed\n",
            "[Epoch 47] Training Loss: 11.845801, Training Accuracy: 1391/2000 (0.6955), Test Loss: 5.8612833, Test Accuracy: 690/1000 (0.69)\n",
            "Creating Training Dataset for Epoch 48\n",
            "Dataset Creation Completed\n",
            "[Epoch 48] Training Loss: 11.610429, Training Accuracy: 1435/2000 (0.7175), Test Loss: 5.793142, Test Accuracy: 708/1000 (0.708)\n",
            "Creating Training Dataset for Epoch 49\n",
            "Dataset Creation Completed\n",
            "[Epoch 49] Training Loss: 11.445432, Training Accuracy: 1446/2000 (0.723), Test Loss: 5.72384, Test Accuracy: 720/1000 (0.72)\n",
            "Creating Training Dataset for Epoch 50\n",
            "Dataset Creation Completed\n",
            "[Epoch 50] Training Loss: 11.227463, Training Accuracy: 1477/2000 (0.7385), Test Loss: 5.7073894, Test Accuracy: 722/1000 (0.722)\n",
            "Creating Training Dataset for Epoch 51\n",
            "Dataset Creation Completed\n",
            "[Epoch 51] Training Loss: 11.037461, Training Accuracy: 1493/2000 (0.7465), Test Loss: 5.861115, Test Accuracy: 705/1000 (0.705)\n",
            "Creating Training Dataset for Epoch 52\n",
            "Dataset Creation Completed\n",
            "[Epoch 52] Training Loss: 11.325026, Training Accuracy: 1459/2000 (0.7295), Test Loss: 5.8639336, Test Accuracy: 702/1000 (0.702)\n",
            "Creating Training Dataset for Epoch 53\n",
            "Dataset Creation Completed\n",
            "[Epoch 53] Training Loss: 11.205188, Training Accuracy: 1488/2000 (0.744), Test Loss: 5.779971, Test Accuracy: 715/1000 (0.715)\n",
            "Creating Training Dataset for Epoch 54\n",
            "Dataset Creation Completed\n",
            "[Epoch 54] Training Loss: 11.009703, Training Accuracy: 1494/2000 (0.747), Test Loss: 5.7430396, Test Accuracy: 705/1000 (0.705)\n",
            "Creating Training Dataset for Epoch 55\n",
            "Dataset Creation Completed\n",
            "[Epoch 55] Training Loss: 10.945273, Training Accuracy: 1519/2000 (0.7595), Test Loss: 5.7480717, Test Accuracy: 728/1000 (0.728)\n",
            "Creating Training Dataset for Epoch 56\n",
            "Dataset Creation Completed\n",
            "[Epoch 56] Training Loss: 11.317017, Training Accuracy: 1467/2000 (0.7335), Test Loss: 5.8815165, Test Accuracy: 704/1000 (0.704)\n",
            "Creating Training Dataset for Epoch 57\n",
            "Dataset Creation Completed\n",
            "[Epoch 57] Training Loss: 11.157476, Training Accuracy: 1476/2000 (0.738), Test Loss: 5.6468344, Test Accuracy: 724/1000 (0.724)\n",
            "Creating Training Dataset for Epoch 58\n",
            "Dataset Creation Completed\n",
            "[Epoch 58] Training Loss: 11.039393, Training Accuracy: 1506/2000 (0.753), Test Loss: 5.8227944, Test Accuracy: 694/1000 (0.694)\n",
            "Creating Training Dataset for Epoch 59\n",
            "Dataset Creation Completed\n",
            "[Epoch 59] Training Loss: 11.019689, Training Accuracy: 1498/2000 (0.749), Test Loss: 5.747181, Test Accuracy: 723/1000 (0.723)\n",
            "Creating Training Dataset for Epoch 60\n",
            "Dataset Creation Completed\n",
            "[Epoch 60] Training Loss: 11.351585, Training Accuracy: 1457/2000 (0.7285), Test Loss: 5.6871977, Test Accuracy: 722/1000 (0.722)\n",
            "Creating Training Dataset for Epoch 61\n",
            "Dataset Creation Completed\n",
            "[Epoch 61] Training Loss: 11.211833, Training Accuracy: 1481/2000 (0.7405), Test Loss: 5.9476457, Test Accuracy: 692/1000 (0.692)\n",
            "Creating Training Dataset for Epoch 62\n",
            "Dataset Creation Completed\n",
            "[Epoch 62] Training Loss: 11.05159, Training Accuracy: 1492/2000 (0.746), Test Loss: 5.7176056, Test Accuracy: 713/1000 (0.713)\n",
            "Creating Training Dataset for Epoch 63\n",
            "Dataset Creation Completed\n",
            "[Epoch 63] Training Loss: 11.051032, Training Accuracy: 1518/2000 (0.759), Test Loss: 5.6550016, Test Accuracy: 722/1000 (0.722)\n",
            "Creating Training Dataset for Epoch 64\n",
            "Dataset Creation Completed\n",
            "[Epoch 64] Training Loss: 11.454555, Training Accuracy: 1448/2000 (0.724), Test Loss: 5.7009196, Test Accuracy: 714/1000 (0.714)\n",
            "Creating Training Dataset for Epoch 65\n",
            "Dataset Creation Completed\n",
            "[Epoch 65] Training Loss: 10.935549, Training Accuracy: 1505/2000 (0.7525), Test Loss: 5.7477183, Test Accuracy: 715/1000 (0.715)\n",
            "Creating Training Dataset for Epoch 66\n",
            "Dataset Creation Completed\n",
            "[Epoch 66] Training Loss: 10.971182, Training Accuracy: 1509/2000 (0.7545), Test Loss: 5.703586, Test Accuracy: 719/1000 (0.719)\n",
            "Creating Training Dataset for Epoch 67\n",
            "Dataset Creation Completed\n",
            "[Epoch 67] Training Loss: 11.068785, Training Accuracy: 1495/2000 (0.7475), Test Loss: 5.7332296, Test Accuracy: 714/1000 (0.714)\n",
            "Creating Training Dataset for Epoch 68\n",
            "Dataset Creation Completed\n",
            "[Epoch 68] Training Loss: 10.862183, Training Accuracy: 1521/2000 (0.7605), Test Loss: 5.614994, Test Accuracy: 719/1000 (0.719)\n",
            "Creating Training Dataset for Epoch 69\n",
            "Dataset Creation Completed\n",
            "[Epoch 69] Training Loss: 10.697848, Training Accuracy: 1542/2000 (0.771), Test Loss: 5.668821, Test Accuracy: 718/1000 (0.718)\n",
            "Creating Training Dataset for Epoch 70\n",
            "Dataset Creation Completed\n",
            "[Epoch 70] Training Loss: 11.15998, Training Accuracy: 1482/2000 (0.741), Test Loss: 6.060685, Test Accuracy: 682/1000 (0.682)\n",
            "Creating Training Dataset for Epoch 71\n",
            "Dataset Creation Completed\n",
            "[Epoch 71] Training Loss: 11.196567, Training Accuracy: 1482/2000 (0.741), Test Loss: 6.2978806, Test Accuracy: 656/1000 (0.656)\n",
            "Creating Training Dataset for Epoch 72\n",
            "Dataset Creation Completed\n",
            "[Epoch 72] Training Loss: 11.09977, Training Accuracy: 1488/2000 (0.744), Test Loss: 5.5866284, Test Accuracy: 730/1000 (0.73)\n",
            "Creating Training Dataset for Epoch 73\n",
            "Dataset Creation Completed\n",
            "[Epoch 73] Training Loss: 10.921366, Training Accuracy: 1497/2000 (0.7485), Test Loss: 6.0020323, Test Accuracy: 696/1000 (0.696)\n",
            "Creating Training Dataset for Epoch 74\n",
            "Dataset Creation Completed\n",
            "[Epoch 74] Training Loss: 10.950085, Training Accuracy: 1507/2000 (0.7535), Test Loss: 5.84315, Test Accuracy: 715/1000 (0.715)\n",
            "Creating Training Dataset for Epoch 75\n",
            "Dataset Creation Completed\n",
            "[Epoch 75] Training Loss: 10.934456, Training Accuracy: 1505/2000 (0.7525), Test Loss: 5.4931417, Test Accuracy: 748/1000 (0.748)\n",
            "Creating Training Dataset for Epoch 76\n",
            "Dataset Creation Completed\n",
            "[Epoch 76] Training Loss: 10.969622, Training Accuracy: 1504/2000 (0.752), Test Loss: 5.5712566, Test Accuracy: 736/1000 (0.736)\n",
            "Creating Training Dataset for Epoch 77\n",
            "Dataset Creation Completed\n",
            "[Epoch 77] Training Loss: 10.823165, Training Accuracy: 1507/2000 (0.7535), Test Loss: 5.6103797, Test Accuracy: 721/1000 (0.721)\n",
            "Creating Training Dataset for Epoch 78\n",
            "Dataset Creation Completed\n",
            "[Epoch 78] Training Loss: 10.777611, Training Accuracy: 1527/2000 (0.7635), Test Loss: 5.9359903, Test Accuracy: 698/1000 (0.698)\n",
            "Creating Training Dataset for Epoch 79\n",
            "Dataset Creation Completed\n",
            "[Epoch 79] Training Loss: 10.79472, Training Accuracy: 1508/2000 (0.754), Test Loss: 5.7068906, Test Accuracy: 721/1000 (0.721)\n",
            "Creating Training Dataset for Epoch 80\n",
            "Dataset Creation Completed\n",
            "[Epoch 80] Training Loss: 10.642644, Training Accuracy: 1532/2000 (0.766), Test Loss: 5.6075897, Test Accuracy: 725/1000 (0.725)\n",
            "Creating Training Dataset for Epoch 81\n",
            "Dataset Creation Completed\n",
            "[Epoch 81] Training Loss: 10.454523, Training Accuracy: 1561/2000 (0.7805), Test Loss: 5.5422115, Test Accuracy: 745/1000 (0.745)\n",
            "Creating Training Dataset for Epoch 82\n",
            "Dataset Creation Completed\n",
            "[Epoch 82] Training Loss: 10.834137, Training Accuracy: 1509/2000 (0.7545), Test Loss: 5.6649995, Test Accuracy: 720/1000 (0.72)\n",
            "Creating Training Dataset for Epoch 83\n",
            "Dataset Creation Completed\n",
            "[Epoch 83] Training Loss: 10.448144, Training Accuracy: 1561/2000 (0.7805), Test Loss: 5.592402, Test Accuracy: 726/1000 (0.726)\n",
            "Creating Training Dataset for Epoch 84\n",
            "Dataset Creation Completed\n",
            "[Epoch 84] Training Loss: 10.822002, Training Accuracy: 1522/2000 (0.761), Test Loss: 5.677222, Test Accuracy: 723/1000 (0.723)\n",
            "Creating Training Dataset for Epoch 85\n",
            "Dataset Creation Completed\n",
            "[Epoch 85] Training Loss: 10.844567, Training Accuracy: 1513/2000 (0.7565), Test Loss: 5.632569, Test Accuracy: 731/1000 (0.731)\n",
            "Creating Training Dataset for Epoch 86\n",
            "Dataset Creation Completed\n",
            "[Epoch 86] Training Loss: 10.485982, Training Accuracy: 1555/2000 (0.7775), Test Loss: 5.6958275, Test Accuracy: 727/1000 (0.727)\n",
            "Creating Training Dataset for Epoch 87\n",
            "Dataset Creation Completed\n",
            "[Epoch 87] Training Loss: 10.530013, Training Accuracy: 1548/2000 (0.774), Test Loss: 5.549421, Test Accuracy: 739/1000 (0.739)\n",
            "Creating Training Dataset for Epoch 88\n",
            "Dataset Creation Completed\n",
            "[Epoch 88] Training Loss: 10.840721, Training Accuracy: 1515/2000 (0.7575), Test Loss: 5.6401234, Test Accuracy: 722/1000 (0.722)\n",
            "Creating Training Dataset for Epoch 89\n",
            "Dataset Creation Completed\n",
            "[Epoch 89] Training Loss: 10.593215, Training Accuracy: 1535/2000 (0.7675), Test Loss: 5.6615458, Test Accuracy: 722/1000 (0.722)\n",
            "Creating Training Dataset for Epoch 90\n",
            "Dataset Creation Completed\n",
            "[Epoch 90] Training Loss: 10.692502, Training Accuracy: 1536/2000 (0.768), Test Loss: 5.6233196, Test Accuracy: 731/1000 (0.731)\n",
            "Creating Training Dataset for Epoch 91\n",
            "Dataset Creation Completed\n",
            "[Epoch 91] Training Loss: 10.509281, Training Accuracy: 1552/2000 (0.776), Test Loss: 5.7381315, Test Accuracy: 716/1000 (0.716)\n",
            "Creating Training Dataset for Epoch 92\n",
            "Dataset Creation Completed\n",
            "[Epoch 92] Training Loss: 10.544584, Training Accuracy: 1553/2000 (0.7765), Test Loss: 5.716152, Test Accuracy: 717/1000 (0.717)\n",
            "Creating Training Dataset for Epoch 93\n",
            "Dataset Creation Completed\n",
            "[Epoch 93] Training Loss: 10.343513, Training Accuracy: 1572/2000 (0.786), Test Loss: 5.5698543, Test Accuracy: 738/1000 (0.738)\n",
            "Creating Training Dataset for Epoch 94\n",
            "Dataset Creation Completed\n",
            "[Epoch 94] Training Loss: 10.369747, Training Accuracy: 1567/2000 (0.7835), Test Loss: 5.6505394, Test Accuracy: 722/1000 (0.722)\n",
            "Creating Training Dataset for Epoch 95\n",
            "Dataset Creation Completed\n",
            "[Epoch 95] Training Loss: 10.941441, Training Accuracy: 1516/2000 (0.758), Test Loss: 5.5434504, Test Accuracy: 738/1000 (0.738)\n",
            "Creating Training Dataset for Epoch 96\n",
            "Dataset Creation Completed\n",
            "[Epoch 96] Training Loss: 10.636274, Training Accuracy: 1531/2000 (0.7655), Test Loss: 5.6171136, Test Accuracy: 733/1000 (0.733)\n",
            "Creating Training Dataset for Epoch 97\n",
            "Dataset Creation Completed\n",
            "[Epoch 97] Training Loss: 10.386173, Training Accuracy: 1567/2000 (0.7835), Test Loss: 5.4840946, Test Accuracy: 743/1000 (0.743)\n",
            "Creating Training Dataset for Epoch 98\n",
            "Dataset Creation Completed\n",
            "[Epoch 98] Training Loss: 10.529608, Training Accuracy: 1555/2000 (0.7775), Test Loss: 5.6216617, Test Accuracy: 732/1000 (0.732)\n",
            "Creating Training Dataset for Epoch 99\n",
            "Dataset Creation Completed\n",
            "[Epoch 99] Training Loss: 10.121114, Training Accuracy: 1591/2000 (0.7955), Test Loss: 5.603561, Test Accuracy: 731/1000 (0.731)\n",
            "Creating Training Dataset for Epoch 100\n",
            "Dataset Creation Completed\n",
            "[Epoch 100] Training Loss: 10.357981, Training Accuracy: 1565/2000 (0.7825), Test Loss: 5.5980167, Test Accuracy: 736/1000 (0.736)\n"
          ],
          "name": "stdout"
        }
      ]
    },
    {
      "cell_type": "markdown",
      "metadata": {
        "id": "8K2cWGKwe5hz",
        "colab_type": "text"
      },
      "source": [
        "### Visualizing results of the training"
      ]
    },
    {
      "cell_type": "markdown",
      "metadata": {
        "id": "W-YeHX65e6l0",
        "colab_type": "text"
      },
      "source": [
        "We'll now visualize the results we get after training our network."
      ]
    },
    {
      "cell_type": "code",
      "metadata": {
        "id": "nmqhLD0UjLLo",
        "colab_type": "code",
        "outputId": "777cbbce-148d-47b5-9dfb-db0d2c0b0d18",
        "colab": {
          "base_uri": "https://localhost:8080/",
          "height": 550
        }
      },
      "source": [
        "plt.figure(figsize: [12, 8])\n",
        "plt.subplot(1, 2, 1)\n",
        "plt.xlabel(\"Number of Epochs\")\n",
        "plt.ylabel(\"Training Accuracy(l) vs Validation Accuracy(o)\")\n",
        "plt.plot(epochsRange, trainingAccuracy)\n",
        "plt.plot(epochsRange, validationAccuracy)\n",
        "var loc = \"lower right\"\n",
        "plt.legend(loc)\n",
        "plt.title(\"Training and Validation Accuracy\")\n",
        "\n",
        "plt.subplot(1, 2, 2)\n",
        "plt.xlabel(\"Number of Epochs\")\n",
        "plt.ylabel(\"Training Loss(u) vs Validation Loss(p)\")\n",
        "plt.plot(epochsRange, trainingLoss)\n",
        "plt.plot(epochsRange, validationLoss)\n",
        "loc = \"upper right\"\n",
        "plt.legend(loc)\n",
        "plt.title(\"Training and Validation Loss\")\n",
        "plt.show()"
      ],
      "execution_count": 18,
      "outputs": [
        {
          "output_type": "display_data",
          "data": {
            "image/png": "[encoded data removed]",
            "text/plain": [
              "<Figure size 864x576 with 2 Axes>"
            ]
          },
          "metadata": {
            "tags": []
          }
        },
        {
          "output_type": "execute_result",
          "data": {
            "text/plain": [
              "None\n"
            ]
          },
          "metadata": {
            "tags": []
          },
          "execution_count": 18
        }
      ]
    }
  ]
}